{
 "cells": [
  {
   "cell_type": "markdown",
   "metadata": {},
   "source": [
    "# 29-March-2021."
   ]
  },
  {
   "cell_type": "markdown",
   "metadata": {},
   "source": [
    "# Tuples"
   ]
  },
  {
   "cell_type": "code",
   "execution_count": null,
   "metadata": {},
   "outputs": [],
   "source": [
    "mt1 = tuple('python world')"
   ]
  },
  {
   "cell_type": "code",
   "execution_count": null,
   "metadata": {},
   "outputs": [],
   "source": [
    "mt1"
   ]
  },
  {
   "cell_type": "code",
   "execution_count": null,
   "metadata": {},
   "outputs": [],
   "source": [
    "print(type(mt1))"
   ]
  },
  {
   "cell_type": "code",
   "execution_count": null,
   "metadata": {},
   "outputs": [],
   "source": [
    "len(mt1)"
   ]
  },
  {
   "cell_type": "code",
   "execution_count": null,
   "metadata": {},
   "outputs": [],
   "source": [
    "mt1[0]"
   ]
  },
  {
   "cell_type": "code",
   "execution_count": null,
   "metadata": {},
   "outputs": [],
   "source": [
    "mt1[0] = 'c'"
   ]
  },
  {
   "cell_type": "code",
   "execution_count": null,
   "metadata": {},
   "outputs": [],
   "source": [
    "mylist1 = [22,33,44]\n",
    "print(mylist1)\n",
    "print(mylist1[0])\n",
    "mylist1[0] = 222\n",
    "print(mylist1)"
   ]
  },
  {
   "cell_type": "code",
   "execution_count": null,
   "metadata": {},
   "outputs": [],
   "source": [
    "mt1 = (22,33,44)\n",
    "print(mt1)\n",
    "print(mt1[0])\n",
    "mt1[0] = 222"
   ]
  },
  {
   "cell_type": "code",
   "execution_count": null,
   "metadata": {},
   "outputs": [],
   "source": [
    "mt1 = (222,333,[444,555,666], 777)\n",
    "print(mt1)\n",
    "print(mt1[0], type(mt1[0]))\n",
    "print(mt1[1], type(mt1[1]))\n",
    "print(mt1[2], type(mt1[2]))\n",
    "print(mt1[3], type(mt1[3]))"
   ]
  },
  {
   "cell_type": "code",
   "execution_count": null,
   "metadata": {},
   "outputs": [],
   "source": [
    "mt1[2] = 999"
   ]
  },
  {
   "cell_type": "code",
   "execution_count": null,
   "metadata": {},
   "outputs": [],
   "source": [
    "mt1[2][0]"
   ]
  },
  {
   "cell_type": "code",
   "execution_count": null,
   "metadata": {},
   "outputs": [],
   "source": [
    "mt1[2][0] = 444.555"
   ]
  },
  {
   "cell_type": "code",
   "execution_count": null,
   "metadata": {},
   "outputs": [],
   "source": [
    "mt1"
   ]
  },
  {
   "cell_type": "code",
   "execution_count": null,
   "metadata": {},
   "outputs": [],
   "source": [
    "mylist1 = [222,333,444, 'python', 555,666]"
   ]
  },
  {
   "cell_type": "code",
   "execution_count": null,
   "metadata": {},
   "outputs": [],
   "source": [
    "mylist1[0]"
   ]
  },
  {
   "cell_type": "code",
   "execution_count": null,
   "metadata": {},
   "outputs": [],
   "source": [
    "mylist1[0] = 222.999"
   ]
  },
  {
   "cell_type": "code",
   "execution_count": null,
   "metadata": {},
   "outputs": [],
   "source": [
    "mylist1"
   ]
  },
  {
   "cell_type": "code",
   "execution_count": null,
   "metadata": {},
   "outputs": [],
   "source": [
    "mylist1[3]"
   ]
  },
  {
   "cell_type": "code",
   "execution_count": null,
   "metadata": {},
   "outputs": [],
   "source": [
    "mylist1[3][0] = 'C'"
   ]
  },
  {
   "cell_type": "code",
   "execution_count": null,
   "metadata": {},
   "outputs": [],
   "source": [
    "type(mylist1[3])"
   ]
  },
  {
   "cell_type": "code",
   "execution_count": null,
   "metadata": {},
   "outputs": [],
   "source": [
    "mylist1"
   ]
  },
  {
   "cell_type": "code",
   "execution_count": null,
   "metadata": {},
   "outputs": [],
   "source": [
    "mylist1[3]"
   ]
  },
  {
   "cell_type": "code",
   "execution_count": null,
   "metadata": {},
   "outputs": [],
   "source": [
    "mylist1[3] = 8888"
   ]
  },
  {
   "cell_type": "code",
   "execution_count": null,
   "metadata": {},
   "outputs": [],
   "source": [
    "mylist1"
   ]
  },
  {
   "cell_type": "code",
   "execution_count": null,
   "metadata": {},
   "outputs": [],
   "source": [
    "mt1 = (123)\n",
    "print(mt1)\n",
    "print(type(mt1))"
   ]
  },
  {
   "cell_type": "code",
   "execution_count": null,
   "metadata": {},
   "outputs": [],
   "source": [
    "5+4*3"
   ]
  },
  {
   "cell_type": "code",
   "execution_count": null,
   "metadata": {},
   "outputs": [],
   "source": [
    "(5+4)*3"
   ]
  },
  {
   "cell_type": "code",
   "execution_count": null,
   "metadata": {},
   "outputs": [],
   "source": [
    "mt1 = (123)\n",
    "print(mt1)\n",
    "print(type(mt1))"
   ]
  },
  {
   "cell_type": "code",
   "execution_count": null,
   "metadata": {},
   "outputs": [],
   "source": [
    "mt1 = (123,)\n",
    "print(mt1)\n",
    "print(type(mt1))"
   ]
  },
  {
   "cell_type": "code",
   "execution_count": null,
   "metadata": {},
   "outputs": [],
   "source": [
    "mt1[0]"
   ]
  },
  {
   "cell_type": "code",
   "execution_count": null,
   "metadata": {},
   "outputs": [],
   "source": [
    "mt1[1]"
   ]
  },
  {
   "cell_type": "code",
   "execution_count": null,
   "metadata": {},
   "outputs": [],
   "source": [
    "mt1[-1]"
   ]
  },
  {
   "cell_type": "code",
   "execution_count": null,
   "metadata": {},
   "outputs": [],
   "source": [
    "mt2 = (1,2,3) + (4,5,6)\n",
    "print(mt2)\n",
    "print(type(mt2))"
   ]
  },
  {
   "cell_type": "code",
   "execution_count": null,
   "metadata": {},
   "outputs": [],
   "source": [
    "mt3 = (1,2,3) * 4\n",
    "print(mt3)\n",
    "print(type(mt3))\n",
    "\n",
    "mt4 = (1,2,3) + (1,2,3) + (1,2,3) + (1,2,3)\n",
    "print(mt4)"
   ]
  },
  {
   "cell_type": "code",
   "execution_count": null,
   "metadata": {},
   "outputs": [],
   "source": [
    "(1,2,3)  + [4,5,6]"
   ]
  },
  {
   "cell_type": "code",
   "execution_count": null,
   "metadata": {},
   "outputs": [],
   "source": [
    "(1,2,3) + ([4,5,6],)\n"
   ]
  },
  {
   "cell_type": "code",
   "execution_count": null,
   "metadata": {},
   "outputs": [],
   "source": [
    "mt1 = tuple('python worldof datasceince')\n",
    "print(mt1)\n",
    "print(type(mt1))\n",
    "print(len(mt1))"
   ]
  },
  {
   "cell_type": "code",
   "execution_count": null,
   "metadata": {},
   "outputs": [],
   "source": [
    "'y' in mt1"
   ]
  },
  {
   "cell_type": "code",
   "execution_count": null,
   "metadata": {},
   "outputs": [],
   "source": [
    "'z' in mt1"
   ]
  },
  {
   "cell_type": "code",
   "execution_count": null,
   "metadata": {},
   "outputs": [],
   "source": [
    "'z' not in mt1"
   ]
  },
  {
   "cell_type": "code",
   "execution_count": null,
   "metadata": {},
   "outputs": [],
   "source": [
    "'y' not in mt1"
   ]
  },
  {
   "cell_type": "code",
   "execution_count": null,
   "metadata": {},
   "outputs": [],
   "source": [
    "'good' in 'this is a good book'"
   ]
  },
  {
   "cell_type": "code",
   "execution_count": null,
   "metadata": {},
   "outputs": [],
   "source": [
    "'good' in ' this is a superb book'"
   ]
  },
  {
   "cell_type": "code",
   "execution_count": null,
   "metadata": {},
   "outputs": [],
   "source": [
    "accnumlist = [123,456,789,145,478,879]"
   ]
  },
  {
   "cell_type": "code",
   "execution_count": null,
   "metadata": {},
   "outputs": [],
   "source": [
    "478 in accnumlist"
   ]
  },
  {
   "cell_type": "code",
   "execution_count": null,
   "metadata": {},
   "outputs": [],
   "source": [
    "479 in accnumlist"
   ]
  },
  {
   "cell_type": "code",
   "execution_count": null,
   "metadata": {},
   "outputs": [],
   "source": [
    "if 898 not in accnumlist:\n",
    "    print('issue this accnum')"
   ]
  },
  {
   "cell_type": "code",
   "execution_count": null,
   "metadata": {},
   "outputs": [],
   "source": [
    "mt= ('python',2,[3,'a'])"
   ]
  },
  {
   "cell_type": "code",
   "execution_count": null,
   "metadata": {},
   "outputs": [],
   "source": [
    "'a' in mt[-1]"
   ]
  },
  {
   "cell_type": "code",
   "execution_count": null,
   "metadata": {},
   "outputs": [],
   "source": [
    "a=\"hello\"\n",
    "mylist2 = list(a)\n",
    "print(mylist2)\n",
    "print(a)\n"
   ]
  },
  {
   "cell_type": "code",
   "execution_count": null,
   "metadata": {},
   "outputs": [],
   "source": [
    "ms1 = 'hello'"
   ]
  },
  {
   "cell_type": "code",
   "execution_count": null,
   "metadata": {},
   "outputs": [],
   "source": [
    "type(ms1)"
   ]
  },
  {
   "cell_type": "code",
   "execution_count": null,
   "metadata": {},
   "outputs": [],
   "source": [
    "ms1[0]"
   ]
  },
  {
   "cell_type": "code",
   "execution_count": null,
   "metadata": {},
   "outputs": [],
   "source": [
    "type(ms1[0])"
   ]
  },
  {
   "cell_type": "code",
   "execution_count": null,
   "metadata": {},
   "outputs": [],
   "source": [
    "n1 = 1234\n",
    "mylist1 = list(n1)"
   ]
  },
  {
   "cell_type": "code",
   "execution_count": null,
   "metadata": {},
   "outputs": [],
   "source": [
    "str(93)"
   ]
  },
  {
   "cell_type": "code",
   "execution_count": null,
   "metadata": {},
   "outputs": [],
   "source": [
    "20('hello')"
   ]
  },
  {
   "cell_type": "code",
   "execution_count": null,
   "metadata": {},
   "outputs": [],
   "source": [
    "a=\"hello\"\n",
    "print(list(a))\n"
   ]
  },
  {
   "cell_type": "code",
   "execution_count": null,
   "metadata": {},
   "outputs": [],
   "source": []
  },
  {
   "cell_type": "code",
   "execution_count": null,
   "metadata": {},
   "outputs": [],
   "source": [
    "list = 20\n",
    "a=\"hello\"\n",
    "print(list(a))\n",
    "\n",
    "## after this restart your kernel again"
   ]
  },
  {
   "cell_type": "code",
   "execution_count": null,
   "metadata": {},
   "outputs": [],
   "source": [
    "dir(tuple)"
   ]
  },
  {
   "cell_type": "code",
   "execution_count": null,
   "metadata": {},
   "outputs": [],
   "source": [
    "mt1 = tuple('pythonworld')\n",
    "print(mt1)"
   ]
  },
  {
   "cell_type": "code",
   "execution_count": null,
   "metadata": {},
   "outputs": [],
   "source": [
    "help(tuple.count)"
   ]
  },
  {
   "cell_type": "code",
   "execution_count": null,
   "metadata": {},
   "outputs": [],
   "source": [
    "mt1.count('o')"
   ]
  },
  {
   "cell_type": "code",
   "execution_count": null,
   "metadata": {},
   "outputs": [],
   "source": [
    "print(mt1)\n",
    "mt1.index('o')"
   ]
  },
  {
   "cell_type": "code",
   "execution_count": null,
   "metadata": {},
   "outputs": [],
   "source": [
    "mt1.index('o',1,5)"
   ]
  },
  {
   "cell_type": "code",
   "execution_count": null,
   "metadata": {},
   "outputs": [],
   "source": [
    "mt1[1:5]"
   ]
  },
  {
   "cell_type": "code",
   "execution_count": null,
   "metadata": {},
   "outputs": [],
   "source": [
    "max([22,33,11,66,44,24])"
   ]
  },
  {
   "cell_type": "code",
   "execution_count": null,
   "metadata": {},
   "outputs": [],
   "source": [
    "min([22,33,11,66,44,24])"
   ]
  },
  {
   "cell_type": "code",
   "execution_count": null,
   "metadata": {},
   "outputs": [],
   "source": [
    "max((22,33,11,66,44,24))"
   ]
  },
  {
   "cell_type": "code",
   "execution_count": null,
   "metadata": {},
   "outputs": [],
   "source": [
    "o=(1,2,4,3,)\n",
    "\n",
    "f=()\n",
    "for i in o:\n",
    "    if i==4:\n",
    "        f+=(5,)\n",
    "    else:\n",
    "        f+=(i,)\n",
    "o=f\n",
    "print(o)\n",
    "print(f)"
   ]
  },
  {
   "cell_type": "code",
   "execution_count": null,
   "metadata": {},
   "outputs": [],
   "source": [
    "mt1 = ('abcd', 'efgh', 'pqrs')\n",
    "mt1[1] = 'wxyz'"
   ]
  },
  {
   "cell_type": "code",
   "execution_count": null,
   "metadata": {},
   "outputs": [],
   "source": [
    "mt1 = ('abcd', 'efgh', 'pqrs')\n",
    "print(1, mt1)\n",
    "mylist1 = list(mt1)\n",
    "print(2, mylist1)\n",
    "mylist1[1] = 'wxyz'\n",
    "print(3, mylist1)\n",
    "mt1 = tuple(mylist1)\n",
    "print(4, mt1)"
   ]
  },
  {
   "cell_type": "markdown",
   "metadata": {},
   "source": [
    "# Dictionary"
   ]
  },
  {
   "cell_type": "code",
   "execution_count": null,
   "metadata": {},
   "outputs": [],
   "source": [
    "md1 = {'Bank': 'SBI', 'Branch': 'MGRoad', 91:'India'}"
   ]
  },
  {
   "cell_type": "code",
   "execution_count": null,
   "metadata": {},
   "outputs": [],
   "source": [
    "print(type(md1))"
   ]
  },
  {
   "cell_type": "code",
   "execution_count": null,
   "metadata": {},
   "outputs": [],
   "source": [
    "md1[0]"
   ]
  },
  {
   "cell_type": "code",
   "execution_count": null,
   "metadata": {},
   "outputs": [],
   "source": [
    "md1[91]"
   ]
  },
  {
   "cell_type": "code",
   "execution_count": null,
   "metadata": {},
   "outputs": [],
   "source": [
    "md1['Bank']"
   ]
  },
  {
   "cell_type": "code",
   "execution_count": null,
   "metadata": {},
   "outputs": [],
   "source": [
    "md1"
   ]
  },
  {
   "cell_type": "code",
   "execution_count": null,
   "metadata": {},
   "outputs": [],
   "source": [
    "md1['City']"
   ]
  },
  {
   "cell_type": "code",
   "execution_count": null,
   "metadata": {},
   "outputs": [],
   "source": [
    "md1['City'] = 'Del'"
   ]
  },
  {
   "cell_type": "code",
   "execution_count": null,
   "metadata": {},
   "outputs": [],
   "source": [
    "md1"
   ]
  },
  {
   "cell_type": "code",
   "execution_count": null,
   "metadata": {},
   "outputs": [],
   "source": [
    "md1['City']"
   ]
  },
  {
   "cell_type": "code",
   "execution_count": null,
   "metadata": {},
   "outputs": [],
   "source": [
    "md1['Branch'] = 'Market'"
   ]
  },
  {
   "cell_type": "code",
   "execution_count": null,
   "metadata": {},
   "outputs": [],
   "source": [
    "md1"
   ]
  },
  {
   "cell_type": "code",
   "execution_count": null,
   "metadata": {},
   "outputs": [],
   "source": [
    "md2 = {'Bank': 'SBI', 'Branch': 'MGRoad', 91:'India', 'Branch': 'Market'}\n",
    "print(md2)"
   ]
  },
  {
   "cell_type": "code",
   "execution_count": null,
   "metadata": {},
   "outputs": [],
   "source": [
    "md2 = {'Bank': 'SBI', 'Branch': 'Blr', 91:'India', 'Branch': 'Del', 'City': 'Del'}\n",
    "print(md2)"
   ]
  },
  {
   "cell_type": "code",
   "execution_count": null,
   "metadata": {},
   "outputs": [],
   "source": [
    "md3 = {'Maths': [22,33,44,55], 'Science': [66,77,88,99]}\n",
    "print(md3)"
   ]
  },
  {
   "cell_type": "code",
   "execution_count": null,
   "metadata": {},
   "outputs": [],
   "source": [
    "dir(dict)"
   ]
  },
  {
   "cell_type": "code",
   "execution_count": null,
   "metadata": {},
   "outputs": [],
   "source": [
    "md1 = {'Bank': 'SBI', 'Branch': 'MgRoad', 91:'India', 'City': 'Blr'}\n",
    "print(md1)"
   ]
  },
  {
   "cell_type": "code",
   "execution_count": null,
   "metadata": {},
   "outputs": [],
   "source": [
    "len(md1)"
   ]
  },
  {
   "cell_type": "code",
   "execution_count": null,
   "metadata": {},
   "outputs": [],
   "source": [
    "mk = md1.keys()\n",
    "print(type(mk))\n",
    "print(mk)        #### list-like object\n",
    "mykeylist = list(mk)\n",
    "print(mykeylist)"
   ]
  },
  {
   "cell_type": "code",
   "execution_count": null,
   "metadata": {},
   "outputs": [],
   "source": [
    "mykeylist = list(md1.keys())\n",
    "print(mykeylist)"
   ]
  },
  {
   "cell_type": "code",
   "execution_count": null,
   "metadata": {},
   "outputs": [],
   "source": [
    "myvaluelist = list(md1.values())\n",
    "print(myvaluelist)"
   ]
  },
  {
   "cell_type": "code",
   "execution_count": null,
   "metadata": {},
   "outputs": [],
   "source": [
    "myitemlist = list(md1.items())\n",
    "print(myitemlist)"
   ]
  },
  {
   "cell_type": "code",
   "execution_count": null,
   "metadata": {},
   "outputs": [],
   "source": [
    "print(md1)\n",
    "mi = md1.items()\n",
    "print(type(mi))\n",
    "print(mi)        #### list-like object\n",
    "myitemlist = list(mi)\n",
    "print(myitemlist)"
   ]
  },
  {
   "cell_type": "code",
   "execution_count": null,
   "metadata": {},
   "outputs": [],
   "source": [
    "print(md1)\n",
    "#mi = md1.items()\n",
    "print(type(md1.items()))"
   ]
  },
  {
   "cell_type": "code",
   "execution_count": null,
   "metadata": {},
   "outputs": [],
   "source": [
    "list(md1)"
   ]
  },
  {
   "cell_type": "code",
   "execution_count": null,
   "metadata": {},
   "outputs": [],
   "source": [
    "md1"
   ]
  },
  {
   "cell_type": "code",
   "execution_count": null,
   "metadata": {},
   "outputs": [],
   "source": [
    "md1['Branch']"
   ]
  },
  {
   "cell_type": "code",
   "execution_count": null,
   "metadata": {},
   "outputs": [],
   "source": [
    "md1['Branch'] = ['Mgroad', 'Market', 'Majestic']"
   ]
  },
  {
   "cell_type": "code",
   "execution_count": null,
   "metadata": {},
   "outputs": [],
   "source": [
    "md1"
   ]
  },
  {
   "cell_type": "code",
   "execution_count": null,
   "metadata": {},
   "outputs": [],
   "source": [
    "print(md1)"
   ]
  },
  {
   "cell_type": "code",
   "execution_count": null,
   "metadata": {},
   "outputs": [],
   "source": [
    "md1['Branch'].append('Vijaynagar')"
   ]
  },
  {
   "cell_type": "code",
   "execution_count": null,
   "metadata": {},
   "outputs": [],
   "source": [
    "md1"
   ]
  },
  {
   "cell_type": "code",
   "execution_count": null,
   "metadata": {},
   "outputs": [],
   "source": [
    "md1['Bank'].append('Vijaynagar')  ### error"
   ]
  },
  {
   "cell_type": "markdown",
   "metadata": {},
   "source": [
    "31-3-2021"
   ]
  },
  {
   "cell_type": "code",
   "execution_count": null,
   "metadata": {},
   "outputs": [],
   "source": [
    "md1 = {'Bank': 'SBI', 'Branch': 'MgRoad', 91:'India', 'City': 'Blr'}\n",
    "print(md1)"
   ]
  },
  {
   "cell_type": "code",
   "execution_count": null,
   "metadata": {},
   "outputs": [],
   "source": [
    "x = md1.get('Branch')\n",
    "print(x)"
   ]
  },
  {
   "cell_type": "code",
   "execution_count": null,
   "metadata": {},
   "outputs": [],
   "source": [
    "x = md1.get('Branch1')\n",
    "print(x)"
   ]
  },
  {
   "cell_type": "code",
   "execution_count": null,
   "metadata": {},
   "outputs": [],
   "source": [
    "x = md1.get('Hello', 'Unknown')\n",
    "print(x)"
   ]
  },
  {
   "cell_type": "code",
   "execution_count": null,
   "metadata": {},
   "outputs": [],
   "source": [
    "x = md1.get('Branch', 'Unknown')\n",
    "print(x)"
   ]
  },
  {
   "cell_type": "code",
   "execution_count": null,
   "metadata": {},
   "outputs": [],
   "source": [
    "x = md1.get(('Branch', 'City'))\n",
    "print(x)"
   ]
  },
  {
   "cell_type": "code",
   "execution_count": null,
   "metadata": {},
   "outputs": [],
   "source": [
    "md1 = {'Bank': 'SBI', 'Branch': 'MgRoad', 91:'India', 'City': 'Blr'}\n",
    "print(md1)"
   ]
  },
  {
   "cell_type": "code",
   "execution_count": null,
   "metadata": {},
   "outputs": [],
   "source": [
    "md1 = {'Bank': 'SBI', 'Branch': 'MgRoad', 91:'India', 'City': 'Blr'}\n",
    "print(md1)\n",
    "x = md1.pop('Branch')\n",
    "print(x)\n",
    "print(md1)"
   ]
  },
  {
   "cell_type": "code",
   "execution_count": null,
   "metadata": {},
   "outputs": [],
   "source": [
    "md1 = {'Bank': 'SBI', 'Branch': 'MgRoad', 91:'India', 'City': 'Blr'}\n",
    "print(md1)\n",
    "x = md1.pop('Branch1')\n",
    "print(x)\n",
    "print(md1)"
   ]
  },
  {
   "cell_type": "code",
   "execution_count": null,
   "metadata": {},
   "outputs": [],
   "source": [
    "md1 = {'Bank': 'SBI', 'Branch': 'MgRoad', 91:'India', 'City': 'Blr'}\n",
    "print(md1)\n",
    "x = md1.pop('Branch1', 'KeyNotAvailable')\n",
    "print(x)\n",
    "print(md1)"
   ]
  },
  {
   "cell_type": "code",
   "execution_count": null,
   "metadata": {},
   "outputs": [],
   "source": [
    "md1 = {'Bank': 'SBI', 'Branch': 'MgRoad', 91:'India', 'City': 'Blr'}\n",
    "print(md1)\n",
    "x = md1.pop('Branch', 'KeyNotAvailable')\n",
    "print(x)\n",
    "print(md1)"
   ]
  },
  {
   "cell_type": "code",
   "execution_count": null,
   "metadata": {},
   "outputs": [],
   "source": [
    "md1 = {}\n",
    "print(md1)\n",
    "x = md1.pop('Branch', 'KeyNotAvailable')\n",
    "print(x)\n",
    "print(md1)"
   ]
  },
  {
   "cell_type": "code",
   "execution_count": null,
   "metadata": {},
   "outputs": [],
   "source": [
    "md1 = {}\n",
    "print(md1)\n",
    "x = md1.pop('Branch')\n",
    "print(x)\n",
    "print(md1)"
   ]
  },
  {
   "cell_type": "code",
   "execution_count": null,
   "metadata": {},
   "outputs": [],
   "source": [
    "md1 = {}\n",
    "print(md1)\n",
    "x = md1.get('Branch')\n",
    "print(x)\n",
    "print(md1)"
   ]
  },
  {
   "cell_type": "code",
   "execution_count": null,
   "metadata": {},
   "outputs": [],
   "source": [
    "md1 = {'Bank': 'SBI', 'Branch': 'MgRoad', 91:'India', 'City': 'Blr'}\n",
    "print(md1)\n",
    "\n",
    "md2 = {'State': 'KA', 'City' : 'Mysore'}\n",
    "print(md2)\n",
    "print()\n",
    "md1.update(md2) ## new keys will get added, existing keys will get modified\n",
    "print(md1)"
   ]
  },
  {
   "cell_type": "code",
   "execution_count": null,
   "metadata": {},
   "outputs": [],
   "source": [
    "md1 = {'Bank': 'SBI', 'Branch': 'MgRoad', 91:'India', 'City': 'Blr'}\n",
    "print(md1)\n",
    "x = md1.setdefault('State')\n",
    "print(x)\n",
    "print(md1)"
   ]
  },
  {
   "cell_type": "code",
   "execution_count": null,
   "metadata": {},
   "outputs": [],
   "source": [
    "md1 = {'Bank': 'SBI', 'Branch': 'MgRoad', 91:'India', 'City': 'Blr'}\n",
    "print(md1)\n",
    "x = md1.setdefault('State', 'KA')\n",
    "print(x)\n",
    "print(md1)"
   ]
  },
  {
   "cell_type": "code",
   "execution_count": 1,
   "metadata": {},
   "outputs": [
    {
     "name": "stdout",
     "output_type": "stream",
     "text": [
      "{'Bank': 'SBI', 'Branch': 'MgRoad', 91: 'India', 'City': 'Blr'}\n",
      "MgRoad\n",
      "{'Bank': 'SBI', 'Branch': 'MgRoad', 91: 'India', 'City': 'Blr'}\n"
     ]
    }
   ],
   "source": [
    "md1 = {'Bank': 'SBI', 'Branch': 'MgRoad', 91:'India', 'City': 'Blr'}\n",
    "print(md1)\n",
    "x = md1.setdefault('Branch')\n",
    "print(x)\n",
    "print(md1)"
   ]
  },
  {
   "cell_type": "code",
   "execution_count": 3,
   "metadata": {},
   "outputs": [
    {
     "name": "stdout",
     "output_type": "stream",
     "text": [
      "{'Bank': 'SBI', 'Branch': 'MgRoad', 91: 'India', 'City': 'Blr'}\n",
      "MgRoad\n",
      "{'Bank': 'SBI', 'Branch': 'MgRoad', 91: 'India', 'City': 'Blr'}\n"
     ]
    }
   ],
   "source": [
    "md1 = {'Bank': 'SBI', 'Branch': 'MgRoad', 91:'India', 'City': 'Blr'}\n",
    "print(md1)\n",
    "x = md1.setdefault('Branch', 'Market')\n",
    "print(x)\n",
    "print(md1)"
   ]
  },
  {
   "cell_type": "code",
   "execution_count": 4,
   "metadata": {},
   "outputs": [
    {
     "name": "stdout",
     "output_type": "stream",
     "text": [
      "{'Bank': None, 'City': None, 'Branch': None}\n"
     ]
    }
   ],
   "source": [
    "mt1 = ('Bank', 'City', 'Branch')\n",
    "md1 = dict.fromkeys(mt1)\n",
    "print(md1)"
   ]
  },
  {
   "cell_type": "code",
   "execution_count": 5,
   "metadata": {},
   "outputs": [
    {
     "name": "stdout",
     "output_type": "stream",
     "text": [
      "{'Bank': ('SBI', 'Blr', 'MGROAD'), 'City': ('SBI', 'Blr', 'MGROAD'), 'Branch': ('SBI', 'Blr', 'MGROAD')}\n"
     ]
    }
   ],
   "source": [
    "mt1 = ('Bank', 'City', 'Branch')\n",
    "mt2 = ('SBI', 'Blr', 'MGROAD')\n",
    "md1 = dict.fromkeys(mt1,mt2)\n",
    "print(md1)"
   ]
  },
  {
   "cell_type": "code",
   "execution_count": null,
   "metadata": {},
   "outputs": [],
   "source": [
    "mt1 = ('Bank', 'City', 'Branch')\n",
    "mt2 = ('SBI', 'Blr', 'MGROAD')\n",
    "## md1 = {'Bank': 'SBI', 'City':'Blr', 'Branch':'MGROAD'}"
   ]
  },
  {
   "cell_type": "code",
   "execution_count": 6,
   "metadata": {},
   "outputs": [
    {
     "name": "stdout",
     "output_type": "stream",
     "text": [
      "<class 'zip'>\n",
      "<zip object at 0x0000020091F84BC0>\n",
      "[('Bank', 'SBI'), ('City', 'Blr'), ('Branch', 'MGROAD')]\n",
      "[]\n"
     ]
    }
   ],
   "source": [
    "mt1 = ('Bank', 'City', 'Branch')\n",
    "mt2 = ('SBI', 'Blr', 'MGROAD')\n",
    "z = zip(mt1,mt2)   ## zip return an o/p, which can be consumed only once. it is called ITERATOR.. temporary one time readable container of values\n",
    "print(type(z))\n",
    "print(z)\n",
    "print(list(z))\n",
    "print(list(z))"
   ]
  },
  {
   "cell_type": "code",
   "execution_count": 7,
   "metadata": {},
   "outputs": [
    {
     "name": "stdout",
     "output_type": "stream",
     "text": [
      "<class 'zip'>\n",
      "[('Bank', 'SBI'), ('City', 'Blr'), ('Branch', 'MGROAD')]\n",
      "{'Bank': 'SBI', 'City': 'Blr', 'Branch': 'MGROAD'}\n"
     ]
    }
   ],
   "source": [
    "mt1 = ('Bank', 'City', 'Branch')\n",
    "mt2 = ('SBI', 'Blr', 'MGROAD')\n",
    "z = zip(mt1,mt2)   ## zip return an o/p, which can be consumed only once. it is called ITERATOR.. temporary one time readable container of values\n",
    "print(type(z))\n",
    "mylist1 = list(z)\n",
    "print(mylist1)\n",
    "md1 = dict(mylist1)\n",
    "print(md1)"
   ]
  },
  {
   "cell_type": "code",
   "execution_count": 8,
   "metadata": {},
   "outputs": [
    {
     "name": "stdout",
     "output_type": "stream",
     "text": [
      "{'Bank': 'Blr', 'City': 'MGROAD', 'Branch': 'SBI'}\n"
     ]
    }
   ],
   "source": [
    "mt1 = ('Bank', 'City', 'Branch')\n",
    "mt2 = ('Blr', 'MGROAD','SBI', )\n",
    "md1 = dict(zip(mt1,mt2))\n",
    "print(md1)"
   ]
  },
  {
   "cell_type": "code",
   "execution_count": null,
   "metadata": {},
   "outputs": [],
   "source": [
    "mt1 = ('Bank', 'City', 'Branch', 91)\n",
    "mt2 = ('Blr', 'MGROAD','SBI', )\n",
    "md1 = dict(zip(mt1,mt2))\n",
    "print(md1)"
   ]
  },
  {
   "cell_type": "code",
   "execution_count": 9,
   "metadata": {},
   "outputs": [
    {
     "name": "stdout",
     "output_type": "stream",
     "text": [
      "[11, 22, 33]\n",
      "[11, 22, 33]\n"
     ]
    }
   ],
   "source": [
    "mylist1 = [11,22,33]   ###  list or tuple is called an ITERABLE.. because they persist in memory.\n",
    "print(mylist1)\n",
    "print(mylist1)"
   ]
  },
  {
   "cell_type": "code",
   "execution_count": 10,
   "metadata": {},
   "outputs": [
    {
     "ename": "NameError",
     "evalue": "name 'md2' is not defined",
     "output_type": "error",
     "traceback": [
      "\u001b[1;31m---------------------------------------------------------------------------\u001b[0m",
      "\u001b[1;31mNameError\u001b[0m                                 Traceback (most recent call last)",
      "\u001b[1;32m<ipython-input-10-534435e2bed8>\u001b[0m in \u001b[0;36m<module>\u001b[1;34m\u001b[0m\n\u001b[1;32m----> 1\u001b[1;33m \u001b[0mmd1\u001b[0m \u001b[1;33m=\u001b[0m \u001b[1;33m{\u001b[0m \u001b[1;36m2\u001b[0m\u001b[1;33m:\u001b[0m\u001b[1;34m\"python\"\u001b[0m\u001b[1;33m,\u001b[0m\u001b[1;34m\"100\"\u001b[0m\u001b[1;33m:\u001b[0m\u001b[0mmd2\u001b[0m\u001b[1;33m}\u001b[0m\u001b[1;33m\u001b[0m\u001b[1;33m\u001b[0m\u001b[0m\n\u001b[0m\u001b[0;32m      2\u001b[0m \u001b[0mmd2\u001b[0m\u001b[1;33m=\u001b[0m\u001b[1;33m{\u001b[0m\u001b[1;34m\"innerdict\"\u001b[0m\u001b[1;33m:\u001b[0m\u001b[1;33m{\u001b[0m\u001b[1;34m\"innerdict1\"\u001b[0m\u001b[1;33m:\u001b[0m \u001b[1;36m1234\u001b[0m\u001b[1;33m}\u001b[0m\u001b[1;33m,\u001b[0m\u001b[1;36m7\u001b[0m\u001b[1;33m:\u001b[0m\u001b[1;36m0\u001b[0m\u001b[1;33m}\u001b[0m\u001b[1;33m\u001b[0m\u001b[1;33m\u001b[0m\u001b[0m\n\u001b[0;32m      3\u001b[0m \u001b[0mz\u001b[0m \u001b[1;33m=\u001b[0m \u001b[0mzip\u001b[0m\u001b[1;33m(\u001b[0m\u001b[0mmd1\u001b[0m\u001b[1;33m,\u001b[0m\u001b[0mmd2\u001b[0m\u001b[1;33m)\u001b[0m\u001b[1;33m\u001b[0m\u001b[1;33m\u001b[0m\u001b[0m\n\u001b[0;32m      4\u001b[0m \u001b[0mprint\u001b[0m\u001b[1;33m(\u001b[0m\u001b[0mlist\u001b[0m\u001b[1;33m(\u001b[0m\u001b[0mz\u001b[0m\u001b[1;33m)\u001b[0m\u001b[1;33m)\u001b[0m\u001b[1;33m\u001b[0m\u001b[1;33m\u001b[0m\u001b[0m\n",
      "\u001b[1;31mNameError\u001b[0m: name 'md2' is not defined"
     ]
    }
   ],
   "source": [
    "md1 = { 2:\"python\",\"100\":md2}\n",
    "md2={\"innerdict\":{\"innerdict1\": 1234},7:0}\n",
    "z = zip(md1,md2)\n",
    "print(list(z))"
   ]
  },
  {
   "cell_type": "code",
   "execution_count": null,
   "metadata": {},
   "outputs": [],
   "source": [
    "list(md1)"
   ]
  },
  {
   "cell_type": "code",
   "execution_count": null,
   "metadata": {},
   "outputs": [],
   "source": [
    "list(md2)"
   ]
  },
  {
   "cell_type": "code",
   "execution_count": null,
   "metadata": {},
   "outputs": [],
   "source": [
    "md1"
   ]
  },
  {
   "cell_type": "code",
   "execution_count": null,
   "metadata": {},
   "outputs": [],
   "source": [
    "list(md1.keys())"
   ]
  },
  {
   "cell_type": "code",
   "execution_count": null,
   "metadata": {},
   "outputs": [],
   "source": [
    "mt1 = ('Bank', 'City', 'Branch', 'Bank')\n",
    "mt2 = ('SBI', 'Blr', 'MGROAD', 'Axis' )\n",
    "md1 = dict(zip(mt1,mt2))\n",
    "print(md1)"
   ]
  },
  {
   "cell_type": "markdown",
   "metadata": {},
   "source": [
    "# Sets"
   ]
  },
  {
   "cell_type": "code",
   "execution_count": null,
   "metadata": {},
   "outputs": [],
   "source": [
    "myset1 = {2,4,6,8,10,2,4,6}\n",
    "print(myset1)\n",
    "print(len(myset1))\n",
    "print(type(myset1))"
   ]
  },
  {
   "cell_type": "code",
   "execution_count": null,
   "metadata": {},
   "outputs": [],
   "source": [
    "mylist1 = [2,4,6,8,10,2,4,6]\n",
    "print(mylist1)\n",
    "print(len(mylist1))\n",
    "print(type(mylist1))\n",
    "print()\n",
    "newset1 = set(mylist1)\n",
    "print(newset1)\n",
    "print(len(newset1))\n",
    "print(type(newset1))\n",
    "print()\n",
    "mylist1 = list(newset1)\n",
    "print(mylist1)\n",
    "print(len(mylist1))\n",
    "print(type(mylist1))"
   ]
  },
  {
   "cell_type": "code",
   "execution_count": null,
   "metadata": {},
   "outputs": [],
   "source": [
    "mylist1 = [2,4,6,8,10,2,4,6]\n",
    "mylist1 = list(set(mylist1))\n",
    "print(mylist1)"
   ]
  },
  {
   "cell_type": "code",
   "execution_count": null,
   "metadata": {},
   "outputs": [],
   "source": [
    "myset1 = set()\n",
    "print(len(myset1))\n",
    "print(type(myset1))\n",
    "\n",
    "myset1.add(20)\n",
    "myset1.add(30)\n",
    "myset1.add(50)\n",
    "myset1.add(40)\n",
    "myset1.add(20)\n",
    "print(myset1)\n"
   ]
  },
  {
   "cell_type": "code",
   "execution_count": null,
   "metadata": {},
   "outputs": [],
   "source": [
    "dir(set)"
   ]
  },
  {
   "cell_type": "code",
   "execution_count": null,
   "metadata": {},
   "outputs": [],
   "source": [
    "myset1 = {2,4,6,8,10}\n",
    "x = myset1.pop(); print(x)\n",
    "print(myset1)"
   ]
  },
  {
   "cell_type": "code",
   "execution_count": null,
   "metadata": {},
   "outputs": [],
   "source": [
    "myset1[0]"
   ]
  },
  {
   "cell_type": "code",
   "execution_count": null,
   "metadata": {},
   "outputs": [],
   "source": [
    "s1 = {2,4,6,1,3,5, (100,200,300)}\n",
    "s2 = {2,4,6,11,13,15}"
   ]
  },
  {
   "cell_type": "code",
   "execution_count": null,
   "metadata": {},
   "outputs": [],
   "source": [
    "s1.intersection(s2)"
   ]
  },
  {
   "cell_type": "code",
   "execution_count": null,
   "metadata": {},
   "outputs": [],
   "source": [
    "s1.union(s2)"
   ]
  },
  {
   "cell_type": "code",
   "execution_count": null,
   "metadata": {},
   "outputs": [],
   "source": [
    "s1.symmetric_difference(s2)"
   ]
  },
  {
   "cell_type": "markdown",
   "metadata": {},
   "source": [
    "# Decision Making"
   ]
  },
  {
   "cell_type": "code",
   "execution_count": null,
   "metadata": {},
   "outputs": [],
   "source": [
    "for value in \"PyTHONwORLD\":\n",
    "    print(value)\n",
    "    if value.islower():\n",
    "        print('lowercase')"
   ]
  },
  {
   "cell_type": "code",
   "execution_count": null,
   "metadata": {},
   "outputs": [],
   "source": [
    "ord('$')"
   ]
  },
  {
   "cell_type": "code",
   "execution_count": null,
   "metadata": {},
   "outputs": [],
   "source": [
    "chr(36)"
   ]
  },
  {
   "cell_type": "code",
   "execution_count": null,
   "metadata": {},
   "outputs": [],
   "source": [
    "ord('A')"
   ]
  },
  {
   "cell_type": "code",
   "execution_count": null,
   "metadata": {},
   "outputs": [],
   "source": [
    "for letter in 'python':\n",
    "    print(letter)\n",
    "    \n",
    "print('hello')\n",
    "print('world')\n",
    "print(23+45)"
   ]
  },
  {
   "cell_type": "markdown",
   "metadata": {},
   "source": [
    "# 05-Apr-2021"
   ]
  },
  {
   "cell_type": "markdown",
   "metadata": {},
   "source": [
    "# Loops Continued"
   ]
  },
  {
   "cell_type": "code",
   "execution_count": null,
   "metadata": {},
   "outputs": [],
   "source": [
    "r = range(10)\n",
    "print(r)\n",
    "print(type(r))\n",
    "print(list(r))\n",
    "print(list(r))\n",
    "print(tuple(r))"
   ]
  },
  {
   "cell_type": "code",
   "execution_count": null,
   "metadata": {},
   "outputs": [],
   "source": [
    "print(list(range(10)))"
   ]
  },
  {
   "cell_type": "code",
   "execution_count": null,
   "metadata": {},
   "outputs": [],
   "source": [
    "print(list(range(20)))"
   ]
  },
  {
   "cell_type": "code",
   "execution_count": null,
   "metadata": {},
   "outputs": [],
   "source": [
    "print(list(range(10,20)))"
   ]
  },
  {
   "cell_type": "code",
   "execution_count": null,
   "metadata": {},
   "outputs": [],
   "source": [
    "print(list(range(10,30)))"
   ]
  },
  {
   "cell_type": "code",
   "execution_count": null,
   "metadata": {},
   "outputs": [],
   "source": [
    "r = range(10,30,2)\n",
    "mylist = list(r)\n",
    "print(mylist)"
   ]
  },
  {
   "cell_type": "code",
   "execution_count": null,
   "metadata": {},
   "outputs": [],
   "source": [
    "## 20,19,18,17,16,15\n",
    "\n",
    "print(list(range(20,14,-1)))"
   ]
  },
  {
   "cell_type": "code",
   "execution_count": null,
   "metadata": {},
   "outputs": [],
   "source": [
    "print(list(range(10,15,1)))\n",
    "\n",
    "\n",
    "##  10,11,12,13,14,  ########15,16,17,18,19,....."
   ]
  },
  {
   "cell_type": "code",
   "execution_count": null,
   "metadata": {},
   "outputs": [],
   "source": [
    "print(list(range(20,14,-1)))\n",
    "\n",
    "## 20, 19,18,17,16,15, ########14,13,12...."
   ]
  },
  {
   "cell_type": "code",
   "execution_count": null,
   "metadata": {},
   "outputs": [],
   "source": [
    "print(list(range(20,14,-2)))\n",
    "\n",
    "\n",
    "##20, 18,16,####  14,12,10..."
   ]
  },
  {
   "cell_type": "code",
   "execution_count": null,
   "metadata": {},
   "outputs": [],
   "source": [
    "r = range(10,5,1)\n",
    "\n",
    "## 10,11,12,13....\n",
    "print(r)\n",
    "print(list(r))"
   ]
  },
  {
   "cell_type": "code",
   "execution_count": null,
   "metadata": {},
   "outputs": [],
   "source": [
    "r = range(10.2,15.9,1.2)\n",
    "print(list(r))"
   ]
  },
  {
   "cell_type": "code",
   "execution_count": null,
   "metadata": {},
   "outputs": [],
   "source": [
    "print(list(range(30,61,2)))"
   ]
  },
  {
   "cell_type": "code",
   "execution_count": null,
   "metadata": {},
   "outputs": [],
   "source": [
    "print(list(range(30,60,2)))"
   ]
  },
  {
   "cell_type": "code",
   "execution_count": null,
   "metadata": {},
   "outputs": [],
   "source": [
    "m = int(input('enter the marks obtained'))\n",
    "\n",
    "if(m<35):\n",
    "    print(\"you are failed, you need \",35-m,'more marks to pass')\n",
    "elif(35<=m<=50):\n",
    "    print('you passed, you need', 50-m,'more marks to get into second class')\n",
    "elif(50<=m<=60):\n",
    "    print('you passed in second class, you need', 60-m,'more marks to get into first class')\n",
    "elif(60<=m<=70):\n",
    "    print('you passed in first class, you need', 70-m,'more marks to get into Distinction')\n",
    "else:\n",
    "    print('you passed in Distinction')\n"
   ]
  },
  {
   "cell_type": "code",
   "execution_count": null,
   "metadata": {},
   "outputs": [],
   "source": [
    "num = 10\n",
    "while(num <= 30):\n",
    "    print(num)\n",
    "    num = num + 1\n"
   ]
  },
  {
   "cell_type": "code",
   "execution_count": null,
   "metadata": {},
   "outputs": [],
   "source": [
    "lower_number = 10\n",
    "upper_number = 30\n",
    "while(lower_number <= upper_number):\n",
    "    print(lower_number)\n",
    "    lower_number = lower_number + 1\n",
    "    \n",
    "    \n",
    "\n"
   ]
  },
  {
   "cell_type": "raw",
   "metadata": {},
   "source": [
    "### grammer  for while loop\n",
    "\n",
    "while condition:   ## condition should be based on the LoopControlVariable\n",
    "   statement1\n",
    "   statement2\n",
    "   statement3\n",
    "   ...\n",
    "   ...\n",
    "   last_statement"
   ]
  },
  {
   "cell_type": "code",
   "execution_count": null,
   "metadata": {},
   "outputs": [],
   "source": [
    "350...500 "
   ]
  },
  {
   "cell_type": "code",
   "execution_count": null,
   "metadata": {},
   "outputs": [],
   "source": [
    "lower_number = 350\n",
    "upper_number = 500\n",
    "while(lower_number <= upper_number):\n",
    "    if lower_number % 7 == 0:\n",
    "        print(lower_number)\n",
    "    lower_number = lower_number + 1"
   ]
  },
  {
   "cell_type": "code",
   "execution_count": null,
   "metadata": {},
   "outputs": [],
   "source": [
    "lower_number = 350\n",
    "upper_number = 500\n",
    "while(lower_number <= upper_number and lower_number % 7 == 0):\n",
    "    print(lower_number)\n",
    "    lower_number = lower_number + 7"
   ]
  },
  {
   "cell_type": "code",
   "execution_count": null,
   "metadata": {},
   "outputs": [],
   "source": [
    "i=349\n",
    "while (i<=500):\n",
    "    while i%7==0:\n",
    "        print(i)\n",
    "        break\n",
    "    i+=1\n"
   ]
  },
  {
   "cell_type": "code",
   "execution_count": null,
   "metadata": {},
   "outputs": [],
   "source": [
    "for num in range(10,30,2):\n",
    "    print(num)\n",
    "\n",
    "print('Done')"
   ]
  },
  {
   "cell_type": "code",
   "execution_count": null,
   "metadata": {},
   "outputs": [],
   "source": [
    "r = range(30,10,-2)\n",
    "for num in r:\n",
    "    print(num)\n",
    "\n",
    "print('Done')"
   ]
  },
  {
   "cell_type": "code",
   "execution_count": null,
   "metadata": {},
   "outputs": [],
   "source": [
    "md1 = {'Bank': 'SBI', 'Branch':'MGROAD', 'City':'Blr'}"
   ]
  },
  {
   "cell_type": "code",
   "execution_count": null,
   "metadata": {},
   "outputs": [],
   "source": [
    "for k in md1.keys():\n",
    "    print(k)"
   ]
  },
  {
   "cell_type": "code",
   "execution_count": null,
   "metadata": {},
   "outputs": [],
   "source": [
    "for v in md1.values():\n",
    "    print(v)"
   ]
  },
  {
   "cell_type": "code",
   "execution_count": null,
   "metadata": {},
   "outputs": [],
   "source": [
    "for i in md1.items():\n",
    "    print(i)"
   ]
  },
  {
   "cell_type": "code",
   "execution_count": null,
   "metadata": {},
   "outputs": [],
   "source": [
    "list(md1.items())"
   ]
  },
  {
   "cell_type": "code",
   "execution_count": null,
   "metadata": {},
   "outputs": [],
   "source": [
    "a,b = 10,20    ### positional mapping\n",
    "print(a)\n",
    "print(b)"
   ]
  },
  {
   "cell_type": "code",
   "execution_count": null,
   "metadata": {},
   "outputs": [],
   "source": [
    "a,b,c = 10,20    ###  statement is ambiguous"
   ]
  },
  {
   "cell_type": "code",
   "execution_count": null,
   "metadata": {},
   "outputs": [],
   "source": [
    "a,b,c = 10,20,30,40    ###  statement is ambiguous"
   ]
  },
  {
   "cell_type": "code",
   "execution_count": null,
   "metadata": {},
   "outputs": [],
   "source": [
    "a = 10,20,30,40,50    ### packing of values as a tuple, becuase there is only one variable\n",
    "print(a)\n",
    "print(type(a))\n",
    "for item in a:\n",
    "    print(item)"
   ]
  },
  {
   "cell_type": "code",
   "execution_count": null,
   "metadata": {},
   "outputs": [],
   "source": [
    "a = (10,20)\n",
    "print(a)"
   ]
  },
  {
   "cell_type": "code",
   "execution_count": null,
   "metadata": {},
   "outputs": [],
   "source": [
    "a,b = (10,20)   ### tuple will be unpacked\n",
    "print(a)\n",
    "print(b)"
   ]
  },
  {
   "cell_type": "code",
   "execution_count": null,
   "metadata": {},
   "outputs": [],
   "source": [
    "a,b = (10,20,30)   #\n",
    "print(a)\n",
    "print(b)"
   ]
  },
  {
   "cell_type": "code",
   "execution_count": null,
   "metadata": {},
   "outputs": [],
   "source": [
    "for i in md1.items():\n",
    "    print(i)"
   ]
  },
  {
   "cell_type": "code",
   "execution_count": null,
   "metadata": {},
   "outputs": [],
   "source": [
    "for k,v in md1.items():    ### on the fly unpacking happens\n",
    "    print(k,v)"
   ]
  },
  {
   "cell_type": "code",
   "execution_count": null,
   "metadata": {},
   "outputs": [],
   "source": [
    "for k,v,i in md1.items():    ### on the fly unpacking is attempted.. but fails. because .items is tuple of 2 elements only\n",
    "    print(k,v)"
   ]
  },
  {
   "cell_type": "code",
   "execution_count": null,
   "metadata": {},
   "outputs": [],
   "source": [
    "for k,v in enumerate(md1.items()):\n",
    "    print(k,v)"
   ]
  },
  {
   "cell_type": "code",
   "execution_count": null,
   "metadata": {},
   "outputs": [],
   "source": [
    "list(enumerate(md1.items()))"
   ]
  },
  {
   "cell_type": "code",
   "execution_count": null,
   "metadata": {},
   "outputs": [],
   "source": [
    "europe = { 'Spain': { 'Capital':'Madrid', 'Population':4.77 }, 'France': { 'Capital':'Paris', 'Population':6.7 }, 'Germany': { 'Capital':'Berlin', 'Population':8.28 }, 'Norway': { 'Capital':'Oslo', 'Population':0.533 } }\n",
    "print(europe.keys())\n",
    "print(europe.values())\n",
    "kt = ('Spain', 'France', 'Germany', 'Norway')\n",
    "k = ('Capital', 'Population')\n",
    "v1 = ('Madrid', 4.77)\n",
    "v2 = ('Paris', 6.77)\n",
    "\n",
    "md1 = dict(zip(k,v1))\n",
    "print(md1)\n",
    "\n",
    "md2 = dict(zip(k,v2))\n",
    "print(md2)\n",
    "\n",
    "md = dict(zip(kt,zip(md1,md2)))\n",
    "md\n",
    "\n",
    "\n",
    "### TBD"
   ]
  },
  {
   "cell_type": "code",
   "execution_count": null,
   "metadata": {},
   "outputs": [],
   "source": [
    "europe['Germany']['Population']"
   ]
  },
  {
   "cell_type": "code",
   "execution_count": null,
   "metadata": {},
   "outputs": [],
   "source": [
    "europe.get('Germany').get('Population')"
   ]
  },
  {
   "cell_type": "code",
   "execution_count": null,
   "metadata": {},
   "outputs": [],
   "source": [
    "list(zip(md1,md2))"
   ]
  },
  {
   "cell_type": "code",
   "execution_count": null,
   "metadata": {},
   "outputs": [],
   "source": [
    "for letter in 'python':\n",
    "    if letter == 'h':\n",
    "        break\n",
    "    \n",
    "    print(letter)\n",
    "    \n",
    "print('Done')"
   ]
  },
  {
   "cell_type": "code",
   "execution_count": null,
   "metadata": {},
   "outputs": [],
   "source": [
    "for letter in 'python':\n",
    "    if letter == 'h':\n",
    "        continue\n",
    "    \n",
    "    print(letter)\n",
    "    \n",
    "print('Done')"
   ]
  },
  {
   "cell_type": "code",
   "execution_count": null,
   "metadata": {},
   "outputs": [],
   "source": [
    "for letter in 'python':\n",
    "    print(letter)\n",
    "else:\n",
    "    print('Done')"
   ]
  },
  {
   "cell_type": "code",
   "execution_count": null,
   "metadata": {},
   "outputs": [],
   "source": [
    "for letter in 'python':\n",
    "    print(letter)\n",
    "    if letter == 'h':\n",
    "        break\n",
    "else:\n",
    "    print('Done')"
   ]
  },
  {
   "cell_type": "code",
   "execution_count": null,
   "metadata": {},
   "outputs": [],
   "source": [
    "for letter in \"python\":\n",
    "    if letter == 'h':\n",
    "        break\n",
    "    print(letter)\n",
    "\n",
    "\n",
    "print('Done')\n"
   ]
  },
  {
   "cell_type": "code",
   "execution_count": null,
   "metadata": {},
   "outputs": [],
   "source": [
    "lcount = 9\n",
    "while(lcount > 0):\n",
    "    print(lcount)\n",
    "    if lcount == 5:\n",
    "       break\n",
    "    lcount = lcount - 1\n",
    "    print(lcount)\n"
   ]
  },
  {
   "cell_type": "code",
   "execution_count": null,
   "metadata": {},
   "outputs": [],
   "source": [
    "a = 9\n",
    "while(a>0):\n",
    "    print(a)\n",
    "    if a == 5:\n",
    "        break\n",
    "    a = a - 1\n",
    "print('bdone')\n"
   ]
  },
  {
   "cell_type": "code",
   "execution_count": null,
   "metadata": {},
   "outputs": [],
   "source": [
    "lcount=9\n",
    "while(lcount>0):\n",
    "    print(lcount)\n",
    "    if lcount==5:\n",
    "        break\n",
    "    lcount=lcount-1\n",
    "print(\"done\")\n"
   ]
  },
  {
   "cell_type": "code",
   "execution_count": null,
   "metadata": {},
   "outputs": [],
   "source": [
    "a=['Capital','Popu']\n",
    "b=['Mad',4.77]\n",
    "c=['Paris','8.9']\n",
    "d=['Spain','France']\n",
    "print(dict(zip(d,[dict(zip(a,b)),dict(zip(a,c))])))\n"
   ]
  },
  {
   "cell_type": "markdown",
   "metadata": {},
   "source": [
    "# List Comprehension"
   ]
  },
  {
   "cell_type": "code",
   "execution_count": null,
   "metadata": {},
   "outputs": [],
   "source": [
    "##  [1,4,9,16,25,36]   [1sq, 2sq, 3sq, 4sq, 5sq, 6sq]"
   ]
  },
  {
   "cell_type": "code",
   "execution_count": null,
   "metadata": {},
   "outputs": [],
   "source": [
    "sqlist = []\n",
    "for num in range(1,7):\n",
    "    sqlist.append(num ** 2)\n",
    "print(sqlist)"
   ]
  },
  {
   "cell_type": "code",
   "execution_count": null,
   "metadata": {},
   "outputs": [],
   "source": [
    "2 ** 3"
   ]
  },
  {
   "cell_type": "code",
   "execution_count": null,
   "metadata": {},
   "outputs": [],
   "source": [
    "4 ** 2"
   ]
  },
  {
   "cell_type": "code",
   "execution_count": null,
   "metadata": {},
   "outputs": [],
   "source": [
    "slist = [  num**2      for num in range(1,7)  ]\n",
    "print(slist)"
   ]
  },
  {
   "cell_type": "code",
   "execution_count": null,
   "metadata": {},
   "outputs": [],
   "source": [
    "## 2p0, 2p1, 2p2, 2p3, 2p4, 2p5 \n",
    "\n",
    "##[ 1, 2,4,8,16,32]"
   ]
  },
  {
   "cell_type": "code",
   "execution_count": null,
   "metadata": {},
   "outputs": [],
   "source": [
    "tlist = []\n",
    "for num in range(0,6):\n",
    "    tlist.append(2**num)\n",
    "print(tlist)"
   ]
  },
  {
   "cell_type": "code",
   "execution_count": null,
   "metadata": {},
   "outputs": [],
   "source": [
    "slist = [ 2 ** n   for n in range(0,6)]\n",
    "print(slist)\n"
   ]
  },
  {
   "cell_type": "raw",
   "metadata": {},
   "source": [
    "### Grammer signature 1 of List comp\n",
    "\n",
    "final_list = [ <2. final_expression for each iteration>    <1. for loop iteration>  ]\n",
    "\n",
    "## control_flow:   1,2  1,2,  1,2  1-Stops\n"
   ]
  },
  {
   "cell_type": "code",
   "execution_count": null,
   "metadata": {},
   "outputs": [],
   "source": [
    "a = (1, 2)\n",
    "b = (3, 4)\n",
    "#print(a+b)\n",
    "mylist = [a+b]\n",
    "print(mylist)\n",
    "plist = [print(x) for x in mylist  ]\n",
    "print(plist)"
   ]
  },
  {
   "cell_type": "code",
   "execution_count": null,
   "metadata": {},
   "outputs": [],
   "source": [
    "x = print('hello')\n",
    "print(x)"
   ]
  },
  {
   "cell_type": "code",
   "execution_count": null,
   "metadata": {},
   "outputs": [],
   "source": [
    "print(type(None))"
   ]
  },
  {
   "cell_type": "code",
   "execution_count": null,
   "metadata": {},
   "outputs": [],
   "source": [
    "mt1 = {'a','b','c'}\n",
    "ms1 = str(mt1)\n",
    "for char in ms1:\n",
    "    print(char)"
   ]
  },
  {
   "cell_type": "code",
   "execution_count": null,
   "metadata": {},
   "outputs": [],
   "source": [
    "mt1 = ('a','b','c')\n",
    "''.join(mt1)"
   ]
  },
  {
   "cell_type": "code",
   "execution_count": null,
   "metadata": {},
   "outputs": [],
   "source": [
    "alist=[4,8,12,16]    \n",
    "print(alist)\n",
    "alist[1:4]=[20,24,28]                                                                \n",
    "print(alist)\n"
   ]
  },
  {
   "cell_type": "code",
   "execution_count": null,
   "metadata": {},
   "outputs": [],
   "source": [
    "list(range(20,10,-1))"
   ]
  },
  {
   "cell_type": "code",
   "execution_count": null,
   "metadata": {},
   "outputs": [],
   "source": [
    "20,19,18"
   ]
  },
  {
   "cell_type": "code",
   "execution_count": null,
   "metadata": {},
   "outputs": [],
   "source": [
    "europe = { 'Spain': { 'Capital':'Madrid', 'Population':4.77 }, 'France': { 'Capital':'Paris', 'Population':6.7 }, 'Germany': { 'Capital':'Berlin', 'Population':8.28 }, 'Norway': { 'Capital':'Oslo', 'Population':0.533 } }\n",
    "print(europe.keys())\n",
    "print(europe.values())"
   ]
  },
  {
   "cell_type": "code",
   "execution_count": null,
   "metadata": {},
   "outputs": [],
   "source": [
    "a=['Capital','Population']\n",
    "b=['Madrid',4.77]\n",
    "c=['Paris','8.9']\n",
    "d=['Spain','France']\n",
    "print(dict(zip(d,[dict(zip(a,b)),dict(zip(a,c))])))"
   ]
  },
  {
   "cell_type": "code",
   "execution_count": null,
   "metadata": {},
   "outputs": [],
   "source": [
    "a=['Capital','Population']\n",
    "b=['Madrid',4.77]\n",
    "c=['Paris','8.9']\n",
    "d=['Spain','France']\n",
    "\n",
    "md1 = dict(zip(a,c))\n",
    "md2 = dict(zip(a,b))\n",
    "print(md1)\n",
    "print(md2)\n",
    "md3 = dict(zip(d,[md1,md2]))\n",
    "md3"
   ]
  },
  {
   "cell_type": "markdown",
   "metadata": {},
   "source": [
    "# 07-Apr-2021"
   ]
  },
  {
   "cell_type": "markdown",
   "metadata": {},
   "source": [
    "# List Comprehension Continued"
   ]
  },
  {
   "cell_type": "code",
   "execution_count": null,
   "metadata": {},
   "outputs": [],
   "source": []
  },
  {
   "cell_type": "code",
   "execution_count": null,
   "metadata": {},
   "outputs": [],
   "source": [
    "mylist1 = list(range(1,60,3))\n",
    "print(mylist1)\n",
    "\n",
    "evenlist = []\n",
    "for num in mylist1:\n",
    "    if num % 2 == 0:\n",
    "        evenlist.append(num)\n",
    "print(evenlist)"
   ]
  },
  {
   "cell_type": "code",
   "execution_count": null,
   "metadata": {},
   "outputs": [],
   "source": [
    "mylist1 = list(range(1,60,3))\n",
    "print(mylist1)\n",
    "print()\n",
    "evenlist1 = [   num        for num in mylist1   if num % 2 == 0]\n",
    "print(evenlist1)"
   ]
  },
  {
   "cell_type": "raw",
   "metadata": {},
   "source": [
    "Grammer of Signature # 2\n",
    "\n",
    "\n",
    "final_list = [  <3. final_expression only if gating condition is True>     <1. for loop iteration>    <2. Gating condition check for every iteration> ]\n",
    "\n",
    "control_flow:  1,2T,3  1,2T,3  1,2F  1,2F,  1,2T,3   1-Stops..."
   ]
  },
  {
   "cell_type": "code",
   "execution_count": null,
   "metadata": {},
   "outputs": [],
   "source": [
    "mylist1 = list(range(1,200,5))\n",
    "print(mylist1)"
   ]
  },
  {
   "cell_type": "code",
   "execution_count": null,
   "metadata": {},
   "outputs": [],
   "source": [
    "m23list = [  num*1  for num in mylist1   if num %2 == 0  and num%3 == 0]\n",
    "print(m23list)"
   ]
  },
  {
   "cell_type": "code",
   "execution_count": null,
   "metadata": {},
   "outputs": [],
   "source": [
    "mylist1 = list(range(10))\n",
    "print(mylist1)\n",
    "\n",
    "\n",
    "###  [o2 13  22  33  42  53  .... 82 93  ]\n",
    "\n",
    "###  [0, 1, 4, 27, 16, 125, 36, 343, 64, 729 ]\n",
    "\n",
    "## even_square, odd_cubed"
   ]
  },
  {
   "cell_type": "code",
   "execution_count": null,
   "metadata": {},
   "outputs": [],
   "source": [
    "9**3"
   ]
  },
  {
   "cell_type": "code",
   "execution_count": null,
   "metadata": {},
   "outputs": [],
   "source": [
    "eolist = []\n",
    "for num in mylist1:\n",
    "    if num % 2 == 0:\n",
    "        eolist.append(num**2)\n",
    "    else:\n",
    "        eolist.append(num**3)\n",
    "print(eolist)"
   ]
  },
  {
   "cell_type": "code",
   "execution_count": null,
   "metadata": {},
   "outputs": [],
   "source": [
    "mylist1 = list(range(10))\n",
    "print(mylist1)\n",
    "print()\n",
    "\n",
    "eolist1 = [ num**2 if num%2==0 else num **3           for num in mylist1   ]\n",
    "print(eolist)"
   ]
  },
  {
   "cell_type": "raw",
   "metadata": {},
   "source": [
    "## Grammer Signature # 3\n",
    "\n",
    "final_list = [ <2. final_exp_T if cond is True else final_exp_F>         <1. for loop>   ]\n",
    "\n",
    "control_flow: 1,2  1,2  1,2  1-Stops"
   ]
  },
  {
   "cell_type": "code",
   "execution_count": null,
   "metadata": {},
   "outputs": [],
   "source": [
    "mylist1 = list(range(10))\n",
    "print(mylist1)\n",
    "print()"
   ]
  },
  {
   "cell_type": "code",
   "execution_count": null,
   "metadata": {},
   "outputs": [],
   "source": [
    "###    [\"0-Even\", \"1-Odd\", \"2-Even\", \"3-Odd\"...]"
   ]
  },
  {
   "cell_type": "code",
   "execution_count": null,
   "metadata": {},
   "outputs": [],
   "source": [
    "mylist2= list(range(10))\n",
    "flist=[ str(num)+'-even' if num%2==0 else str(num)+'-odd'                   for num in mylist2]\n",
    "print(flist)\n"
   ]
  },
  {
   "cell_type": "code",
   "execution_count": null,
   "metadata": {},
   "outputs": [],
   "source": [
    "mylist1 = list(range(1,30))\n",
    "print(mylist1)\n",
    "\n",
    "\n",
    "###  [16,36,64,729,100,144,196,15**3...]"
   ]
  },
  {
   "cell_type": "code",
   "execution_count": null,
   "metadata": {},
   "outputs": [],
   "source": [
    "##even-sq or odd_cb only if number is NOT prime"
   ]
  },
  {
   "cell_type": "code",
   "execution_count": null,
   "metadata": {},
   "outputs": [],
   "source": [
    "def isPrime(num):\n",
    "    if num < 2:\n",
    "        return False\n",
    "    \n",
    "    for divisor in range(2,num):\n",
    "        if num % divisor == 0:\n",
    "            return False\n",
    "        \n",
    "    return True"
   ]
  },
  {
   "cell_type": "code",
   "execution_count": null,
   "metadata": {},
   "outputs": [],
   "source": [
    "isPrime(33)"
   ]
  },
  {
   "cell_type": "code",
   "execution_count": null,
   "metadata": {},
   "outputs": [],
   "source": [
    "mylist1 = list(range(1,30))\n",
    "print(mylist1)\n",
    "mylist2 = []\n",
    "\n",
    "for num in mylist1:\n",
    "    if isPrime(num) == False:\n",
    "        if num % 2 == 0:\n",
    "            mylist2.append(num**2)\n",
    "        else:\n",
    "            mylist2.append(num**3)\n",
    "            \n",
    "print(mylist2)\n"
   ]
  },
  {
   "cell_type": "code",
   "execution_count": null,
   "metadata": {},
   "outputs": [],
   "source": [
    "mylist1 = list(range(1,30))\n",
    "print(mylist1)\n",
    "print()\n",
    "\n",
    "mylist3 = [ num**2 if num%2 == 0 else num ** 3     for num in mylist1   if isPrime(num) == False   ]\n",
    "\n",
    "print(mylist3)"
   ]
  },
  {
   "cell_type": "raw",
   "metadata": {},
   "source": [
    "### Grammer Signature # 4\n",
    "\n",
    "\n",
    "final_list = [ <3. final_expressions based on condition>  <1. for loop iteration>  <2. Gating condition>]\n",
    "\n",
    "control_flow:  1,2T,3  1,2F,  1,2T,3  1-Stops..."
   ]
  },
  {
   "cell_type": "code",
   "execution_count": null,
   "metadata": {},
   "outputs": [],
   "source": [
    "mylist1 = list(range(1,30))\n",
    "print(mylist1)\n",
    "mylist2 = []\n",
    "\n",
    "for num in mylist1:\n",
    "    if isPrime(num) == True:\n",
    "        mylist2.append('p'+str(num))\n",
    "    else:\n",
    "        if num % 2 == 0:\n",
    "            mylist2.append('e'+str(num))\n",
    "        else:\n",
    "            mylist2.append('o'+str(num))\n",
    "            \n",
    "print(mylist2)"
   ]
  },
  {
   "cell_type": "code",
   "execution_count": null,
   "metadata": {},
   "outputs": [],
   "source": [
    "mylist22 = ['p'+str(num) if isPrime(num) == True else 'e'+str(num) if num % 2 == 0 else 'o'+str(num)   for num in mylist1]\n",
    "print(mylist22)"
   ]
  },
  {
   "cell_type": "code",
   "execution_count": null,
   "metadata": {},
   "outputs": [],
   "source": [
    "\n",
    "\n",
    "ulist = ['u1', 'u2' ,'u3']\n",
    "plist = ['p1', 'p2','p3']#uplist = [('u1', 'p1'), ('u1', 'p2'), ('u1', 'p3'), ('u2', 'p1'), ('u2', 'p2'), ('u2', 'p3'), ('u3', 'p1'), ('u3', 'p2'), ('u3', 'p3')]"
   ]
  },
  {
   "cell_type": "code",
   "execution_count": null,
   "metadata": {},
   "outputs": [],
   "source": [
    "ulist = ['u1', 'u2' ,'u3']\n",
    "plist = ['p1', 'p2','p3']\n",
    "\n",
    "uplist = []\n",
    "for u in ulist:\n",
    "    for p in plist:\n",
    "        uplist.append((u,p))\n",
    "        \n",
    "print(uplist)"
   ]
  },
  {
   "cell_type": "code",
   "execution_count": null,
   "metadata": {},
   "outputs": [],
   "source": [
    "uplist1 = [ (u,p)   for u in ulist  for p in plist]\n",
    "print(uplist1)"
   ]
  },
  {
   "cell_type": "raw",
   "metadata": {},
   "source": [
    "## Grammer for Loop Nesting Signature # 5\n",
    "\n",
    "final_list = [  <3. final_expresion on every iteration of level1 loop> <1. for loop level0>  <2. for loop level1. on every iteration of level0 loop>]\n",
    "\n",
    "control_flow: 1,2,3,2,3,2,3,2-Stops  1,2,3,2,3,2-Stops  1-Stops...."
   ]
  },
  {
   "cell_type": "code",
   "execution_count": null,
   "metadata": {},
   "outputs": [],
   "source": [
    "ulist = ['u1', 'u2' ,'u3']\n",
    "plist = ['p1', 'p2','p3']\n",
    "\n",
    "##uplist = [('u1', 'p1'), ('u1', 'p3'), ('u3', 'p1'), ('u3', 'p3')]\n",
    "\n",
    "uplist = []\n",
    "\n",
    "for u in ulist:\n",
    "    if u != 'u2':\n",
    "        for p in plist:\n",
    "            if p != 'p2':\n",
    "                uplist.append((u,p))\n",
    "print(uplist)"
   ]
  },
  {
   "cell_type": "code",
   "execution_count": null,
   "metadata": {},
   "outputs": [],
   "source": [
    "uplist1 = [ (u,p)  for u in ulist  if u != 'u2'  for p in plist  if p != 'p2']\n",
    "print(uplist1)"
   ]
  },
  {
   "cell_type": "markdown",
   "metadata": {},
   "source": [
    "Set Comprehension"
   ]
  },
  {
   "cell_type": "code",
   "execution_count": null,
   "metadata": {},
   "outputs": [],
   "source": [
    "mylist1 = [ num%3  for num in range(20)]\n",
    "print(mylist1)"
   ]
  },
  {
   "cell_type": "code",
   "execution_count": null,
   "metadata": {},
   "outputs": [],
   "source": [
    "myset1 = { num%3  for num in range(20) }\n",
    "print(myset1)"
   ]
  },
  {
   "cell_type": "code",
   "execution_count": null,
   "metadata": {},
   "outputs": [],
   "source": [
    "## give me all multiples of 2 or 3 bn 10 and 100"
   ]
  },
  {
   "cell_type": "code",
   "execution_count": null,
   "metadata": {},
   "outputs": [],
   "source": [
    "myset1 = { num*mp  for num in range(10,100) for mp in range(2,4)}\n",
    "print(myset1)"
   ]
  },
  {
   "cell_type": "code",
   "execution_count": null,
   "metadata": {},
   "outputs": [],
   "source": [
    "myset1 = [ num*mp  for num in range(10,100) for mp in range(2,4)]\n",
    "print(myset1)"
   ]
  },
  {
   "cell_type": "markdown",
   "metadata": {},
   "source": [
    "Dict Comprehension"
   ]
  },
  {
   "cell_type": "code",
   "execution_count": null,
   "metadata": {},
   "outputs": [],
   "source": [
    "md1 = { 'n'+str(num) : num for num in range(10)}\n",
    "print(md1)"
   ]
  },
  {
   "cell_type": "code",
   "execution_count": null,
   "metadata": {},
   "outputs": [],
   "source": [
    "str(23) +' hello'"
   ]
  },
  {
   "cell_type": "code",
   "execution_count": null,
   "metadata": {},
   "outputs": [],
   "source": [
    "str(0)"
   ]
  },
  {
   "cell_type": "code",
   "execution_count": null,
   "metadata": {},
   "outputs": [],
   "source": [
    "'n'+'0'"
   ]
  },
  {
   "cell_type": "code",
   "execution_count": 63,
   "metadata": {},
   "outputs": [
    {
     "name": "stdout",
     "output_type": "stream",
     "text": [
      "{'n10': (10, 11), 'n12': (12, 13), 'n14': (14, 15), 'n16': (16, 17), 'n18': (18, 19)}\n"
     ]
    }
   ],
   "source": [
    "vk= { 'n'+str(n):(n,n+1)     for n in range(10,20) if n%2==0}\n",
    "print(vk)\n"
   ]
  },
  {
   "cell_type": "code",
   "execution_count": 68,
   "metadata": {},
   "outputs": [],
   "source": [
    "def myadd(n1,n2):\n",
    "    s = n1 + n2\n",
    "    \n",
    "    return s"
   ]
  },
  {
   "cell_type": "code",
   "execution_count": 69,
   "metadata": {},
   "outputs": [
    {
     "name": "stdout",
     "output_type": "stream",
     "text": [
      "300\n"
     ]
    }
   ],
   "source": [
    "s1 = myadd(100,200)\n",
    "print(s1)"
   ]
  },
  {
   "cell_type": "code",
   "execution_count": 70,
   "metadata": {},
   "outputs": [
    {
     "name": "stdout",
     "output_type": "stream",
     "text": [
      "2\n"
     ]
    }
   ],
   "source": [
    "mylist1 = [10,20,30,40]\n",
    "i = mylist1.index(30)\n",
    "print(i)"
   ]
  },
  {
   "cell_type": "code",
   "execution_count": 71,
   "metadata": {},
   "outputs": [
    {
     "name": "stdout",
     "output_type": "stream",
     "text": [
      "{'n0': 0, 'k1': 1, 'n2': 2, 'k3': 3, 'n4': 4, 'k5': 5, 'n6': 6, 'k7': 7, 'n8': 8, 'k9': 9, 'n10': 10, 'k11': 11, 'n12': 12, 'k13': 13, 'n14': 14, 'k15': 15, 'n16': 16, 'k17': 17, 'n18': 18, 'k19': 19}\n"
     ]
    }
   ],
   "source": [
    "md1 = {  'n'+str(num) if num % 2 == 0 else 'k'+str(num) :  num for num in range(0,20)}\n",
    "print(md1)\n"
   ]
  },
  {
   "cell_type": "code",
   "execution_count": 74,
   "metadata": {},
   "outputs": [
    {
     "name": "stdout",
     "output_type": "stream",
     "text": [
      "22\n"
     ]
    }
   ],
   "source": [
    "i = 20\n",
    "i = i + 2\n",
    "print(i)"
   ]
  },
  {
   "cell_type": "code",
   "execution_count": 76,
   "metadata": {},
   "outputs": [
    {
     "name": "stdout",
     "output_type": "stream",
     "text": [
      "22\n"
     ]
    }
   ],
   "source": [
    "i = 20\n",
    "i += 2   ##  read i, add 2 to it, and write back the result in i itself\n",
    "print(i)"
   ]
  },
  {
   "cell_type": "code",
   "execution_count": 84,
   "metadata": {},
   "outputs": [],
   "source": [
    "mylist1 = [1,2,0,3,True,False,'hello']"
   ]
  },
  {
   "cell_type": "code",
   "execution_count": 78,
   "metadata": {},
   "outputs": [
    {
     "data": {
      "text/plain": [
       "[1, 2, 3, True, 'hello']"
      ]
     },
     "execution_count": 78,
     "metadata": {},
     "output_type": "execute_result"
    }
   ],
   "source": [
    "mylist1"
   ]
  },
  {
   "cell_type": "code",
   "execution_count": 79,
   "metadata": {},
   "outputs": [
    {
     "data": {
      "text/plain": [
       "1"
      ]
     },
     "execution_count": 79,
     "metadata": {},
     "output_type": "execute_result"
    }
   ],
   "source": [
    "int(True)"
   ]
  },
  {
   "cell_type": "code",
   "execution_count": 80,
   "metadata": {},
   "outputs": [
    {
     "data": {
      "text/plain": [
       "[1, 2, 3, True]"
      ]
     },
     "execution_count": 80,
     "metadata": {},
     "output_type": "execute_result"
    }
   ],
   "source": [
    "mylist1.remove('hello')\n",
    "mylist1"
   ]
  },
  {
   "cell_type": "code",
   "execution_count": 85,
   "metadata": {},
   "outputs": [
    {
     "data": {
      "text/plain": [
       "[2, 0, 3, True, False, 'hello']"
      ]
     },
     "execution_count": 85,
     "metadata": {},
     "output_type": "execute_result"
    }
   ],
   "source": [
    "mylist1.remove(True)\n",
    "mylist1"
   ]
  },
  {
   "cell_type": "code",
   "execution_count": 86,
   "metadata": {},
   "outputs": [
    {
     "data": {
      "text/plain": [
       "[2, 3, True, False, 'hello']"
      ]
     },
     "execution_count": 86,
     "metadata": {},
     "output_type": "execute_result"
    }
   ],
   "source": [
    "mylist1.remove(False)\n",
    "mylist1"
   ]
  },
  {
   "cell_type": "code",
   "execution_count": 87,
   "metadata": {},
   "outputs": [],
   "source": [
    "mylist1 = list('pythonworld')"
   ]
  },
  {
   "cell_type": "code",
   "execution_count": 88,
   "metadata": {},
   "outputs": [
    {
     "data": {
      "text/plain": [
       "4"
      ]
     },
     "execution_count": 88,
     "metadata": {},
     "output_type": "execute_result"
    }
   ],
   "source": [
    "mylist1.index('o')"
   ]
  },
  {
   "cell_type": "code",
   "execution_count": 90,
   "metadata": {},
   "outputs": [
    {
     "data": {
      "text/plain": [
       "[(0, 'p'),\n",
       " (1, 'y'),\n",
       " (2, 't'),\n",
       " (3, 'h'),\n",
       " (4, 'o'),\n",
       " (5, 'n'),\n",
       " (6, 'w'),\n",
       " (7, 'o'),\n",
       " (8, 'r'),\n",
       " (9, 'l'),\n",
       " (10, 'd')]"
      ]
     },
     "execution_count": 90,
     "metadata": {},
     "output_type": "execute_result"
    }
   ],
   "source": [
    "list(enumerate(mylist1))"
   ]
  },
  {
   "cell_type": "code",
   "execution_count": 91,
   "metadata": {},
   "outputs": [
    {
     "name": "stdout",
     "output_type": "stream",
     "text": [
      "[4, 7]\n"
     ]
    }
   ],
   "source": [
    "mylist1 = list('pythonworld')\n",
    "indexlist = [ i  for i,v in enumerate(mylist1) if v == 'o']\n",
    "print(indexlist)"
   ]
  },
  {
   "cell_type": "code",
   "execution_count": 92,
   "metadata": {},
   "outputs": [
    {
     "name": "stdout",
     "output_type": "stream",
     "text": [
      "[0, 4]\n"
     ]
    }
   ],
   "source": [
    "mylist1 = [1,2,0,3,True,False,'hello']\n",
    "indexlist = [ i  for i,v in enumerate(mylist1) if v == 1]\n",
    "print(indexlist)"
   ]
  },
  {
   "cell_type": "code",
   "execution_count": 93,
   "metadata": {},
   "outputs": [
    {
     "data": {
      "text/plain": [
       "True"
      ]
     },
     "execution_count": 93,
     "metadata": {},
     "output_type": "execute_result"
    }
   ],
   "source": [
    "bool(True)"
   ]
  },
  {
   "cell_type": "code",
   "execution_count": 95,
   "metadata": {},
   "outputs": [
    {
     "data": {
      "text/plain": [
       "[2, 0, 3, True, False, 'hello']"
      ]
     },
     "execution_count": 95,
     "metadata": {},
     "output_type": "execute_result"
    }
   ],
   "source": [
    "mylist1 = [1,2,0,3,True,False,'hello']\n",
    "mylist1.remove(bool(True))\n",
    "mylist1"
   ]
  },
  {
   "cell_type": "code",
   "execution_count": 105,
   "metadata": {},
   "outputs": [
    {
     "name": "stdout",
     "output_type": "stream",
     "text": [
      "[4]\n"
     ]
    }
   ],
   "source": [
    "mylist1 = [1,2,0,3,True,False,'hello']\n",
    "indexlist = [ i  for i,v in enumerate(mylist1) if str(v) == str(True)]\n",
    "print(indexlist)"
   ]
  },
  {
   "cell_type": "code",
   "execution_count": 97,
   "metadata": {},
   "outputs": [
    {
     "data": {
      "text/plain": [
       "True"
      ]
     },
     "execution_count": 97,
     "metadata": {},
     "output_type": "execute_result"
    }
   ],
   "source": [
    "isinstance(True,int)"
   ]
  },
  {
   "cell_type": "code",
   "execution_count": 98,
   "metadata": {},
   "outputs": [
    {
     "data": {
      "text/plain": [
       "True"
      ]
     },
     "execution_count": 98,
     "metadata": {},
     "output_type": "execute_result"
    }
   ],
   "source": [
    "isinstance(True,bool)"
   ]
  },
  {
   "cell_type": "code",
   "execution_count": 99,
   "metadata": {},
   "outputs": [
    {
     "data": {
      "text/plain": [
       "8791233013536"
      ]
     },
     "execution_count": 99,
     "metadata": {},
     "output_type": "execute_result"
    }
   ],
   "source": [
    "id(1)"
   ]
  },
  {
   "cell_type": "code",
   "execution_count": 100,
   "metadata": {},
   "outputs": [
    {
     "data": {
      "text/plain": [
       "8791232730960"
      ]
     },
     "execution_count": 100,
     "metadata": {},
     "output_type": "execute_result"
    }
   ],
   "source": [
    "id(True)"
   ]
  },
  {
   "cell_type": "code",
   "execution_count": 101,
   "metadata": {},
   "outputs": [
    {
     "data": {
      "text/plain": [
       "True"
      ]
     },
     "execution_count": 101,
     "metadata": {},
     "output_type": "execute_result"
    }
   ],
   "source": [
    "1 == True"
   ]
  },
  {
   "cell_type": "code",
   "execution_count": 102,
   "metadata": {},
   "outputs": [
    {
     "name": "stderr",
     "output_type": "stream",
     "text": [
      "<>:1: SyntaxWarning: \"is\" with a literal. Did you mean \"==\"?\n",
      "<>:1: SyntaxWarning: \"is\" with a literal. Did you mean \"==\"?\n",
      "<ipython-input-102-63176c6536ac>:1: SyntaxWarning: \"is\" with a literal. Did you mean \"==\"?\n",
      "  1 is True\n"
     ]
    },
    {
     "data": {
      "text/plain": [
       "False"
      ]
     },
     "execution_count": 102,
     "metadata": {},
     "output_type": "execute_result"
    }
   ],
   "source": [
    "1 is True"
   ]
  },
  {
   "cell_type": "code",
   "execution_count": 103,
   "metadata": {},
   "outputs": [
    {
     "data": {
      "text/plain": [
       "'True'"
      ]
     },
     "execution_count": 103,
     "metadata": {},
     "output_type": "execute_result"
    }
   ],
   "source": [
    "str(True)"
   ]
  },
  {
   "cell_type": "code",
   "execution_count": null,
   "metadata": {},
   "outputs": [],
   "source": []
  }
 ],
 "metadata": {
  "kernelspec": {
   "display_name": "Python 3",
   "language": "python",
   "name": "python3"
  },
  "language_info": {
   "codemirror_mode": {
    "name": "ipython",
    "version": 3
   },
   "file_extension": ".py",
   "mimetype": "text/x-python",
   "name": "python",
   "nbconvert_exporter": "python",
   "pygments_lexer": "ipython3",
   "version": "3.8.5"
  }
 },
 "nbformat": 4,
 "nbformat_minor": 4
}

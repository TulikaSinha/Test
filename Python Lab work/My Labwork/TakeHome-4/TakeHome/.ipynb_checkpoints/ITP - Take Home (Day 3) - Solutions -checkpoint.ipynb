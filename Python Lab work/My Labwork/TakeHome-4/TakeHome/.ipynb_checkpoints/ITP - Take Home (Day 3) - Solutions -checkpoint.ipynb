{
 "cells": [
  {
   "cell_type": "markdown",
   "metadata": {},
   "source": [
    "<table align=\"center\" width=100%>\n",
    "    <tr>\n",
    "        <td width=\"15%\">\n",
    "            <img src=\"homework.png\">\n",
    "        </td>\n",
    "        <td>\n",
    "            <div align=\"center\">\n",
    "                <font color=\"#21618C\" size=8px>\n",
    "                    <b> Take-Home <br>(Day 3)\n",
    "                    </b>\n",
    "                </font>\n",
    "            </div>\n",
    "        </td>\n",
    "    </tr>\n",
    "</table>"
   ]
  },
  {
   "cell_type": "markdown",
   "metadata": {},
   "source": [
    "**Let's begin with some hands-on practice exercises**"
   ]
  },
  {
   "cell_type": "markdown",
   "metadata": {},
   "source": [
    "<table align=\"left\">\n",
    "    <tr>\n",
    "        <td width=\"6%\">\n",
    "            <img src=\"question_icon.png\">\n",
    "        </td>\n",
    "        <td>\n",
    "            <div align=\"left\", style=\"font-size:120%\">\n",
    "                <font color=\"#21618C\">\n",
    "                    <b>1. Write a program to print the following pattern (use for loop)</b>\n",
    "                    <br>\n",
    "                 </font>\n",
    "            </div>\n",
    "        </td>\n",
    "    </tr>\n",
    "</table>\n"
   ]
  },
  {
   "cell_type": "markdown",
   "metadata": {},
   "source": [
    "                                            A  \n",
    "                                            B C  \n",
    "                                            D E F  \n",
    "                                            G H I J  \n",
    "                                            K L M N O  \n",
    "                                            P Q R S T U  "
   ]
  },
  {
   "cell_type": "code",
   "execution_count": 1,
   "metadata": {},
   "outputs": [
    {
     "name": "stdout",
     "output_type": "stream",
     "text": [
      "Print Pattern\n",
      "A  \n",
      "B C  \n",
      "D E F  \n",
      "G H I J  \n",
      "K L M N O  \n",
      "P Q R S T U  \n"
     ]
    }
   ],
   "source": [
    "print(\"Print Pattern\")\n",
    "\n",
    "# assign the number of rows\n",
    "number = 6\n",
    "\n",
    "# assign the ascii value of 'A'\n",
    "Ascii_value = 65\n",
    "\n",
    "# use for loop to print each row\n",
    "for i in range(0, number):\n",
    "    for j in range(0, i+1):\n",
    "        character  = chr(Ascii_value)    # convert the ascii value to character\n",
    "        print(character, end=' ')        # print the character\n",
    "        Ascii_value+=1                   # increase the ascii value by 1          \n",
    "    print(\" \")"
   ]
  },
  {
   "cell_type": "markdown",
   "metadata": {},
   "source": [
    "<table align=\"left\">\n",
    "    <tr>\n",
    "        <td width=\"6%\">\n",
    "            <img src=\"question_icon.png\">\n",
    "        </td>\n",
    "        <td>\n",
    "            <div align=\"left\", style=\"font-size:120%\">\n",
    "                <font color=\"#21618C\">\n",
    "                    <b>2. Write a program to print tables from 2 to a user provided range (use for loop)</b>\n",
    "                 </font>\n",
    "            </div>\n",
    "        </td>\n",
    "    </tr>\n",
    "</table>"
   ]
  },
  {
   "cell_type": "code",
   "execution_count": 2,
   "metadata": {},
   "outputs": [
    {
     "name": "stdout",
     "output_type": "stream",
     "text": [
      "Enter a number in range: 3\n",
      "2  X  1  =  2\n",
      "2  X  2  =  4\n",
      "2  X  3  =  6\n",
      "2  X  4  =  8\n",
      "2  X  5  =  10\n",
      "2  X  6  =  12\n",
      "2  X  7  =  14\n",
      "2  X  8  =  16\n",
      "2  X  9  =  18\n",
      "2  X  10  =  20\n",
      "\n",
      "\n",
      "3  X  1  =  3\n",
      "3  X  2  =  6\n",
      "3  X  3  =  9\n",
      "3  X  4  =  12\n",
      "3  X  5  =  15\n",
      "3  X  6  =  18\n",
      "3  X  7  =  21\n",
      "3  X  8  =  24\n",
      "3  X  9  =  27\n",
      "3  X  10  =  30\n",
      "\n",
      "\n"
     ]
    }
   ],
   "source": [
    "range_num = int(input('Enter a number in range: '))\n",
    "\n",
    "# use for loop to print tables \n",
    "for n in range(2 , range_num + 1):\n",
    "    for i in range(1,11):\n",
    "        print(n, ' X ', i, ' = ', n*i)     \n",
    "    print(\"\\n\")"
   ]
  },
  {
   "cell_type": "markdown",
   "metadata": {},
   "source": [
    "<table align=\"left\">\n",
    "    <tr>\n",
    "        <td width=\"6%\">\n",
    "            <img src=\"question_icon.png\">\n",
    "        </td>\n",
    "        <td>\n",
    "            <div align=\"left\", style=\"font-size:120%\">\n",
    "                <font color=\"#21618C\">\n",
    "                    <b>3. Consider the given two tuples. Divide corresponding elemets of two tuples and print the result as tuple (use zip())</b>\n",
    "                 </font>\n",
    "            </div>\n",
    "        </td>\n",
    "    </tr>\n",
    "</table>"
   ]
  },
  {
   "cell_type": "markdown",
   "metadata": {},
   "source": [
    "   **The original tuple 1 : (10, 4, 6, 9)**\n",
    "\n",
    "   **The original tuple 2 : (5, 2, 3, 3)**\n",
    "\n",
    "   **Output: (2, 2, 2, 3)**\n"
   ]
  },
  {
   "cell_type": "code",
   "execution_count": 5,
   "metadata": {},
   "outputs": [
    {
     "name": "stdout",
     "output_type": "stream",
     "text": [
      "The original tuple 1 : (10, 4, 6, 9)\n",
      "The original tuple 2 : (5, 2, 3, 3)\n",
      "The divided tuple : (2, 2, 2, 3)\n"
     ]
    }
   ],
   "source": [
    "# initialize tuples  \n",
    "num_tuple_1 = (10, 4, 6, 9)  \n",
    "num_tuple_2 = (5, 2, 3, 3)  \n",
    "  \n",
    "# printing original tuples  \n",
    "print(\"The original tuple 1 : \" + str(num_tuple_1))  \n",
    "print(\"The original tuple 2 : \" + str(num_tuple_2))  \n",
    "  \n",
    "# Tuple division  \n",
    "# using zip() + generator expression  \n",
    "res = tuple(ele_1 // ele_2 for ele_1, ele_2 in zip(num_tuple_1, num_tuple_2))  \n",
    "  \n",
    "# printing result  \n",
    "print(\"The divided tuple : \" + str(res))  "
   ]
  },
  {
   "cell_type": "markdown",
   "metadata": {},
   "source": [
    "<table align=\"left\">\n",
    "    <tr>\n",
    "        <td width=\"6%\">\n",
    "            <img src=\"question_icon.png\">\n",
    "        </td>\n",
    "        <td>\n",
    "            <div align=\"left\", style=\"font-size:120%\">\n",
    "                <font color=\"#21618C\">\n",
    "                    <b>4. Use list comprehension to find words whose length is less than 5 from the given multi-dimensional list</b>\n",
    "                    <br>\n",
    "                </font>\n",
    "            </div>\n",
    "        </td>\n",
    "    </tr>\n",
    "</table>"
   ]
  },
  {
   "cell_type": "markdown",
   "metadata": {},
   "source": [
    "**astro = [['sky', 'sun', 'moon'], ['star', 'Jupiter', 'mars'], ['Jupiter', 'Neptune', 'Pluto']] **\n"
   ]
  },
  {
   "cell_type": "code",
   "execution_count": 4,
   "metadata": {},
   "outputs": [
    {
     "data": {
      "text/plain": [
       "['sky', 'sun', 'moon', 'star', 'mars']"
      ]
     },
     "execution_count": 4,
     "metadata": {},
     "output_type": "execute_result"
    }
   ],
   "source": [
    "astro = [['sky', 'sun', 'moon'], ['star', 'Jupiter', 'mars'], ['Jupiter', 'Neptune', 'Pluto']] \n",
    "word_list = [i for sublist in astro for i in sublist if len(i) < 5] \n",
    "word_list"
   ]
  },
  {
   "cell_type": "markdown",
   "metadata": {},
   "source": [
    "<table align=\"left\">\n",
    "    <tr>\n",
    "        <td width=\"6%\">\n",
    "            <img src=\"question_icon.png\">\n",
    "        </td>\n",
    "        <td>\n",
    "            <div align=\"left\", style=\"font-size:120%\">\n",
    "                <font color=\"#21618C\">\n",
    "                    <b>5. Write a program to append a dictionary to a tuple</b>\n",
    "                 </font>\n",
    "            </div>\n",
    "        </td>\n",
    "    </tr>\n",
    "</table>"
   ]
  },
  {
   "cell_type": "markdown",
   "metadata": {},
   "source": [
    "**The original tuple : (4, 5, 6)**\n",
    "\n",
    "**Tuple after addition of dictionary : (4, 5, 6, {'gfg': 1, 'is': 2, 'best': 3})**"
   ]
  },
  {
   "cell_type": "code",
   "execution_count": 7,
   "metadata": {},
   "outputs": [
    {
     "name": "stdout",
     "output_type": "stream",
     "text": [
      "The original tuple : (4, 5, 6)\n",
      "Tuple after addition of dictionary : (4, 5, 6, {'gfg': 1, 'is': 2, 'best': 3})\n"
     ]
    }
   ],
   "source": [
    "# Add dictionary to tuple \n",
    "# initialize tuple  \n",
    "num_tuple = (4, 5, 6) \n",
    "  \n",
    "# printing original tuple \n",
    "print(\"The original tuple : \" + str(num_tuple)) \n",
    "  \n",
    "# initialize dictionary  \n",
    "new_dict = {\"gfg\" : 1, \"is\" : 2, \"best\" : 3} \n",
    "  \n",
    "# Add dictionary to tuple \n",
    "# convert tuple to the list \n",
    "num_tuple = list(num_tuple)\n",
    "\n",
    "# append a dictionary to the list\n",
    "num_tuple.append(new_dict) \n",
    "\n",
    "# convert the list to the tuple\n",
    "num_tuple = tuple(num_tuple) \n",
    "  \n",
    "# printing result \n",
    "print(\"Tuple after addition of dictionary : \" + str(num_tuple)) "
   ]
  },
  {
   "cell_type": "markdown",
   "metadata": {},
   "source": [
    "<table align=\"left\">\n",
    "    <tr>\n",
    "        <td width=\"6%\">\n",
    "            <img src=\"question_icon.png\">\n",
    "        </td>\n",
    "        <td>\n",
    "            <div align=\"left\", style=\"font-size:120%\">\n",
    "                <font color=\"#21618C\">\n",
    "                    <b>6. Write a program to remove space from keys of the given dictionary (use for loop)  </b>\n",
    "                 </font>\n",
    "            </div>\n",
    "        </td>\n",
    "    </tr>\n",
    "</table>"
   ]
  },
  {
   "cell_type": "markdown",
   "metadata": {},
   "source": [
    "**fruity = {'Fruits 01' : 'Apple', 'Fruits 02' : 'Orange', \n",
    "                'Fruits 0 3 ': 'Grapes'}**\n",
    "\n",
    "**(Output) New dictionary :   {'Fruits01': 'Apple', 'Fruits02': 'Orange', 'Fruits03': 'Grapes'}**\n"
   ]
  },
  {
   "cell_type": "code",
   "execution_count": 9,
   "metadata": {},
   "outputs": [
    {
     "name": "stdout",
     "output_type": "stream",
     "text": [
      " New dictionary :  {'Fruits01': 'Apple', 'Fruits02': 'Orange', 'Fruits03': 'Grapes'}\n"
     ]
    }
   ],
   "source": [
    "# creating a dictionary of type string \n",
    "  \n",
    "fruity = {'Fruits 01' : 'Apple', 'Fruits 02' : 'Orange', \n",
    "                'Fruits 0 3 ': 'Grapes'}; \n",
    "  \n",
    "# removing spaces from keys \n",
    "# storing them in same dictionary \n",
    "fruity = {x.replace(' ', ''): v\n",
    " for x, v in fruity.items()} \n",
    "  \n",
    "# printing new dictionary \n",
    "print (\" New dictionary : \",fruity) "
   ]
  },
  {
   "cell_type": "markdown",
   "metadata": {},
   "source": [
    "<table align=\"left\">\n",
    "    <tr>\n",
    "        <td width=\"6%\">\n",
    "            <img src=\"question_icon.png\">\n",
    "        </td>\n",
    "        <td>\n",
    "            <div align=\"left\", style=\"font-size:120%\">\n",
    "                <font color=\"#21618C\">\n",
    "                    <b>7. Write a program to transpose a matrix using list comprehension</b>\n",
    "                 </font>\n",
    "            </div>\n",
    "        </td>\n",
    "    </tr>\n",
    "</table>"
   ]
  },
  {
   "cell_type": "markdown",
   "metadata": {},
   "source": [
    "**matrix=[[1,2],[3,4],[5,6],[7,8]]**<br>\n",
    "**Output: [[1, 3, 5, 7], [2, 4, 6, 8]]**"
   ]
  },
  {
   "cell_type": "code",
   "execution_count": 11,
   "metadata": {},
   "outputs": [
    {
     "data": {
      "text/plain": [
       "[[1, 3, 5, 7], [2, 4, 6, 8]]"
      ]
     },
     "execution_count": 11,
     "metadata": {},
     "output_type": "execute_result"
    }
   ],
   "source": [
    "matrix=[[1,2],[3,4],[5,6],[7,8]]\n",
    "\n",
    "# use list comprehension\n",
    "transpose =[[r[i] for r in matrix] for i in range (2)]\n",
    "transpose"
   ]
  },
  {
   "cell_type": "markdown",
   "metadata": {},
   "source": [
    "<table align=\"left\">\n",
    "    <tr>\n",
    "        <td width=\"6%\">\n",
    "            <img src=\"question_icon.png\">\n",
    "        </td>\n",
    "        <td>\n",
    "            <div align=\"left\", style=\"font-size:120%\">\n",
    "                <font color=\"#21618C\">\n",
    "                    <b>8. Write a program to add the cubes of first 5 positive integers (use while loop)</b>\n",
    "                 </font>\n",
    "            </div>\n",
    "        </td>\n",
    "    </tr>\n",
    "</table>"
   ]
  },
  {
   "cell_type": "code",
   "execution_count": 24,
   "metadata": {},
   "outputs": [
    {
     "name": "stdout",
     "output_type": "stream",
     "text": [
      "Sum of first five cubes: 225\n"
     ]
    }
   ],
   "source": [
    "# set the sum to zero\n",
    "cube_sum = 0\n",
    "\n",
    "# initiate the value of 'i'\n",
    "i=1\n",
    "\n",
    "# use while loop to add the cubes \n",
    "while i < 6: \n",
    "    cubes = i**3                   # calculate cube of integer\n",
    "    i +=1                          # incerease the value of 'i' by 1\n",
    "    cube_sum = cube_sum + cubes    # add the cube to previous sum\n",
    "    \n",
    "# print the sum\n",
    "print (\"Sum of first five cubes:\" , cube_sum)    "
   ]
  },
  {
   "cell_type": "markdown",
   "metadata": {},
   "source": [
    "<table align=\"left\">\n",
    "    <tr>\n",
    "        <td width=\"6%\">\n",
    "            <img src=\"question_icon.png\">\n",
    "        </td>\n",
    "        <td>\n",
    "            <div align=\"left\", style=\"font-size:120%\">\n",
    "                <font color=\"#21618C\">\n",
    "                    <b>9. Write a program to create a 5x3 matrix with values in each row as 1,2, and 3 (use list comprehension)</b>\n",
    "                    <br>\n",
    "                 </font>\n",
    "            </div>\n",
    "        </td>\n",
    "    </tr>\n",
    "</table>"
   ]
  },
  {
   "cell_type": "code",
   "execution_count": 16,
   "metadata": {},
   "outputs": [
    {
     "data": {
      "text/plain": [
       "[[1, 2, 3], [1, 2, 3], [1, 2, 3], [1, 2, 3], [1, 2, 3]]"
      ]
     },
     "execution_count": 16,
     "metadata": {},
     "output_type": "execute_result"
    }
   ],
   "source": [
    "# use list comprehension\n",
    "num_matrix = [[j for j in range(1,4)] for i in range(1,6)] \n",
    "\n",
    "# print the matrix\n",
    "num_matrix"
   ]
  }
 ],
 "metadata": {
  "kernelspec": {
   "display_name": "Python 3",
   "language": "python",
   "name": "python3"
  },
  "language_info": {
   "codemirror_mode": {
    "name": "ipython",
    "version": 3
   },
   "file_extension": ".py",
   "mimetype": "text/x-python",
   "name": "python",
   "nbconvert_exporter": "python",
   "pygments_lexer": "ipython3",
   "version": "3.8.3"
  }
 },
 "nbformat": 4,
 "nbformat_minor": 4
}

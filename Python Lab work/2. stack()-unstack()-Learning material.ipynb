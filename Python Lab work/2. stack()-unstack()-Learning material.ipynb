{
 "cells": [
  {
   "cell_type": "markdown",
   "metadata": {},
   "source": [
    "<table align=\"left\" width=100%>\n",
    "    <tr>\n",
    "        <td width=\"20%\">\n",
    "            <img src=\"faculty.png\">\n",
    "        </td>\n",
    "        <td>\n",
    "            <div align=\"center\">\n",
    "                <font color=\"#21618C\" size=8px>\n",
    "                  <b> Faculty Notebook <br> (Day 3) </b>\n",
    "                </font>\n",
    "            </div>\n",
    "        </td>\n",
    "    </tr>\n",
    "</table>"
   ]
  },
  {
   "cell_type": "markdown",
   "metadata": {},
   "source": [
    "## Table of Content\n",
    "\n",
    "1. **[Reshaping](#Reshaping)**\n"
   ]
  },
  {
   "cell_type": "markdown",
   "metadata": {
    "collapsed": true
   },
   "source": [
    "<a id=\"Reshaping\"> </a>\n",
    "### 1. Reshaping"
   ]
  },
  {
   "cell_type": "markdown",
   "metadata": {
    "collapsed": true
   },
   "source": [
    "**`.stack()` and `.unstack()` in Pandas:**<br>\n",
    " \n",
    "Unstacking can be used to rearrange the series with hierarchical index in a DataFrame.\n",
    "\n",
    "Stack is the inverse operation of unstack"
   ]
  },
  {
   "cell_type": "markdown",
   "metadata": {},
   "source": [
    "### Methods of Multi-Index Creation"
   ]
  },
  {
   "cell_type": "code",
   "execution_count": 3,
   "metadata": {},
   "outputs": [
    {
     "data": {
      "text/html": [
       "<div>\n",
       "<style scoped>\n",
       "    .dataframe tbody tr th:only-of-type {\n",
       "        vertical-align: middle;\n",
       "    }\n",
       "\n",
       "    .dataframe tbody tr th {\n",
       "        vertical-align: top;\n",
       "    }\n",
       "\n",
       "    .dataframe thead tr th {\n",
       "        text-align: left;\n",
       "    }\n",
       "</style>\n",
       "<table border=\"1\" class=\"dataframe\">\n",
       "  <thead>\n",
       "    <tr>\n",
       "      <th></th>\n",
       "      <th>Before Course</th>\n",
       "      <th>After Course</th>\n",
       "    </tr>\n",
       "    <tr>\n",
       "      <th></th>\n",
       "      <th>Marks</th>\n",
       "      <th>Marks</th>\n",
       "    </tr>\n",
       "  </thead>\n",
       "  <tbody>\n",
       "    <tr>\n",
       "      <th>Alisa</th>\n",
       "      <td>82</td>\n",
       "      <td>95</td>\n",
       "    </tr>\n",
       "    <tr>\n",
       "      <th>Bobby</th>\n",
       "      <td>78</td>\n",
       "      <td>89</td>\n",
       "    </tr>\n",
       "    <tr>\n",
       "      <th>Cathrine</th>\n",
       "      <td>78</td>\n",
       "      <td>87</td>\n",
       "    </tr>\n",
       "    <tr>\n",
       "      <th>Jack</th>\n",
       "      <td>76</td>\n",
       "      <td>89</td>\n",
       "    </tr>\n",
       "    <tr>\n",
       "      <th>Mia</th>\n",
       "      <td>66</td>\n",
       "      <td>89</td>\n",
       "    </tr>\n",
       "  </tbody>\n",
       "</table>\n",
       "</div>"
      ],
      "text/plain": [
       "         Before Course After Course\n",
       "                 Marks        Marks\n",
       "Alisa               82           95\n",
       "Bobby               78           89\n",
       "Cathrine            78           87\n",
       "Jack                76           89\n",
       "Mia                 66           89"
      ]
     },
     "execution_count": 3,
     "metadata": {},
     "output_type": "execute_result"
    }
   ],
   "source": [
    "# create the column names of the DataFrame\n",
    "labels = pd.MultiIndex.from_product([['Before Course','After Course'],['Marks']])\n",
    "\n",
    "# create the list of values \n",
    "marks = [[82,95],[78,89],[78,87],[76,89],[66,89]]\n",
    "\n",
    "# create the DataFrame\n",
    "# data is the values used to create the DataFrame\n",
    "# index are the index name of the DataFrame\n",
    "# columns are the column name of the DataFrame\n",
    "df_marks = pd.DataFrame(data = marks, index = ['Alisa','Bobby','Cathrine','Jack','Mia'], columns = labels)\n",
    "\n",
    "# print the DataFrame\n",
    "df_marks"
   ]
  },
  {
   "cell_type": "code",
   "execution_count": 2,
   "metadata": {},
   "outputs": [],
   "source": [
    "import pandas as pd"
   ]
  },
  {
   "cell_type": "markdown",
   "metadata": {},
   "source": [
    "We shall use the above the DataFrame henceforth."
   ]
  },
  {
   "cell_type": "markdown",
   "metadata": {},
   "source": [
    "Stack the DataFrame"
   ]
  },
  {
   "cell_type": "code",
   "execution_count": 5,
   "metadata": {},
   "outputs": [
    {
     "name": "stdout",
     "output_type": "stream",
     "text": [
      "                After Course  Before Course\n",
      "Alisa    Marks            95             82\n",
      "Bobby    Marks            89             78\n",
      "Cathrine Marks            87             78\n",
      "Jack     Marks            89             76\n",
      "Mia      Marks            89             66\n"
     ]
    }
   ],
   "source": [
    "# stack the DataFrame\n",
    "df_stacked = df_marks.stack()\n",
    "\n",
    "# print the stacked DataFrame\n",
    "print(df_stacked)"
   ]
  },
  {
   "cell_type": "markdown",
   "metadata": {},
   "source": [
    "Notice this creates two levels of indexes; the first level is the name of students, and the second level is 'Marks'. There are two indexes and is called a multi-index. \n",
    "\n",
    "We can convert back to a full table by unstacking, recreating a single index for each line of data."
   ]
  },
  {
   "cell_type": "code",
   "execution_count": 6,
   "metadata": {},
   "outputs": [
    {
     "name": "stdout",
     "output_type": "stream",
     "text": [
      "         After Course Before Course\n",
      "                Marks         Marks\n",
      "Alisa              95            82\n",
      "Bobby              89            78\n",
      "Cathrine           87            78\n",
      "Jack               89            76\n",
      "Mia                89            66\n"
     ]
    }
   ],
   "source": [
    "# unstack the DataFrame\n",
    "df_unstacked = df_stacked.unstack()\n",
    "\n",
    "# print the unstacked DataFrame\n",
    "print (df_unstacked)"
   ]
  },
  {
   "cell_type": "markdown",
   "metadata": {},
   "source": [
    "Let us introduce the parameter `level`  in `.stack()`.  The argument `level = 0`  stacks the column marks as 'after course' and 'before course'."
   ]
  },
  {
   "cell_type": "code",
   "execution_count": 7,
   "metadata": {},
   "outputs": [
    {
     "data": {
      "text/html": [
       "<div>\n",
       "<style scoped>\n",
       "    .dataframe tbody tr th:only-of-type {\n",
       "        vertical-align: middle;\n",
       "    }\n",
       "\n",
       "    .dataframe tbody tr th {\n",
       "        vertical-align: top;\n",
       "    }\n",
       "\n",
       "    .dataframe thead th {\n",
       "        text-align: right;\n",
       "    }\n",
       "</style>\n",
       "<table border=\"1\" class=\"dataframe\">\n",
       "  <thead>\n",
       "    <tr style=\"text-align: right;\">\n",
       "      <th></th>\n",
       "      <th></th>\n",
       "      <th>Marks</th>\n",
       "    </tr>\n",
       "  </thead>\n",
       "  <tbody>\n",
       "    <tr>\n",
       "      <th rowspan=\"2\" valign=\"top\">Alisa</th>\n",
       "      <th>After Course</th>\n",
       "      <td>95</td>\n",
       "    </tr>\n",
       "    <tr>\n",
       "      <th>Before Course</th>\n",
       "      <td>82</td>\n",
       "    </tr>\n",
       "    <tr>\n",
       "      <th rowspan=\"2\" valign=\"top\">Bobby</th>\n",
       "      <th>After Course</th>\n",
       "      <td>89</td>\n",
       "    </tr>\n",
       "    <tr>\n",
       "      <th>Before Course</th>\n",
       "      <td>78</td>\n",
       "    </tr>\n",
       "    <tr>\n",
       "      <th rowspan=\"2\" valign=\"top\">Cathrine</th>\n",
       "      <th>After Course</th>\n",
       "      <td>87</td>\n",
       "    </tr>\n",
       "    <tr>\n",
       "      <th>Before Course</th>\n",
       "      <td>78</td>\n",
       "    </tr>\n",
       "    <tr>\n",
       "      <th rowspan=\"2\" valign=\"top\">Jack</th>\n",
       "      <th>After Course</th>\n",
       "      <td>89</td>\n",
       "    </tr>\n",
       "    <tr>\n",
       "      <th>Before Course</th>\n",
       "      <td>76</td>\n",
       "    </tr>\n",
       "    <tr>\n",
       "      <th rowspan=\"2\" valign=\"top\">Mia</th>\n",
       "      <th>After Course</th>\n",
       "      <td>89</td>\n",
       "    </tr>\n",
       "    <tr>\n",
       "      <th>Before Course</th>\n",
       "      <td>66</td>\n",
       "    </tr>\n",
       "  </tbody>\n",
       "</table>\n",
       "</div>"
      ],
      "text/plain": [
       "                        Marks\n",
       "Alisa    After Course      95\n",
       "         Before Course     82\n",
       "Bobby    After Course      89\n",
       "         Before Course     78\n",
       "Cathrine After Course      87\n",
       "         Before Course     78\n",
       "Jack     After Course      89\n",
       "         Before Course     76\n",
       "Mia      After Course      89\n",
       "         Before Course     66"
      ]
     },
     "execution_count": 7,
     "metadata": {},
     "output_type": "execute_result"
    }
   ],
   "source": [
    "# stack the DataFrame\n",
    "df_stacked_level = df_marks.stack(level = 0)\n",
    "\n",
    "# print the stacked DataFrame\n",
    "df_stacked_level"
   ]
  },
  {
   "cell_type": "markdown",
   "metadata": {},
   "source": [
    "Now put `level = 1`."
   ]
  },
  {
   "cell_type": "code",
   "execution_count": 23,
   "metadata": {},
   "outputs": [
    {
     "data": {
      "text/html": [
       "<div>\n",
       "<style scoped>\n",
       "    .dataframe tbody tr th:only-of-type {\n",
       "        vertical-align: middle;\n",
       "    }\n",
       "\n",
       "    .dataframe tbody tr th {\n",
       "        vertical-align: top;\n",
       "    }\n",
       "\n",
       "    .dataframe thead th {\n",
       "        text-align: right;\n",
       "    }\n",
       "</style>\n",
       "<table border=\"1\" class=\"dataframe\">\n",
       "  <thead>\n",
       "    <tr style=\"text-align: right;\">\n",
       "      <th></th>\n",
       "      <th></th>\n",
       "      <th>After Course</th>\n",
       "      <th>Before Course</th>\n",
       "    </tr>\n",
       "  </thead>\n",
       "  <tbody>\n",
       "    <tr>\n",
       "      <td>Alisa</td>\n",
       "      <td>Marks</td>\n",
       "      <td>95</td>\n",
       "      <td>82</td>\n",
       "    </tr>\n",
       "    <tr>\n",
       "      <td>Bobby</td>\n",
       "      <td>Marks</td>\n",
       "      <td>89</td>\n",
       "      <td>78</td>\n",
       "    </tr>\n",
       "    <tr>\n",
       "      <td>Cathrine</td>\n",
       "      <td>Marks</td>\n",
       "      <td>87</td>\n",
       "      <td>78</td>\n",
       "    </tr>\n",
       "    <tr>\n",
       "      <td>Jack</td>\n",
       "      <td>Marks</td>\n",
       "      <td>89</td>\n",
       "      <td>76</td>\n",
       "    </tr>\n",
       "    <tr>\n",
       "      <td>Mia</td>\n",
       "      <td>Marks</td>\n",
       "      <td>89</td>\n",
       "      <td>66</td>\n",
       "    </tr>\n",
       "  </tbody>\n",
       "</table>\n",
       "</div>"
      ],
      "text/plain": [
       "                After Course  Before Course\n",
       "Alisa    Marks            95             82\n",
       "Bobby    Marks            89             78\n",
       "Cathrine Marks            87             78\n",
       "Jack     Marks            89             76\n",
       "Mia      Marks            89             66"
      ]
     },
     "execution_count": 23,
     "metadata": {},
     "output_type": "execute_result"
    }
   ],
   "source": [
    "# stack the DataFrame\n",
    "df_stacked_level = df_marks.stack(level = 1)\n",
    "\n",
    "# print the stacked DataFrame\n",
    "df_stacked_level"
   ]
  },
  {
   "cell_type": "markdown",
   "metadata": {},
   "source": [
    "**Using `.melt()` method:**<br>\n",
    "`.melt()` in pandas reshape dataframe from wide format to long format. It uses the `id_vars[‘col_names’]` to melt the dataframe by column names."
   ]
  },
  {
   "cell_type": "code",
   "execution_count": 24,
   "metadata": {},
   "outputs": [
    {
     "data": {
      "text/html": [
       "<div>\n",
       "<style scoped>\n",
       "    .dataframe tbody tr th:only-of-type {\n",
       "        vertical-align: middle;\n",
       "    }\n",
       "\n",
       "    .dataframe tbody tr th {\n",
       "        vertical-align: top;\n",
       "    }\n",
       "\n",
       "    .dataframe thead th {\n",
       "        text-align: right;\n",
       "    }\n",
       "</style>\n",
       "<table border=\"1\" class=\"dataframe\">\n",
       "  <thead>\n",
       "    <tr style=\"text-align: right;\">\n",
       "      <th></th>\n",
       "      <th>Emp_ID</th>\n",
       "      <th>Name</th>\n",
       "      <th>Gender</th>\n",
       "      <th>Company</th>\n",
       "      <th>Salary</th>\n",
       "    </tr>\n",
       "  </thead>\n",
       "  <tbody>\n",
       "    <tr>\n",
       "      <td>101</td>\n",
       "      <td>1001</td>\n",
       "      <td>Alex</td>\n",
       "      <td>M</td>\n",
       "      <td>Apple</td>\n",
       "      <td>67000</td>\n",
       "    </tr>\n",
       "    <tr>\n",
       "      <td>102</td>\n",
       "      <td>1002</td>\n",
       "      <td>Amy</td>\n",
       "      <td>F</td>\n",
       "      <td>Walmart</td>\n",
       "      <td>90000</td>\n",
       "    </tr>\n",
       "    <tr>\n",
       "      <td>103</td>\n",
       "      <td>1003</td>\n",
       "      <td>Allen</td>\n",
       "      <td>M</td>\n",
       "      <td>Intel</td>\n",
       "      <td>87000</td>\n",
       "    </tr>\n",
       "    <tr>\n",
       "      <td>104</td>\n",
       "      <td>1004</td>\n",
       "      <td>Alice</td>\n",
       "      <td>F</td>\n",
       "      <td>Cummins</td>\n",
       "      <td>69000</td>\n",
       "    </tr>\n",
       "    <tr>\n",
       "      <td>105</td>\n",
       "      <td>1005</td>\n",
       "      <td>Stephan</td>\n",
       "      <td>M</td>\n",
       "      <td>Ford</td>\n",
       "      <td>78000</td>\n",
       "    </tr>\n",
       "  </tbody>\n",
       "</table>\n",
       "</div>"
      ],
      "text/plain": [
       "     Emp_ID     Name Gender  Company  Salary\n",
       "101    1001     Alex      M    Apple   67000\n",
       "102    1002      Amy      F  Walmart   90000\n",
       "103    1003    Allen      M    Intel   87000\n",
       "104    1004    Alice      F  Cummins   69000\n",
       "105    1005  Stephan      M     Ford   78000"
      ]
     },
     "execution_count": 24,
     "metadata": {},
     "output_type": "execute_result"
    }
   ],
   "source": [
    "# display DataFrame\n",
    "df_prof_info_A"
   ]
  },
  {
   "cell_type": "code",
   "execution_count": 25,
   "metadata": {},
   "outputs": [
    {
     "name": "stdout",
     "output_type": "stream",
     "text": [
      "   Company variable    value\n",
      "0    Apple   Emp_ID     1001\n",
      "1  Walmart   Emp_ID     1002\n",
      "2    Intel   Emp_ID     1003\n",
      "3  Cummins   Emp_ID     1004\n",
      "4     Ford   Emp_ID     1005\n",
      "5    Apple     Name     Alex\n",
      "6  Walmart     Name      Amy\n",
      "7    Intel     Name    Allen\n",
      "8  Cummins     Name    Alice\n",
      "9     Ford     Name  Stephan\n"
     ]
    }
   ],
   "source": [
    "# reshape the DataFrame using melt()\n",
    "df_melt = df_prof_info_A.melt(id_vars =['Company'])  \n",
    "print(df_melt.head(10)) "
   ]
  },
  {
   "cell_type": "markdown",
   "metadata": {},
   "source": [
    "The column ‘variable’ contains all the columns except the identifiers, and ‘value’ contains the values of the corresponding column."
   ]
  }
 ],
 "metadata": {
  "kernelspec": {
   "display_name": "Python 3",
   "language": "python",
   "name": "python3"
  },
  "language_info": {
   "codemirror_mode": {
    "name": "ipython",
    "version": 3
   },
   "file_extension": ".py",
   "mimetype": "text/x-python",
   "name": "python",
   "nbconvert_exporter": "python",
   "pygments_lexer": "ipython3",
   "version": "3.8.5"
  }
 },
 "nbformat": 4,
 "nbformat_minor": 4
}

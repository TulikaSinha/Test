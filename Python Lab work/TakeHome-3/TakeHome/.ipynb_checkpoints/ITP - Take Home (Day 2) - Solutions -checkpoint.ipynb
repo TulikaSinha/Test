{
 "cells": [
  {
   "cell_type": "markdown",
   "metadata": {},
   "source": [
    "<table align=\"center\" width=100%>\n",
    "    <tr>\n",
    "        <td width=\"15%\">\n",
    "            <img src=\"homework.png\">\n",
    "        </td>\n",
    "        <td>\n",
    "            <div align=\"center\">\n",
    "                <font color=\"#21618C\" size=8px>\n",
    "                    <b> Take-Home <br>(Day 2)\n",
    "                    </b>\n",
    "                </font>\n",
    "            </div>\n",
    "        </td>\n",
    "    </tr>\n",
    "</table>"
   ]
  },
  {
   "cell_type": "markdown",
   "metadata": {},
   "source": [
    "### Let's begin with some hands-on practice exercises"
   ]
  },
  {
   "cell_type": "markdown",
   "metadata": {},
   "source": [
    "<table align=\"left\">\n",
    "    <tr>\n",
    "        <td width=\"6%\">\n",
    "            <img src=\"question_icon.png\">\n",
    "        </td>\n",
    "        <td>\n",
    "            <div align=\"left\", style=\"font-size:120%\">\n",
    "                <font color=\"#21618C\">\n",
    "                    <b>1. A text is given below. Write a program to find the character which is at the index position obtained by adding the indices of the character 'o' of the word 'Hello' and 'o' of the word 'welcome'</b>\n",
    "                </font>\n",
    "            </div>\n",
    "        </td>\n",
    "    </tr>\n",
    "</table>\n",
    "\n"
   ]
  },
  {
   "cell_type": "markdown",
   "metadata": {},
   "source": [
    "<b>string = \"Hello, welcome to my world.\" </b>"
   ]
  },
  {
   "cell_type": "code",
   "execution_count": 1,
   "metadata": {},
   "outputs": [
    {
     "name": "stdout",
     "output_type": "stream",
     "text": [
      "Index position of 'o' in 'Hello': 4\n",
      "Index position of 'o' in 'welcome': 11\n",
      "Character at index position 15: t\n"
     ]
    }
   ],
   "source": [
    "string = \"Hello, welcome to my world.\"\n",
    "\n",
    "# get the index value of 'o' for the word 'Hello'\n",
    "# pass the start index as 0\n",
    "# pass the end index as 5 \n",
    "x = string.rindex(\"o\", 0, 5)\n",
    "print(\"Index position of 'o' in 'Hello':\", x)    \n",
    "\n",
    "# get the index value of 'o' for the word 'welcome'\n",
    "# pass the start index as 5\n",
    "# pass the end index as 14\n",
    "y = string.rindex(\"o\", 7, 14) \n",
    "print(\"Index position of 'o' in 'welcome':\", y)    \n",
    "\n",
    "# add the indices of character 'o' of word hello and 'o' of the word 'welcome'\n",
    "# print the character at the index position 15\n",
    "print('Character at index position 15:', string[x+y]) "
   ]
  },
  {
   "cell_type": "markdown",
   "metadata": {},
   "source": [
    "<table align=\"left\">\n",
    "    <tr>\n",
    "        <td width=\"6%\">\n",
    "            <img src=\"question_icon.png\">\n",
    "        </td>\n",
    "        <td>\n",
    "            <div align=\"left\", style=\"font-size:120%\">\n",
    "                <font color=\"#21618C\">\n",
    "                    <b> 1. Create a tuple with single value '5'</b>\n",
    "                </font>\n",
    "            </div>\n",
    "        </td>\n",
    "    </tr>\n",
    "</table>\n"
   ]
  },
  {
   "cell_type": "code",
   "execution_count": 1,
   "metadata": {},
   "outputs": [
    {
     "name": "stdout",
     "output_type": "stream",
     "text": [
      "Type of t: <class 'tuple'>\n"
     ]
    }
   ],
   "source": [
    "# the 'comma' after 5 returns a tuple\n",
    "# without the 'comma', 't' will be interpreted as integer \n",
    "t = (5,)\n",
    "print('Type of t:', type(t))"
   ]
  },
  {
   "cell_type": "markdown",
   "metadata": {},
   "source": [
    "<table align=\"left\">\n",
    "    <tr>\n",
    "        <td width=\"6%\">\n",
    "            <img src=\"question_icon.png\">\n",
    "        </td>\n",
    "        <td>\n",
    "            <div align=\"left\", style=\"font-size:120%\">\n",
    "                <font color=\"#21618C\">\n",
    "                    <b>2. Write a program that takes two dictionaries and concatenates them into one dictionary</b>\n",
    "                </font>\n",
    "            </div>\n",
    "        </td>\n",
    "    </tr>\n",
    "</table>\n"
   ]
  },
  {
   "cell_type": "markdown",
   "metadata": {},
   "source": [
    "**Use the below dictionaries:**\n",
    "\n",
    "dictionary_1 = {'A':1, 'B':2}<br>\n",
    "\n",
    "dictionary_2 = {'C':3}"
   ]
  },
  {
   "cell_type": "code",
   "execution_count": 2,
   "metadata": {},
   "outputs": [
    {
     "name": "stdout",
     "output_type": "stream",
     "text": [
      "Concatenated dictionary is: {'A': 1, 'B': 2, 'C': 3}\n"
     ]
    }
   ],
   "source": [
    "dictionary_1={'A':1, 'B':2}\n",
    "dictionary_2={'C':3}\n",
    "\n",
    "# use update to concatenate two dictionaries \n",
    "dictionary_1.update(dictionary_2)\n",
    "print(\"Concatenated dictionary is:\", dictionary_1)"
   ]
  },
  {
   "cell_type": "markdown",
   "metadata": {},
   "source": [
    "<table align=\"left\">\n",
    "    <tr>\n",
    "        <td width=\"6%\">\n",
    "            <img src=\"question_icon.png\">\n",
    "        </td>\n",
    "        <td>\n",
    "            <div align=\"left\", style=\"font-size:120%\">\n",
    "                <font color=\"#21618C\">\n",
    "                    <b>3. Check whether the set X and Y are disjoint or not </b>\n",
    "                </font>\n",
    "            </div>\n",
    "        </td>\n",
    "    </tr>\n",
    "</table>"
   ]
  },
  {
   "cell_type": "markdown",
   "metadata": {},
   "source": [
    "**Use the sets below (or create your own sets):**\n",
    "\n",
    "#### Set X\n",
    "X = {4, 5, 11, 34, 4, 56, 44, 67, 67, 5, 12, 34, 16, 9, 22, 23, 56, 34, 33, 89, 78, 45, 33, 78, 34, 45, 12, 45, 56 }\n",
    "\n",
    "#### Set Y\n",
    "Y = {41, 52, 63, 56, 67, 45, 99, 56, 45, 23, 45, 63, 45, 56, 45, 55, 56, 56, 12, 86, 67, 55, 56, 34, 89}"
   ]
  },
  {
   "cell_type": "code",
   "execution_count": 3,
   "metadata": {},
   "outputs": [
    {
     "name": "stdout",
     "output_type": "stream",
     "text": [
      "Are X and Y disjoint? False\n",
      "Intersection of X and Y: {34, 67, 12, 45, 23, 56, 89}\n"
     ]
    }
   ],
   "source": [
    "# Set X\n",
    "X = {4, 5, 11, 34, 4, 56, 44, 67, 67, 5, 12, 34, 16, 9, 22, 23, 56, 34, 33, 89, 78, 45, 33, 78, 34, 45, 12, 45, 56 }\n",
    "# Set Y\n",
    "Y = {41, 52, 63, 56, 67, 45, 99, 56, 45, 23, 45, 63, 45, 56, 45, 55, 56, 56, 12, 86, 67, 55, 56, 34, 89}\n",
    "\n",
    "print('Are X and Y disjoint?', X.isdisjoint(Y))\n",
    "if (X.isdisjoint(Y) == False):\n",
    "    print('Intersection of X and Y:', X.intersection(Y))\n",
    "else:\n",
    "    print('Sets are disjoint')"
   ]
  },
  {
   "cell_type": "markdown",
   "metadata": {},
   "source": [
    "<table align=\"left\">\n",
    "    <tr>\n",
    "        <td width=\"6%\">\n",
    "            <img src=\"question_icon.png\">\n",
    "        </td>\n",
    "        <td>\n",
    "            <div align=\"left\", style=\"font-size:120%\">\n",
    "                <font color=\"#21618C\">\n",
    "                    <b>4. Retrieve the third element in the given list</b>\n",
    "                </font>\n",
    "            </div>\n",
    "        </td>\n",
    "    </tr>\n",
    "</table>"
   ]
  },
  {
   "cell_type": "markdown",
   "metadata": {},
   "source": [
    "**Use the list given below:**\n",
    "    \n",
    "num_list = [5, 3, 6, 1, 85, 23, 5, 13]"
   ]
  },
  {
   "cell_type": "code",
   "execution_count": 4,
   "metadata": {},
   "outputs": [
    {
     "name": "stdout",
     "output_type": "stream",
     "text": [
      "Third element: 6\n"
     ]
    }
   ],
   "source": [
    "num_list = [5, 3, 6, 1, 85, 23, 5, 13]\n",
    "\n",
    "# list indices starts from 0\n",
    "print('Third element:', num_list[2])"
   ]
  },
  {
   "cell_type": "markdown",
   "metadata": {},
   "source": [
    "<table align=\"left\">\n",
    "    <tr>\n",
    "        <td width=\"6%\">\n",
    "            <img src=\"question_icon.png\">\n",
    "        </td>\n",
    "        <td>\n",
    "            <div align=\"left\", style=\"font-size:120%\">\n",
    "                <font color=\"#21618C\">\n",
    "                    <b>5. Count the occurance of number -6 in the given tuple</b>\n",
    "                </font>\n",
    "            </div>\n",
    "        </td>\n",
    "    </tr>\n",
    "</table>"
   ]
  },
  {
   "cell_type": "markdown",
   "metadata": {},
   "source": [
    "**Use the tuple given below:**\n",
    "    \n",
    "num_tuple = (-4, 7, -8, -9, 8, -6, 7, 3, -6, 1, -8, -6) "
   ]
  },
  {
   "cell_type": "code",
   "execution_count": 5,
   "metadata": {},
   "outputs": [
    {
     "data": {
      "text/plain": [
       "3"
      ]
     },
     "execution_count": 5,
     "metadata": {},
     "output_type": "execute_result"
    }
   ],
   "source": [
    "# given tuple\n",
    "num_tuple = (-4, 7, -8, -9, 8, -6, 7, 3, -6, 1, -8, -6)\n",
    "\n",
    "# count the number of times '-6' occurs in a given tuple\n",
    "num_tuple.count(-6)"
   ]
  },
  {
   "cell_type": "markdown",
   "metadata": {},
   "source": [
    "<table align=\"left\">\n",
    "    <tr>\n",
    "        <td width=\"6%\">\n",
    "            <img src=\"question_icon.png\">\n",
    "        </td>\n",
    "        <td>\n",
    "            <div align=\"left\", style=\"font-size:120%\">\n",
    "                <font color=\"#21618C\">\n",
    "                    <b> 6. Check whether the number 53 is in the given list or not</b>\n",
    "                </font>\n",
    "            </div>\n",
    "        </td>\n",
    "    </tr>\n",
    "</table>"
   ]
  },
  {
   "cell_type": "markdown",
   "metadata": {},
   "source": [
    "**Use the list given below:**\n",
    "    \n",
    "num_list = [5, 3, 6, 1, 85, 23, 5, 13]"
   ]
  },
  {
   "cell_type": "code",
   "execution_count": 6,
   "metadata": {},
   "outputs": [
    {
     "name": "stdout",
     "output_type": "stream",
     "text": [
      "False\n"
     ]
    }
   ],
   "source": [
    "num_list = [5, 3, 6, 1, 85, 23, 5, 13]\n",
    "\n",
    "# check if the element '53' is present in the list or not\n",
    "# the output will be boolean\n",
    "print(53 in num_list)"
   ]
  },
  {
   "cell_type": "markdown",
   "metadata": {},
   "source": [
    "<table align=\"left\">\n",
    "    <tr>\n",
    "        <td width=\"6%\">\n",
    "            <img src=\"question_icon.png\">\n",
    "        </td>\n",
    "        <td>\n",
    "            <div align=\"left\", style=\"font-size:120%\">\n",
    "                <font color=\"#21618C\">\n",
    "                    <b> 7. Remove number 3 from a given set </b>\n",
    "                </font>\n",
    "            </div>\n",
    "        </td>\n",
    "    </tr>\n",
    "</table>"
   ]
  },
  {
   "cell_type": "markdown",
   "metadata": {},
   "source": [
    "**Use the set below:**\n",
    "\n",
    "numbers = {2, 3, 4, 5}"
   ]
  },
  {
   "cell_type": "code",
   "execution_count": 7,
   "metadata": {},
   "outputs": [
    {
     "name": "stdout",
     "output_type": "stream",
     "text": [
      "updated_numbers =  {2, 4, 5}\n"
     ]
    }
   ],
   "source": [
    "numbers = {2, 3, 4, 5}\n",
    "\n",
    "# remove the number 3\n",
    "numbers.discard(3)\n",
    "print('updated_numbers = ', numbers)"
   ]
  },
  {
   "cell_type": "markdown",
   "metadata": {},
   "source": [
    "<table align=\"left\">\n",
    "    <tr>\n",
    "        <td width=\"6%\">\n",
    "            <img src=\"question_icon.png\">\n",
    "        </td>\n",
    "        <td>\n",
    "            <div align=\"left\", style=\"font-size:120%\">\n",
    "                <font color=\"#21618C\">\n",
    "                    <b>8. Write a program to convert a list into tuple  </b>\n",
    "                </font>\n",
    "            </div>\n",
    "        </td>\n",
    "    </tr>\n",
    "</table>"
   ]
  },
  {
   "cell_type": "markdown",
   "metadata": {},
   "source": [
    "**Use the list below:**\n",
    "\n",
    "num_list = [24, 18, 24, 47, 52]"
   ]
  },
  {
   "cell_type": "code",
   "execution_count": 8,
   "metadata": {},
   "outputs": [
    {
     "name": "stdout",
     "output_type": "stream",
     "text": [
      "<class 'tuple'>\n",
      "(24, 18, 24, 47, 52)\n"
     ]
    }
   ],
   "source": [
    "num_list = [24, 18, 24, 47, 52]\n",
    "\n",
    "# xonvert a list to a tuple\n",
    "converted_list =  tuple(num_list)\n",
    "\n",
    "# check the type \n",
    "print(type(converted_list))\n",
    "\n",
    "# print the values\n",
    "print(converted_list)"
   ]
  },
  {
   "cell_type": "markdown",
   "metadata": {},
   "source": [
    "<table align=\"left\">\n",
    "    <tr>\n",
    "        <td width=\"6%\">\n",
    "            <img src=\"question_icon.png\">\n",
    "        </td>\n",
    "        <td>\n",
    "            <div align=\"left\", style=\"font-size:120%\">\n",
    "                <font color=\"#21618C\">\n",
    "                    <b>9. Write a program to retrieve the capital of 'Germany' from a given dictionary</b>\n",
    "                </font>\n",
    "            </div>\n",
    "        </td>\n",
    "    </tr>\n",
    "</table>\n"
   ]
  },
  {
   "cell_type": "markdown",
   "metadata": {},
   "source": [
    "**Use the dictionary given below:**\n",
    "\n",
    "europe = { 'Spain': { 'Capital':'Madrid', 'Population':4.77 },\n",
    "           'France': { 'Capital':'Paris', 'Population':6.7 },\n",
    "           'Germany': { 'Capital':'Berlin', 'Population':8.28 },\n",
    "           'Norway': { 'Capital':'Oslo', 'Population':0.533 } }"
   ]
  },
  {
   "cell_type": "code",
   "execution_count": 9,
   "metadata": {},
   "outputs": [
    {
     "name": "stdout",
     "output_type": "stream",
     "text": [
      "Berlin\n"
     ]
    }
   ],
   "source": [
    "europe = { 'Spain': { 'Capital':'Madrid', 'Population':4.77 },\n",
    "           'France': { 'Capital':'Paris', 'Population':6.7 },\n",
    "           'Germany': { 'Capital':'Berlin', 'Population':8.28 },\n",
    "           'Norway': { 'Capital':'Oslo', 'Population':0.533 } }\n",
    "\n",
    "# retrieve the capital of Germany\n",
    "print (europe['Germany']['Capital'])"
   ]
  },
  {
   "cell_type": "markdown",
   "metadata": {},
   "source": [
    "<table align=\"left\">\n",
    "    <tr>\n",
    "        <td width=\"6%\">\n",
    "            <img src=\"question_icon.png\">\n",
    "        </td>\n",
    "        <td>\n",
    "            <div align=\"left\", style=\"font-size:120%\">\n",
    "                <font color=\"#21618C\">\n",
    "                    <b>10. Find maximum and the minimum value from a given set </b>\n",
    "                </font>\n",
    "            </div>\n",
    "        </td>\n",
    "    </tr>\n",
    "</table>\n",
    "\n"
   ]
  },
  {
   "cell_type": "markdown",
   "metadata": {},
   "source": [
    "**Use the elements:**\n",
    "    \n",
    "5, 10, 3, 15, 2, 20, 10, 5, 4, 3"
   ]
  },
  {
   "cell_type": "code",
   "execution_count": 10,
   "metadata": {},
   "outputs": [
    {
     "name": "stdout",
     "output_type": "stream",
     "text": [
      "Maximum: 20\n",
      "Minimum: 2\n"
     ]
    }
   ],
   "source": [
    "# create a set\n",
    "num_set = set([5, 10, 3, 15, 2, 20, 10, 5, 4, 3])\n",
    "\n",
    "# maximum value\n",
    "print('Maximum:', max(num_set))\n",
    "\n",
    "# minimum value\n",
    "print('Minimum:', min(num_set))"
   ]
  },
  {
   "cell_type": "markdown",
   "metadata": {},
   "source": [
    "<table align=\"left\">\n",
    "    <tr>\n",
    "        <td width=\"6%\">\n",
    "            <img src=\"question_icon.png\">\n",
    "        </td>\n",
    "        <td>\n",
    "            <div align=\"left\", style=\"font-size:120%\">\n",
    "                <font color=\"#21618C\">\n",
    "                    <b>11. Write a program to check whether two strings are anagram or not (take input from user)</b>\n",
    "                 </font>\n",
    "            </div>\n",
    "        </td>\n",
    "    </tr>\n",
    "</table>"
   ]
  },
  {
   "cell_type": "markdown",
   "metadata": {},
   "source": [
    "**Hint: An anagram of a string is another string that contains same characters, only the order of characters can be different.**"
   ]
  },
  {
   "cell_type": "code",
   "execution_count": 8,
   "metadata": {},
   "outputs": [
    {
     "name": "stdout",
     "output_type": "stream",
     "text": [
      "Enter a string : eat\n",
      "Enter a string : ate\n",
      "The strings are anagrams.\n"
     ]
    }
   ],
   "source": [
    "s1 = str(input(\"Enter a string : \"))\n",
    "s2 = str(input(\"Enter a string : \"))\n",
    "\n",
    "if(sorted(s1.lower())== sorted(s2.lower())): \n",
    "    print(\"The strings are anagrams.\")  \n",
    "else: \n",
    "    print(\"The strings aren't anagrams.\")     "
   ]
  }
 ],
 "metadata": {
  "kernelspec": {
   "display_name": "Python 3",
   "language": "python",
   "name": "python3"
  },
  "language_info": {
   "codemirror_mode": {
    "name": "ipython",
    "version": 3
   },
   "file_extension": ".py",
   "mimetype": "text/x-python",
   "name": "python",
   "nbconvert_exporter": "python",
   "pygments_lexer": "ipython3",
   "version": "3.8.3"
  }
 },
 "nbformat": 4,
 "nbformat_minor": 2
}

{
 "cells": [
  {
   "cell_type": "markdown",
   "metadata": {},
   "source": [
    "# INTRODUCTION TO PYTHON"
   ]
  },
  {
   "cell_type": "markdown",
   "metadata": {},
   "source": [
    "## Final Exam \n",
    "## Total Marks : 70 Marks"
   ]
  },
  {
   "cell_type": "markdown",
   "metadata": {},
   "source": [
    "----"
   ]
  },
  {
   "cell_type": "markdown",
   "metadata": {},
   "source": [
    "# SECTION A: 20 MARKS"
   ]
  },
  {
   "cell_type": "markdown",
   "metadata": {},
   "source": [
    " _________________"
   ]
  },
  {
   "cell_type": "markdown",
   "metadata": {},
   "source": [
    "### Q1.  Write a program that asks the user to enter size of the list, then do the following: (5Marks)\n",
    "(a) if size of the list is less than 4 then print a message to user \"Invalid size and enter a size more than 4\". The program will continue from begining.\n",
    "\n",
    "(b) After taking valid size , program should take list items from user and create user defined list. \n",
    "\n",
    "(c) Use the choice() function to print out random item from the list.\n",
    "\n",
    "(d) Use the sample() function to print out three random items from the list.\n",
    "\n",
    "(e) Use the shuffle() function to reorder the list and then print out the list.\n",
    "\n",
    "\n",
    "**Choice(),shuffle(),sample() functions are defined under random library. You need to import random library to use it.**\n",
    "\n",
    "***\n",
    "#### Sample Input/Output:\n",
    "\n",
    "\n",
    "<span style=\"font-family:consolas \">\n",
    "\n",
    "Enter number of elements in the list: 3\n",
    "\n",
    "Invalid size and enter a size more than 4\n",
    "\n",
    "Enter number of elements in the list: 5\n",
    "\n",
    "1\n",
    "\n",
    "2\n",
    "\n",
    "3\n",
    "\n",
    "4\n",
    "\n",
    "5\n",
    "\n",
    "Random item from the list:  1\n",
    "\n",
    "Three random items from the list: ['1', '4', '2']\n",
    "\n",
    "Shuffeled list: ['3', '4', '5', '1', '2']\n",
    "\n",
    "***"
   ]
  },
  {
   "cell_type": "code",
   "execution_count": 28,
   "metadata": {},
   "outputs": [],
   "source": [
    "def checkSize():\n",
    "    size = int(input(\"Enter the size of the list : \"))\n",
    "    if size < 4:\n",
    "        print(\"Invalid size and enter a size more than 4\")\n",
    "        checkSize()\n",
    "    else:\n",
    "        myList=[i  for i in range(1,size+1)]\n",
    "        print(myList)\n",
    "        a=rd.choice(myList)\n",
    "        print(\"Random item from the list : \",a)\n",
    "        x=rd.sample(myList,3)\n",
    "        print(\"Three random items from the list : \",x)\n",
    "        y=rd.shuffle(myList)\n",
    "        print(\"Shuffeled list : \",y)"
   ]
  },
  {
   "cell_type": "code",
   "execution_count": 9,
   "metadata": {},
   "outputs": [
    {
     "name": "stdout",
     "output_type": "stream",
     "text": [
      "Enter the size of the list : 5\n",
      "[1, 2, 3, 4, 5]\n",
      "Random item from the list :  1\n",
      "Three random items from the list :  [3, 1, 5]\n",
      "Shuffeled list :  None\n"
     ]
    }
   ],
   "source": [
    "checkSize()"
   ]
  },
  {
   "cell_type": "code",
   "execution_count": 2,
   "metadata": {},
   "outputs": [],
   "source": [
    "import random as rd;"
   ]
  },
  {
   "cell_type": "markdown",
   "metadata": {},
   "source": [
    "### Q2. Ask the user for a number and then print the following, where the pattern ends at the number that the user enters.\n",
    "<pre>\n",
    "1\n",
    " 2\n",
    "  3\n",
    "   4\n",
    "    5\n",
    "   4\n",
    "  3\n",
    " 2\n",
    "1\n",
    "</pre>\n",
    "\n",
    "***\n",
    "#### Sample Input/Output:\n",
    "\n",
    "***"
   ]
  },
  {
   "cell_type": "raw",
   "metadata": {},
   "source": [
    "Enter the number: 5\n",
    "1\n",
    " 2\n",
    "  3\n",
    "   4\n",
    "    5\n",
    "   4\n",
    "  3\n",
    " 2\n",
    "1"
   ]
  },
  {
   "cell_type": "code",
   "execution_count": 11,
   "metadata": {},
   "outputs": [
    {
     "name": "stdout",
     "output_type": "stream",
     "text": [
      "Enter a number : 6\n",
      " 1\n",
      "  2\n",
      "   3\n",
      "    4\n",
      "     5\n",
      "      6\n",
      "     5\n",
      "    4\n",
      "   3\n",
      "  2\n",
      " 1\n"
     ]
    }
   ],
   "source": [
    "n=int(input(\"Enter a number : \"))\n",
    "for i in range(1,n+1):\n",
    "    print(' '*(i-1),i)\n",
    "for j in range(n-1,0,-1):\n",
    "    print(' '*(j-1),j)\n",
    "    "
   ]
  },
  {
   "cell_type": "markdown",
   "metadata": {},
   "source": [
    "### Q3.Write a program to validate the data entered by its user and then perform conversion from kilogram to pounds. Write a program that asks the user for a weight and converts it from kilograms to pounds. Whenever the user enters a weight below 0, the program should tell them that their entry is invalid and then ask them again to enter a weight. At the end it should show a weight converted into pounds. do this repeatedly untill user enters 'STOP' [use of IF statement is restricated here] (5 marks)\n",
    "\n",
    "\n",
    "***\n",
    "#### Sample Input/Output:\n",
    "\n",
    "Enter Weight or enter STOP: 10\n",
    "\n",
    "Weight in pounds:  22.046226218 lbs\n",
    "\n",
    "Enter Weight: 50\n",
    "\n",
    "Weight in pounds:  110.23113109 lbs\n",
    "\n",
    "Enter Weight: 45\n",
    "\n",
    "Weight in pounds:  99.208017981 lbs\n",
    "\n",
    "Enter Weight: 62\n",
    "\n",
    "Weight in pounds:  136.6866025516 lbs\n",
    "\n",
    "Enter Weight: STOP\n",
    "\n",
    "***"
   ]
  },
  {
   "cell_type": "code",
   "execution_count": 24,
   "metadata": {},
   "outputs": [],
   "source": [
    "def func():\n",
    "    n=input(\"Enter Weight or enter STOP : \")\n",
    "    if n.upper()=='STOP':\n",
    "        print()\n",
    "    else:\n",
    "        if int(n) < 0:\n",
    "            print(\"Entry is invalid\")\n",
    "            func()\n",
    "        else:\n",
    "            x = int(n)*2.20462\n",
    "            print(\"Weight in pounds : \",x,\" lbs\")\n",
    "            func()"
   ]
  },
  {
   "cell_type": "code",
   "execution_count": 25,
   "metadata": {},
   "outputs": [
    {
     "name": "stdout",
     "output_type": "stream",
     "text": [
      "Enter Weight or enter STOP : 10\n",
      "Weight in pounds :  22.0462  lbs\n",
      "Enter Weight or enter STOP : 50\n",
      "Weight in pounds :  110.231  lbs\n",
      "Enter Weight or enter STOP : 45\n",
      "Weight in pounds :  99.2079  lbs\n",
      "Enter Weight or enter STOP : 62\n",
      "Weight in pounds :  136.68643999999998  lbs\n",
      "Enter Weight or enter STOP : STOP\n",
      "\n"
     ]
    }
   ],
   "source": [
    "func()"
   ]
  },
  {
   "cell_type": "markdown",
   "metadata": {},
   "source": [
    "### Q4. Ask the user to enter a list of 10 elemnts containing numbers between 1 and 15. Then replace all of the entries in the list that are greater than 10, with 10 using map() function.(5 Marks)\n",
    "\n",
    "\n",
    "***\n",
    "#### Sample Input/Output:\n",
    "\n",
    "Enter a number between 1 to 15: 3\n",
    "\n",
    "Enter a number between 1 to 15: 13\n",
    "\n",
    "Enter a number between 1 to 15: 7\n",
    "\n",
    "Enter a number between 1 to 15: 12\n",
    "\n",
    "Enter a number between 1 to 15: 13\n",
    "\n",
    "Enter a number between 1 to 15: 4\n",
    "\n",
    "Enter a number between 1 to 15: 5\n",
    "\n",
    "Enter a number between 1 to 15: 6\n",
    "\n",
    "Enter a number between 1 to 15: 17\n",
    "\n",
    "Enter a number between 1 to 15: 18\n",
    "\n",
    "Output list :  [3, 10, 7, 10, 10, 4, 5, 6, 10, 10]\n",
    "\n",
    "***"
   ]
  },
  {
   "cell_type": "code",
   "execution_count": 27,
   "metadata": {},
   "outputs": [
    {
     "name": "stdout",
     "output_type": "stream",
     "text": [
      "Enter a number between 1 to 15: 3\n",
      "Enter a number between 1 to 15: 13\n",
      "Enter a number between 1 to 15: 7\n",
      "Enter a number between 1 to 15: 12\n",
      "Enter a number between 1 to 15: 13\n",
      "Enter a number between 1 to 15: 4\n",
      "Enter a number between 1 to 15: 5\n",
      "Enter a number between 1 to 15: 6\n",
      "Enter a number between 1 to 15: 17\n",
      "Enter a number between 1 to 15: 18\n",
      "[3, 10, 7, 10, 10, 4, 5, 6, 10, 10]\n"
     ]
    }
   ],
   "source": [
    "list1=[]\n",
    "for i in range(1,11):\n",
    "    n = int(input(\"Enter a number between 1 to 15: \"))\n",
    "    list1.append(n)\n",
    "list2=list(map(lambda x:10 if x>10 else x,list1))\n",
    "print(list2)"
   ]
  },
  {
   "cell_type": "markdown",
   "metadata": {},
   "source": [
    "# SECTION B: 20 MARKS"
   ]
  },
  {
   "cell_type": "markdown",
   "metadata": {},
   "source": [
    "---------------------"
   ]
  },
  {
   "cell_type": "markdown",
   "metadata": {},
   "source": [
    "### Q5. A superstore has multiple items to sell. These items are categorised as  category A and category B. For festival time the superstore decided to declare some discount, as given below. \n",
    "\n",
    "### for category A items, it charges Rs.15 per item if you buy less than 30 quantity of an item. If you buy between 30 and 99 quantity of an item, the cost is Rs.12 per item. If buying quantity is 100 or more for an item, the cost is Rs.10 per item. \n",
    "\n",
    "### For category B items, it charges Rs.30 per item if you buy less than 50 quantity of an item. If you buy between 50 and 99 quantity of an item, the cost is Rs.25 per item. If buying quantity is 100 or more for an item, the cost is Rs.20 per item. Further it also gives discount of 5% if total bill exceeds 1000 and 10% if bill exceeds 1500.\n",
    "\n",
    "### Write a program which repeatedly ask user to enter no of items and its category. If user enters 'STOP' it shows user has done with the purchase, now calculate total payable amount and display it to user(10 Marks)\n",
    "\n",
    "\n",
    "***\n",
    "#### Sample Input/Output:\n",
    "Enter no of items and its category: 23,A\n",
    "\n",
    "Enter no of items and its category: 56, b\n",
    "\n",
    "Enter no of items and its category: 67,b\n",
    "\n",
    "Enter no of items and its category: 110,a\n",
    "\n",
    "Enter no of items and its category: STOP\n",
    "\n",
    "Total amount payable is :  2808.0\n",
    "\n",
    "***"
   ]
  },
  {
   "cell_type": "code",
   "execution_count": null,
   "metadata": {},
   "outputs": [],
   "source": []
  },
  {
   "cell_type": "markdown",
   "metadata": {},
   "source": [
    "### Q6.Create a 5*5  list of numbers from 1 to 10 using list comprehension. Print the nested list. \n",
    "### Create a dictionary whose keys are the numbers and whose values are the frequencies of the number in the nested list mentined above\n",
    "### Print the dictionary in the descending order of frequencies of the numbers. \n",
    "### Then print the three most common numbers.(10 Marks) \n",
    "\n",
    "\n",
    "***\n",
    "#### Sample Input/Output:\n",
    "\n",
    "5 * 5 nested list : \n",
    "[[10, 3, 10, 9, 4], [1, 6, 1, 2, 5], [4, 1, 5, 9, 7], [9, 7, 5, 4, 1], [8, 7, 3, 3, 3]]\n",
    "\n",
    "\n",
    "Dictionary for number and its frequency : \n",
    "{1: 4, 2: 1, 3: 4, 4: 3, 5: 3, 6: 1, 7: 3, 8: 1, 9: 3, 10: 2}\n",
    "\n",
    "\n",
    "Dictionary in descending order of frequency : \n",
    "{1: 4, 3: 4, 4: 3, 5: 3, 7: 3, 9: 3, 10: 2, 2: 1, 6: 1, 8: 1}\n",
    "\n",
    "\n",
    "Top three frequent numbers are [1, 3, 4]\n",
    "\n",
    "***"
   ]
  },
  {
   "cell_type": "markdown",
   "metadata": {},
   "source": [
    "# SECTION C: 30 MARKS"
   ]
  },
  {
   "cell_type": "markdown",
   "metadata": {},
   "source": [
    "--------------------"
   ]
  },
  {
   "cell_type": "markdown",
   "metadata": {},
   "source": [
    "### Q7. One way of encrypting a string message is to rearrange its characters. Simple way to rearrange the characters is to pick out the characters at even indices, put them first in the encrypted string and follow them by the odd characters.\n",
    "#### For example, the string message would be encrypted as msaeesg because the even characters are m, s, a, e (at indices 0, 2, 4, and 6) and the odd characters are e, s, g (at indices 1, 3, and 5).\n",
    "#### (a) Write a function encrypt()to encrypt the string given by user.\n",
    "#### (b) Write a function decrypt() to decrypt a string that was encrypted before.(15 Marks)\n",
    "\n",
    "\n",
    "***\n",
    "#### Sample Input/Output:\n",
    "<span style=\"font-family:consolas \">\n",
    "Encrypted message is :  SceMsaeertesg\n",
    "    \n",
    "Decrypted message is :  SecretMessage\n",
    "***"
   ]
  },
  {
   "cell_type": "markdown",
   "metadata": {},
   "source": [
    "### Q8. Write a program that checks to see if a 4 * 4 list is a magic square. In a magic square, every row, column, and the two diagonals add up to the same value. Write a function magic_square which returns True if list is magic square otherwise it returns false (15 Marks)\n",
    "\n",
    "E.g Given below is 4 * 4 magic Square\n",
    "<pre>\n",
    "    1  15  14  4\n",
    "    10 11   8  5\n",
    "    7  6    9  12\n",
    "    16 2    3  13\n",
    "\n",
    "\n",
    "***\n",
    "#### Sample Input/Output: \n",
    "Its a magic Square\n",
    "\n",
    "***"
   ]
  }
 ],
 "metadata": {
  "kernelspec": {
   "display_name": "Python 3",
   "language": "python",
   "name": "python3"
  },
  "language_info": {
   "codemirror_mode": {
    "name": "ipython",
    "version": 3
   },
   "file_extension": ".py",
   "mimetype": "text/x-python",
   "name": "python",
   "nbconvert_exporter": "python",
   "pygments_lexer": "ipython3",
   "version": "3.8.5"
  }
 },
 "nbformat": 4,
 "nbformat_minor": 2
}

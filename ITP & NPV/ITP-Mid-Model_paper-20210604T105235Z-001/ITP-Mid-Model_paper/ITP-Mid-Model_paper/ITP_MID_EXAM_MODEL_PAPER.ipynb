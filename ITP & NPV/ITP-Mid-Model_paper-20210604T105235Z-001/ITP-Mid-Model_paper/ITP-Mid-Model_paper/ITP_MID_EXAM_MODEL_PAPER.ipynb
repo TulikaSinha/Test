{
 "cells": [
  {
   "cell_type": "markdown",
   "metadata": {
    "id": "Pf_YIrN19H92"
   },
   "source": [
    "# INTRODUCTION TO PYTHON"
   ]
  },
  {
   "cell_type": "markdown",
   "metadata": {
    "id": "qsh5_WvE9H93"
   },
   "source": [
    "# SECTION A: 8 MARKS"
   ]
  },
  {
   "cell_type": "markdown",
   "metadata": {
    "id": "foPaV_A49H94"
   },
   "source": [
    " _________________"
   ]
  },
  {
   "cell_type": "markdown",
   "metadata": {
    "id": "2JuAB6j19H96"
   },
   "source": [
    "### Q1. Explain Break and continue statements with examples (8 Marks)\n"
   ]
  },
  {
   "cell_type": "code",
   "execution_count": null,
   "metadata": {
    "id": "OM3-wGC_9H96"
   },
   "outputs": [],
   "source": []
  },
  {
   "cell_type": "markdown",
   "metadata": {
    "id": "fLu5ZBeH9H9_"
   },
   "source": [
    "# SECTION B: 17 MARKS"
   ]
  },
  {
   "cell_type": "markdown",
   "metadata": {
    "id": "mYT8BH_Y9H9_"
   },
   "source": [
    "---------------------"
   ]
  },
  {
   "cell_type": "markdown",
   "metadata": {
    "id": "_0buB1M4o9Mi"
   },
   "source": [
    "### Q2. The Body Mass Index, BMI, is calculated as, $703 * (W/H^2)$ where W is the person’s weight in pounds and H is the person’s height in inches. Write a program that ask user for their height , weight and print out their BMI and Weight catogory based on BMI. (8 Marks)\n",
    "Use classification given below:\n",
    "\n",
    "“Under weight: BMI <18.5” \n",
    "\n",
    "“Healthy weight: BMI 18.5–24” \n",
    "\n",
    "“Overweight: BMI 25–29.9”\n",
    "\n",
    "“Obese: BMI >30”\n",
    "\n",
    "***\n",
    "#### Sample Input/Output:\n",
    "<span style=\"font-family:consolas \"> <br>Enter your weight in pounds: 125\n",
    "    \n",
    "Enter your height in inches: 68\n",
    "\n",
    "Your BMI is: 19.004\n",
    "\n",
    "Healthy Weight\n",
    "***"
   ]
  },
  {
   "cell_type": "code",
   "execution_count": 2,
   "metadata": {
    "id": "BTYWorof9H-A"
   },
   "outputs": [
    {
     "name": "stdout",
     "output_type": "stream",
     "text": [
      "Enter your weight in pounds : 125\n",
      "Enter your height in inches : 68\n",
      "Your BMI is :  19.00410899653979\n",
      "Healthy weight\n"
     ]
    }
   ],
   "source": [
    "weight = int(input(\"Enter your weight in pounds : \"))\n",
    "height = int(input(\"Enter your height in inches : \"))\n",
    "bmi = 703 * (weight/height**2)\n",
    "print(\"Your BMI is : \",bmi)\n",
    "\n",
    "if bmi < 18.5:\n",
    "    print(\"Under weight\")\n",
    "elif bmi > 18.5 and bmi < 24:\n",
    "    print(\"Healthy weight\")\n",
    "elif bmi > 25 and bmi < 29.9:\n",
    "    print(\"Overweight\")\n",
    "elif bmi > 30:\n",
    "    print(\"Obese\")"
   ]
  },
  {
   "cell_type": "markdown",
   "metadata": {
    "id": "f9j1EIxDo9M6"
   },
   "source": [
    "### Q3. Write a program for temperature conversion. Take input from user for a temperature then ask user what units, Celsius or Fahrenheit, the temperature is in. Your program should convert the temperature to the other unit. (9 Marks)\n",
    "\n",
    "### The conversions are  \n",
    "#### F = 9/5 * C + 32 and C = 5/9 * (F - 32) \n",
    "\n",
    "\n",
    "***\n",
    "#### Sample Input/Output:\n",
    "\n",
    "Enter Temperature: 34\n",
    "\n",
    "Enter unit : Celsius or Fahrenheit?  Celsius\n",
    "\n",
    "34 degree Celsius is 93.2 degree Fahrenheit\n",
    "\n",
    "***"
   ]
  },
  {
   "cell_type": "code",
   "execution_count": 4,
   "metadata": {
    "id": "458tdwm49H-E"
   },
   "outputs": [
    {
     "name": "stdout",
     "output_type": "stream",
     "text": [
      "Enter Temperature : 34\n",
      "Enter Unit : Celsius or Fahrenheit? Celsius\n",
      "34  degree Celsius is  93.2  degree Fahrenheit\n"
     ]
    }
   ],
   "source": [
    "temp = int(input(\"Enter Temperature : \"))\n",
    "unit = input(\"Enter Unit : Celsius or Fahrenheit? \")\n",
    "\n",
    "if unit.lower()=='celsius':\n",
    "    F=(9/5)*temp+32\n",
    "    print(temp,\" degree Celsius is \",F,\" degree Fahrenheit\")\n",
    "elif unit.lower()=='fahrenheit':\n",
    "    C=(5/9)*(temp-32)\n",
    "    print(temp,\" degree Fahrenheit is \",C,\" degree Celsius\")\n",
    "else:\n",
    "    print(\"Not a valid unit\")"
   ]
  },
  {
   "cell_type": "markdown",
   "metadata": {
    "id": "-qGYL9Ph9H-H"
   },
   "source": [
    "# SECTION C: 25 MARKS"
   ]
  },
  {
   "cell_type": "markdown",
   "metadata": {
    "id": "Oi8RBdSo9H-H"
   },
   "source": [
    "--------------------"
   ]
  },
  {
   "cell_type": "markdown",
   "metadata": {
    "id": "7Ej__zOY9H-I"
   },
   "source": [
    "### Q4.To convert from inches to centimeters, the conversion is to multiply by 2.54. To convert from inches to meters, the conversion is to multiply by .0254. To convert from inches to feet, the conversion is to multiply by 1/12. To convert from inches to yards, the conversion is to multiply by 1/36. Write program that creates a dictionary whose keys are cm, m, ft and yd and whose values are these conversion factors. Then ask the user to enter a value in inches and the unit (abbreviation) that they want to convert to. Use the dictionary to do the conversion and print out the result. [8 Marks]\n",
    "\n",
    "***\n",
    "#### Sample Input/Output:\n",
    "<span style=\"font-family:consolas \">\n",
    "<br>\n",
    "    \n",
    "Enter inches : 10\n",
    "\n",
    "Enter conversion unit: cm\n",
    "\n",
    "10 Inches converted to 25.4 cm\n",
    "***"
   ]
  },
  {
   "cell_type": "code",
   "execution_count": 12,
   "metadata": {
    "id": "cVUdgp1k9H-I"
   },
   "outputs": [
    {
     "name": "stdout",
     "output_type": "stream",
     "text": [
      "Enter inches : 10\n",
      "Enter conversion unit : cm\n",
      "10  Inches is converted to  25.4 cm\n"
     ]
    }
   ],
   "source": [
    "i = int(input(\"Enter inches : \"))\n",
    "u = input(\"Enter conversion unit : \")\n",
    "\n",
    "inchDict = {'cm' : i  * 2.54,'m' : i*0.0254,'ft' : round(i*(1/12),2),'yd' :round(i*(1/36),2)}\n",
    "print(i,\" Inches is converted to \",inchDict[u],u)"
   ]
  },
  {
   "cell_type": "markdown",
   "metadata": {
    "id": "d1ire68v9H-M"
   },
   "source": [
    "### Q5.  Write a program that asks the user to enter a string of at least six characters. Then print out the following: (17 Marks)\n",
    "(a) The string backwards\n",
    "\n",
    "(b) Every character of the string except the last one\n",
    "\n",
    "(c) Every character of the string except the first and last\n",
    "\n",
    "(d) If the string contains a lowercase a, print out the index of the first a. Otherwise say that there is no lowercase a\n",
    "\n",
    "(e) The string in all caps\n",
    "\n",
    "(f) The string with every space replaced with an underscore"
   ]
  },
  {
   "cell_type": "code",
   "execution_count": 22,
   "metadata": {
    "id": "6uM7Jos19H-N"
   },
   "outputs": [
    {
     "name": "stdout",
     "output_type": "stream",
     "text": [
      "Enter a string : tulkika\n",
      "akiklut\n",
      "tulkik\n",
      "ulkik\n",
      "TULKIKA\n"
     ]
    }
   ],
   "source": [
    "string=input(\"Enter a string : \")\n",
    "print(string[::-1])\n",
    "print(string[:-1])\n",
    "print(string[1:-1])\n",
    "print(string.upper())\n",
    "#print(string[::].replace(\"_\"))"
   ]
  },
  {
   "cell_type": "code",
   "execution_count": null,
   "metadata": {},
   "outputs": [],
   "source": []
  }
 ],
 "metadata": {
  "colab": {
   "collapsed_sections": [],
   "name": "ITP_MID_EXAM_SET_11_EXAM_PAPER.ipynb",
   "provenance": []
  },
  "kernelspec": {
   "display_name": "Python 3",
   "language": "python",
   "name": "python3"
  },
  "language_info": {
   "codemirror_mode": {
    "name": "ipython",
    "version": 3
   },
   "file_extension": ".py",
   "mimetype": "text/x-python",
   "name": "python",
   "nbconvert_exporter": "python",
   "pygments_lexer": "ipython3",
   "version": "3.8.5"
  }
 },
 "nbformat": 4,
 "nbformat_minor": 1
}

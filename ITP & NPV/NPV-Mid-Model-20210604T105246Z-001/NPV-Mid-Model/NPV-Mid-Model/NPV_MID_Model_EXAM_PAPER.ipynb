{
 "cells": [
  {
   "cell_type": "markdown",
   "metadata": {
    "id": "Iea622hWTLC2"
   },
   "source": [
    "# Numpy and Pandas Mid exam paper"
   ]
  },
  {
   "cell_type": "markdown",
   "metadata": {
    "id": "NbQZI41zTLC3"
   },
   "source": [
    "###  Dataset Attributes: \n",
    "\n"
   ]
  },
  {
   "cell_type": "markdown",
   "metadata": {
    "id": "FW0kSgTlTLC5"
   },
   "source": [
    "\n",
    "\n",
    "* Patient Number\t\n",
    "\n",
    "* State Patient Number\t\n",
    "\n",
    "* Date Announced\t\n",
    "\n",
    "* Estimated Onset Date\t\n",
    "\n",
    "* Age Bracket\t\n",
    "\n",
    "* Gender\t\n",
    "\n",
    "* Detected City\t\n",
    "\n",
    "* Detected District\t\n",
    "\n",
    "* Detected State\t\n",
    "\n",
    "* State code\t\n",
    "\n",
    "* Current Status\t\n",
    "\n",
    "* Notes\t\n",
    "\n",
    "* Contracted from which Patient (Suspected)\t\n",
    "\n",
    "* Nationality\t\n",
    "\n",
    "* Type of transmission\t\n",
    "\n",
    "* Status Change Date\t\n",
    "\n",
    "\n",
    "* Backup Notes\n"
   ]
  },
  {
   "cell_type": "markdown",
   "metadata": {
    "id": "wEgYP9-oW0cg"
   },
   "source": [
    "## Kindly change the below cells from markdown to code and execute it "
   ]
  },
  {
   "cell_type": "code",
   "execution_count": 52,
   "metadata": {
    "id": "VQ_WA9jKW0ch"
   },
   "outputs": [
    {
     "data": {
      "text/html": [
       "<div>\n",
       "<style scoped>\n",
       "    .dataframe tbody tr th:only-of-type {\n",
       "        vertical-align: middle;\n",
       "    }\n",
       "\n",
       "    .dataframe tbody tr th {\n",
       "        vertical-align: top;\n",
       "    }\n",
       "\n",
       "    .dataframe thead th {\n",
       "        text-align: right;\n",
       "    }\n",
       "</style>\n",
       "<table border=\"1\" class=\"dataframe\">\n",
       "  <thead>\n",
       "    <tr style=\"text-align: right;\">\n",
       "      <th></th>\n",
       "      <th>Patient Number</th>\n",
       "      <th>State Patient Number</th>\n",
       "      <th>Date Announced</th>\n",
       "      <th>Estimated Onset Date</th>\n",
       "      <th>Age Bracket</th>\n",
       "      <th>Gender</th>\n",
       "      <th>Detected City</th>\n",
       "      <th>Detected District</th>\n",
       "      <th>Detected State</th>\n",
       "      <th>State code</th>\n",
       "      <th>Current Status</th>\n",
       "      <th>Notes</th>\n",
       "      <th>Contracted from which Patient (Suspected)</th>\n",
       "      <th>Nationality</th>\n",
       "      <th>Type of transmission</th>\n",
       "      <th>Status Change Date</th>\n",
       "      <th>Backup Notes</th>\n",
       "    </tr>\n",
       "  </thead>\n",
       "  <tbody>\n",
       "    <tr>\n",
       "      <th>0</th>\n",
       "      <td>1</td>\n",
       "      <td>KL-TS-P1</td>\n",
       "      <td>30-01-2020</td>\n",
       "      <td>NaN</td>\n",
       "      <td>20.0</td>\n",
       "      <td>F</td>\n",
       "      <td>Thrissur</td>\n",
       "      <td>Thrissur</td>\n",
       "      <td>Kerala</td>\n",
       "      <td>KL</td>\n",
       "      <td>Recovered</td>\n",
       "      <td>Travelled from Wuhan</td>\n",
       "      <td>NaN</td>\n",
       "      <td>India</td>\n",
       "      <td>Imported</td>\n",
       "      <td>14-02-2020</td>\n",
       "      <td>Student from Wuhan</td>\n",
       "    </tr>\n",
       "    <tr>\n",
       "      <th>1</th>\n",
       "      <td>2</td>\n",
       "      <td>KL-AL-P1</td>\n",
       "      <td>02-02-2020</td>\n",
       "      <td>NaN</td>\n",
       "      <td>NaN</td>\n",
       "      <td>NaN</td>\n",
       "      <td>Alappuzha</td>\n",
       "      <td>Alappuzha</td>\n",
       "      <td>Kerala</td>\n",
       "      <td>KL</td>\n",
       "      <td>Recovered</td>\n",
       "      <td>Travelled from Wuhan</td>\n",
       "      <td>NaN</td>\n",
       "      <td>India</td>\n",
       "      <td>Imported</td>\n",
       "      <td>14-02-2020</td>\n",
       "      <td>Student from Wuhan</td>\n",
       "    </tr>\n",
       "    <tr>\n",
       "      <th>2</th>\n",
       "      <td>3</td>\n",
       "      <td>KL-KS-P1</td>\n",
       "      <td>03-02-2020</td>\n",
       "      <td>NaN</td>\n",
       "      <td>NaN</td>\n",
       "      <td>NaN</td>\n",
       "      <td>Kasaragod</td>\n",
       "      <td>Kasaragod</td>\n",
       "      <td>Kerala</td>\n",
       "      <td>KL</td>\n",
       "      <td>Recovered</td>\n",
       "      <td>Travelled from Wuhan</td>\n",
       "      <td>NaN</td>\n",
       "      <td>India</td>\n",
       "      <td>Imported</td>\n",
       "      <td>14-02-2020</td>\n",
       "      <td>Student from Wuhan</td>\n",
       "    </tr>\n",
       "    <tr>\n",
       "      <th>3</th>\n",
       "      <td>4</td>\n",
       "      <td>DL-P1</td>\n",
       "      <td>02-03-2020</td>\n",
       "      <td>NaN</td>\n",
       "      <td>45.0</td>\n",
       "      <td>M</td>\n",
       "      <td>East Delhi (Mayur Vihar)</td>\n",
       "      <td>East Delhi</td>\n",
       "      <td>Delhi</td>\n",
       "      <td>DL</td>\n",
       "      <td>Recovered</td>\n",
       "      <td>Travelled from Austria, Italy</td>\n",
       "      <td>NaN</td>\n",
       "      <td>India</td>\n",
       "      <td>Imported</td>\n",
       "      <td>15-03-2020</td>\n",
       "      <td>Travel history to Italy and Austria</td>\n",
       "    </tr>\n",
       "    <tr>\n",
       "      <th>4</th>\n",
       "      <td>5</td>\n",
       "      <td>TS-P1</td>\n",
       "      <td>02-03-2020</td>\n",
       "      <td>NaN</td>\n",
       "      <td>24.0</td>\n",
       "      <td>M</td>\n",
       "      <td>Hyderabad</td>\n",
       "      <td>Hyderabad</td>\n",
       "      <td>Telangana</td>\n",
       "      <td>TG</td>\n",
       "      <td>Recovered</td>\n",
       "      <td>Travelled from Dubai to Bangalore on 20th Feb,...</td>\n",
       "      <td>NaN</td>\n",
       "      <td>India</td>\n",
       "      <td>Imported</td>\n",
       "      <td>02-03-2020</td>\n",
       "      <td>Travel history to Dubai, Singapore contact</td>\n",
       "    </tr>\n",
       "  </tbody>\n",
       "</table>\n",
       "</div>"
      ],
      "text/plain": [
       "   Patient Number State Patient Number Date Announced  Estimated Onset Date  \\\n",
       "0               1             KL-TS-P1     30-01-2020                   NaN   \n",
       "1               2             KL-AL-P1     02-02-2020                   NaN   \n",
       "2               3             KL-KS-P1     03-02-2020                   NaN   \n",
       "3               4                DL-P1     02-03-2020                   NaN   \n",
       "4               5                TS-P1     02-03-2020                   NaN   \n",
       "\n",
       "   Age Bracket Gender             Detected City Detected District  \\\n",
       "0         20.0      F                  Thrissur          Thrissur   \n",
       "1          NaN    NaN                 Alappuzha         Alappuzha   \n",
       "2          NaN    NaN                 Kasaragod         Kasaragod   \n",
       "3         45.0      M  East Delhi (Mayur Vihar)        East Delhi   \n",
       "4         24.0      M                 Hyderabad         Hyderabad   \n",
       "\n",
       "  Detected State State code Current Status  \\\n",
       "0         Kerala         KL      Recovered   \n",
       "1         Kerala         KL      Recovered   \n",
       "2         Kerala         KL      Recovered   \n",
       "3          Delhi         DL      Recovered   \n",
       "4      Telangana         TG      Recovered   \n",
       "\n",
       "                                               Notes  \\\n",
       "0                               Travelled from Wuhan   \n",
       "1                               Travelled from Wuhan   \n",
       "2                               Travelled from Wuhan   \n",
       "3                      Travelled from Austria, Italy   \n",
       "4  Travelled from Dubai to Bangalore on 20th Feb,...   \n",
       "\n",
       "  Contracted from which Patient (Suspected) Nationality Type of transmission  \\\n",
       "0                                       NaN       India             Imported   \n",
       "1                                       NaN       India             Imported   \n",
       "2                                       NaN       India             Imported   \n",
       "3                                       NaN       India             Imported   \n",
       "4                                       NaN       India             Imported   \n",
       "\n",
       "  Status Change Date                                Backup Notes  \n",
       "0         14-02-2020                          Student from Wuhan  \n",
       "1         14-02-2020                          Student from Wuhan  \n",
       "2         14-02-2020                          Student from Wuhan  \n",
       "3         15-03-2020         Travel history to Italy and Austria  \n",
       "4         02-03-2020  Travel history to Dubai, Singapore contact  "
      ]
     },
     "execution_count": 52,
     "metadata": {},
     "output_type": "execute_result"
    }
   ],
   "source": [
    "import pandas as pd\n",
    "\n",
    "import csv\n",
    "\n",
    "with open(\"raw_data_covid_India.csv\",\"r\")as file:\n",
    "    \n",
    "    reader=csv.reader(file)\n",
    "\n",
    "df=pd.read_csv(\"raw_data_covid_India.csv\")\n",
    "\n",
    "df.head()\n"
   ]
  },
  {
   "cell_type": "code",
   "execution_count": 53,
   "metadata": {},
   "outputs": [
    {
     "data": {
      "text/html": [
       "<div>\n",
       "<style scoped>\n",
       "    .dataframe tbody tr th:only-of-type {\n",
       "        vertical-align: middle;\n",
       "    }\n",
       "\n",
       "    .dataframe tbody tr th {\n",
       "        vertical-align: top;\n",
       "    }\n",
       "\n",
       "    .dataframe thead th {\n",
       "        text-align: right;\n",
       "    }\n",
       "</style>\n",
       "<table border=\"1\" class=\"dataframe\">\n",
       "  <thead>\n",
       "    <tr style=\"text-align: right;\">\n",
       "      <th></th>\n",
       "      <th>Patient Number</th>\n",
       "      <th>State Patient Number</th>\n",
       "      <th>Date Announced</th>\n",
       "      <th>Estimated Onset Date</th>\n",
       "      <th>Age Bracket</th>\n",
       "      <th>Gender</th>\n",
       "      <th>Detected City</th>\n",
       "      <th>Detected District</th>\n",
       "      <th>Detected State</th>\n",
       "      <th>State code</th>\n",
       "      <th>Current Status</th>\n",
       "      <th>Notes</th>\n",
       "      <th>Contracted from which Patient (Suspected)</th>\n",
       "      <th>Nationality</th>\n",
       "      <th>Type of transmission</th>\n",
       "      <th>Status Change Date</th>\n",
       "      <th>Backup Notes</th>\n",
       "    </tr>\n",
       "  </thead>\n",
       "  <tbody>\n",
       "    <tr>\n",
       "      <th>0</th>\n",
       "      <td>1</td>\n",
       "      <td>KL-TS-P1</td>\n",
       "      <td>30-01-2020</td>\n",
       "      <td>NaN</td>\n",
       "      <td>20.0</td>\n",
       "      <td>F</td>\n",
       "      <td>Thrissur</td>\n",
       "      <td>Thrissur</td>\n",
       "      <td>Kerala</td>\n",
       "      <td>KL</td>\n",
       "      <td>Recovered</td>\n",
       "      <td>Travelled from Wuhan</td>\n",
       "      <td>NaN</td>\n",
       "      <td>India</td>\n",
       "      <td>Imported</td>\n",
       "      <td>14-02-2020</td>\n",
       "      <td>Student from Wuhan</td>\n",
       "    </tr>\n",
       "    <tr>\n",
       "      <th>1</th>\n",
       "      <td>2</td>\n",
       "      <td>KL-AL-P1</td>\n",
       "      <td>02-02-2020</td>\n",
       "      <td>NaN</td>\n",
       "      <td>NaN</td>\n",
       "      <td>NaN</td>\n",
       "      <td>Alappuzha</td>\n",
       "      <td>Alappuzha</td>\n",
       "      <td>Kerala</td>\n",
       "      <td>KL</td>\n",
       "      <td>Recovered</td>\n",
       "      <td>Travelled from Wuhan</td>\n",
       "      <td>NaN</td>\n",
       "      <td>India</td>\n",
       "      <td>Imported</td>\n",
       "      <td>14-02-2020</td>\n",
       "      <td>Student from Wuhan</td>\n",
       "    </tr>\n",
       "    <tr>\n",
       "      <th>2</th>\n",
       "      <td>3</td>\n",
       "      <td>KL-KS-P1</td>\n",
       "      <td>03-02-2020</td>\n",
       "      <td>NaN</td>\n",
       "      <td>NaN</td>\n",
       "      <td>NaN</td>\n",
       "      <td>Kasaragod</td>\n",
       "      <td>Kasaragod</td>\n",
       "      <td>Kerala</td>\n",
       "      <td>KL</td>\n",
       "      <td>Recovered</td>\n",
       "      <td>Travelled from Wuhan</td>\n",
       "      <td>NaN</td>\n",
       "      <td>India</td>\n",
       "      <td>Imported</td>\n",
       "      <td>14-02-2020</td>\n",
       "      <td>Student from Wuhan</td>\n",
       "    </tr>\n",
       "    <tr>\n",
       "      <th>3</th>\n",
       "      <td>4</td>\n",
       "      <td>DL-P1</td>\n",
       "      <td>02-03-2020</td>\n",
       "      <td>NaN</td>\n",
       "      <td>45.0</td>\n",
       "      <td>M</td>\n",
       "      <td>East Delhi (Mayur Vihar)</td>\n",
       "      <td>East Delhi</td>\n",
       "      <td>Delhi</td>\n",
       "      <td>DL</td>\n",
       "      <td>Recovered</td>\n",
       "      <td>Travelled from Austria, Italy</td>\n",
       "      <td>NaN</td>\n",
       "      <td>India</td>\n",
       "      <td>Imported</td>\n",
       "      <td>15-03-2020</td>\n",
       "      <td>Travel history to Italy and Austria</td>\n",
       "    </tr>\n",
       "    <tr>\n",
       "      <th>4</th>\n",
       "      <td>5</td>\n",
       "      <td>TS-P1</td>\n",
       "      <td>02-03-2020</td>\n",
       "      <td>NaN</td>\n",
       "      <td>24.0</td>\n",
       "      <td>M</td>\n",
       "      <td>Hyderabad</td>\n",
       "      <td>Hyderabad</td>\n",
       "      <td>Telangana</td>\n",
       "      <td>TG</td>\n",
       "      <td>Recovered</td>\n",
       "      <td>Travelled from Dubai to Bangalore on 20th Feb,...</td>\n",
       "      <td>NaN</td>\n",
       "      <td>India</td>\n",
       "      <td>Imported</td>\n",
       "      <td>02-03-2020</td>\n",
       "      <td>Travel history to Dubai, Singapore contact</td>\n",
       "    </tr>\n",
       "    <tr>\n",
       "      <th>...</th>\n",
       "      <td>...</td>\n",
       "      <td>...</td>\n",
       "      <td>...</td>\n",
       "      <td>...</td>\n",
       "      <td>...</td>\n",
       "      <td>...</td>\n",
       "      <td>...</td>\n",
       "      <td>...</td>\n",
       "      <td>...</td>\n",
       "      <td>...</td>\n",
       "      <td>...</td>\n",
       "      <td>...</td>\n",
       "      <td>...</td>\n",
       "      <td>...</td>\n",
       "      <td>...</td>\n",
       "      <td>...</td>\n",
       "      <td>...</td>\n",
       "    </tr>\n",
       "    <tr>\n",
       "      <th>1469</th>\n",
       "      <td>20331</td>\n",
       "      <td>NaN</td>\n",
       "      <td>22-04-2020</td>\n",
       "      <td>NaN</td>\n",
       "      <td>NaN</td>\n",
       "      <td>NaN</td>\n",
       "      <td>NaN</td>\n",
       "      <td>Patna</td>\n",
       "      <td>Bihar</td>\n",
       "      <td>BR</td>\n",
       "      <td>Hospitalized</td>\n",
       "      <td>Details awaited</td>\n",
       "      <td>NaN</td>\n",
       "      <td>NaN</td>\n",
       "      <td>NaN</td>\n",
       "      <td>NaN</td>\n",
       "      <td>NaN</td>\n",
       "    </tr>\n",
       "    <tr>\n",
       "      <th>1470</th>\n",
       "      <td>20332</td>\n",
       "      <td>NaN</td>\n",
       "      <td>22-04-2020</td>\n",
       "      <td>NaN</td>\n",
       "      <td>NaN</td>\n",
       "      <td>NaN</td>\n",
       "      <td>NaN</td>\n",
       "      <td>Patna</td>\n",
       "      <td>Bihar</td>\n",
       "      <td>BR</td>\n",
       "      <td>Hospitalized</td>\n",
       "      <td>Details awaited</td>\n",
       "      <td>NaN</td>\n",
       "      <td>NaN</td>\n",
       "      <td>NaN</td>\n",
       "      <td>NaN</td>\n",
       "      <td>NaN</td>\n",
       "    </tr>\n",
       "    <tr>\n",
       "      <th>1471</th>\n",
       "      <td>20333</td>\n",
       "      <td>NaN</td>\n",
       "      <td>22-04-2020</td>\n",
       "      <td>NaN</td>\n",
       "      <td>NaN</td>\n",
       "      <td>NaN</td>\n",
       "      <td>NaN</td>\n",
       "      <td>Patna</td>\n",
       "      <td>Bihar</td>\n",
       "      <td>BR</td>\n",
       "      <td>Hospitalized</td>\n",
       "      <td>Details awaited</td>\n",
       "      <td>NaN</td>\n",
       "      <td>NaN</td>\n",
       "      <td>NaN</td>\n",
       "      <td>NaN</td>\n",
       "      <td>NaN</td>\n",
       "    </tr>\n",
       "    <tr>\n",
       "      <th>1472</th>\n",
       "      <td>20334</td>\n",
       "      <td>NaN</td>\n",
       "      <td>22-04-2020</td>\n",
       "      <td>NaN</td>\n",
       "      <td>NaN</td>\n",
       "      <td>NaN</td>\n",
       "      <td>NaN</td>\n",
       "      <td>Nalanda</td>\n",
       "      <td>Bihar</td>\n",
       "      <td>BR</td>\n",
       "      <td>Hospitalized</td>\n",
       "      <td>Details awaited</td>\n",
       "      <td>NaN</td>\n",
       "      <td>NaN</td>\n",
       "      <td>NaN</td>\n",
       "      <td>NaN</td>\n",
       "      <td>NaN</td>\n",
       "    </tr>\n",
       "    <tr>\n",
       "      <th>1473</th>\n",
       "      <td>20335</td>\n",
       "      <td>NaN</td>\n",
       "      <td>22-04-2020</td>\n",
       "      <td>NaN</td>\n",
       "      <td>NaN</td>\n",
       "      <td>NaN</td>\n",
       "      <td>NaN</td>\n",
       "      <td>East Champaran</td>\n",
       "      <td>Bihar</td>\n",
       "      <td>BR</td>\n",
       "      <td>Hospitalized</td>\n",
       "      <td>Details awaited</td>\n",
       "      <td>NaN</td>\n",
       "      <td>NaN</td>\n",
       "      <td>NaN</td>\n",
       "      <td>NaN</td>\n",
       "      <td>NaN</td>\n",
       "    </tr>\n",
       "  </tbody>\n",
       "</table>\n",
       "<p>1474 rows × 17 columns</p>\n",
       "</div>"
      ],
      "text/plain": [
       "      Patient Number State Patient Number Date Announced  \\\n",
       "0                  1             KL-TS-P1     30-01-2020   \n",
       "1                  2             KL-AL-P1     02-02-2020   \n",
       "2                  3             KL-KS-P1     03-02-2020   \n",
       "3                  4                DL-P1     02-03-2020   \n",
       "4                  5                TS-P1     02-03-2020   \n",
       "...              ...                  ...            ...   \n",
       "1469           20331                  NaN     22-04-2020   \n",
       "1470           20332                  NaN     22-04-2020   \n",
       "1471           20333                  NaN     22-04-2020   \n",
       "1472           20334                  NaN     22-04-2020   \n",
       "1473           20335                  NaN     22-04-2020   \n",
       "\n",
       "      Estimated Onset Date  Age Bracket Gender             Detected City  \\\n",
       "0                      NaN         20.0      F                  Thrissur   \n",
       "1                      NaN          NaN    NaN                 Alappuzha   \n",
       "2                      NaN          NaN    NaN                 Kasaragod   \n",
       "3                      NaN         45.0      M  East Delhi (Mayur Vihar)   \n",
       "4                      NaN         24.0      M                 Hyderabad   \n",
       "...                    ...          ...    ...                       ...   \n",
       "1469                   NaN          NaN    NaN                       NaN   \n",
       "1470                   NaN          NaN    NaN                       NaN   \n",
       "1471                   NaN          NaN    NaN                       NaN   \n",
       "1472                   NaN          NaN    NaN                       NaN   \n",
       "1473                   NaN          NaN    NaN                       NaN   \n",
       "\n",
       "     Detected District Detected State State code Current Status  \\\n",
       "0             Thrissur         Kerala         KL      Recovered   \n",
       "1            Alappuzha         Kerala         KL      Recovered   \n",
       "2            Kasaragod         Kerala         KL      Recovered   \n",
       "3           East Delhi          Delhi         DL      Recovered   \n",
       "4            Hyderabad      Telangana         TG      Recovered   \n",
       "...                ...            ...        ...            ...   \n",
       "1469             Patna          Bihar         BR   Hospitalized   \n",
       "1470             Patna          Bihar         BR   Hospitalized   \n",
       "1471             Patna          Bihar         BR   Hospitalized   \n",
       "1472           Nalanda          Bihar         BR   Hospitalized   \n",
       "1473    East Champaran          Bihar         BR   Hospitalized   \n",
       "\n",
       "                                                  Notes  \\\n",
       "0                                  Travelled from Wuhan   \n",
       "1                                  Travelled from Wuhan   \n",
       "2                                  Travelled from Wuhan   \n",
       "3                         Travelled from Austria, Italy   \n",
       "4     Travelled from Dubai to Bangalore on 20th Feb,...   \n",
       "...                                                 ...   \n",
       "1469                                    Details awaited   \n",
       "1470                                    Details awaited   \n",
       "1471                                    Details awaited   \n",
       "1472                                    Details awaited   \n",
       "1473                                    Details awaited   \n",
       "\n",
       "     Contracted from which Patient (Suspected) Nationality  \\\n",
       "0                                          NaN       India   \n",
       "1                                          NaN       India   \n",
       "2                                          NaN       India   \n",
       "3                                          NaN       India   \n",
       "4                                          NaN       India   \n",
       "...                                        ...         ...   \n",
       "1469                                       NaN         NaN   \n",
       "1470                                       NaN         NaN   \n",
       "1471                                       NaN         NaN   \n",
       "1472                                       NaN         NaN   \n",
       "1473                                       NaN         NaN   \n",
       "\n",
       "     Type of transmission Status Change Date  \\\n",
       "0                Imported         14-02-2020   \n",
       "1                Imported         14-02-2020   \n",
       "2                Imported         14-02-2020   \n",
       "3                Imported         15-03-2020   \n",
       "4                Imported         02-03-2020   \n",
       "...                   ...                ...   \n",
       "1469                  NaN                NaN   \n",
       "1470                  NaN                NaN   \n",
       "1471                  NaN                NaN   \n",
       "1472                  NaN                NaN   \n",
       "1473                  NaN                NaN   \n",
       "\n",
       "                                    Backup Notes  \n",
       "0                             Student from Wuhan  \n",
       "1                             Student from Wuhan  \n",
       "2                             Student from Wuhan  \n",
       "3            Travel history to Italy and Austria  \n",
       "4     Travel history to Dubai, Singapore contact  \n",
       "...                                          ...  \n",
       "1469                                         NaN  \n",
       "1470                                         NaN  \n",
       "1471                                         NaN  \n",
       "1472                                         NaN  \n",
       "1473                                         NaN  \n",
       "\n",
       "[1474 rows x 17 columns]"
      ]
     },
     "execution_count": 53,
     "metadata": {},
     "output_type": "execute_result"
    }
   ],
   "source": [
    "df"
   ]
  },
  {
   "cell_type": "markdown",
   "metadata": {
    "id": "xr8uXdjoTLDB"
   },
   "source": [
    "-------\n",
    "# Section A: 8 Marks\n",
    "-----------"
   ]
  },
  {
   "cell_type": "markdown",
   "metadata": {
    "id": "TrtignhcTLDC"
   },
   "source": [
    "### 1. What are the different types Of data structures in Pandas? (8 Marks)"
   ]
  },
  {
   "cell_type": "code",
   "execution_count": null,
   "metadata": {
    "id": "-ZsNf_k7TLDD"
   },
   "outputs": [],
   "source": []
  },
  {
   "cell_type": "markdown",
   "metadata": {
    "id": "UT94GCk8TLDJ"
   },
   "source": [
    "-------\n",
    "# Section B: 17 Marks\n",
    "-----------"
   ]
  },
  {
   "cell_type": "markdown",
   "metadata": {
    "id": "FBuKnbOwTLDK"
   },
   "source": [
    "### 2. Find the number of recovered and deceased cases in Kerala? (6 Marks)\n"
   ]
  },
  {
   "cell_type": "code",
   "execution_count": 59,
   "metadata": {
    "id": "4bH2m-LuTLDL"
   },
   "outputs": [
    {
     "data": {
      "text/plain": [
       "3"
      ]
     },
     "execution_count": 59,
     "metadata": {},
     "output_type": "execute_result"
    }
   ],
   "source": [
    "warnings.filterwarnings(\"ignore\")\n",
    "#df[df['Detected State']=='Kerala'][df['Current Status']=='Recovered'][\"Patient Number\"].count()\n",
    "\n",
    "df[df['Detected State']=='Kerala'][df['Current Status']=='Recovered']['Patient Number'].count()"
   ]
  },
  {
   "cell_type": "code",
   "execution_count": 61,
   "metadata": {},
   "outputs": [
    {
     "data": {
      "text/plain": [
       "0"
      ]
     },
     "execution_count": 61,
     "metadata": {},
     "output_type": "execute_result"
    }
   ],
   "source": [
    "df[df['Detected State']=='Kerala'][df['Current Status']=='deceased'][\"Patient Number\"].count()"
   ]
  },
  {
   "cell_type": "code",
   "execution_count": 6,
   "metadata": {},
   "outputs": [],
   "source": [
    "import warnings"
   ]
  },
  {
   "cell_type": "markdown",
   "metadata": {
    "id": "ya6tGw1nTLDR"
   },
   "source": [
    "###  3. Find the number of Female and Male Recovered from Kerala? (5 Marks)"
   ]
  },
  {
   "cell_type": "code",
   "execution_count": 22,
   "metadata": {
    "id": "d5Wm7CpNTLDS"
   },
   "outputs": [
    {
     "data": {
      "text/plain": [
       "1"
      ]
     },
     "execution_count": 22,
     "metadata": {},
     "output_type": "execute_result"
    }
   ],
   "source": [
    "df[df['Detected State']=='Kerala'][df['Current Status']=='Recovered'][df['Gender']=='F']['Patient Number'].count()"
   ]
  },
  {
   "cell_type": "code",
   "execution_count": 30,
   "metadata": {},
   "outputs": [
    {
     "data": {
      "text/plain": [
       "0"
      ]
     },
     "execution_count": 30,
     "metadata": {},
     "output_type": "execute_result"
    }
   ],
   "source": [
    "df[df['Detected State']=='Kerala'][df['Current Status']=='Recovered'][df['Gender']=='M']['Patient Number'].count()"
   ]
  },
  {
   "cell_type": "markdown",
   "metadata": {
    "id": "p6en08nTTLDX"
   },
   "source": [
    "### 4. What is the cause behind the people of Gurugram city to get corona? (6 Marks)\n"
   ]
  },
  {
   "cell_type": "code",
   "execution_count": 31,
   "metadata": {
    "id": "H1iM-4tWTLDY"
   },
   "outputs": [
    {
     "data": {
      "text/html": [
       "<div>\n",
       "<style scoped>\n",
       "    .dataframe tbody tr th:only-of-type {\n",
       "        vertical-align: middle;\n",
       "    }\n",
       "\n",
       "    .dataframe tbody tr th {\n",
       "        vertical-align: top;\n",
       "    }\n",
       "\n",
       "    .dataframe thead th {\n",
       "        text-align: right;\n",
       "    }\n",
       "</style>\n",
       "<table border=\"1\" class=\"dataframe\">\n",
       "  <thead>\n",
       "    <tr style=\"text-align: right;\">\n",
       "      <th></th>\n",
       "      <th>Patient Number</th>\n",
       "      <th>State Patient Number</th>\n",
       "      <th>Date Announced</th>\n",
       "      <th>Estimated Onset Date</th>\n",
       "      <th>Age Bracket</th>\n",
       "      <th>Gender</th>\n",
       "      <th>Detected City</th>\n",
       "      <th>Detected District</th>\n",
       "      <th>Detected State</th>\n",
       "      <th>State code</th>\n",
       "      <th>Current Status</th>\n",
       "      <th>Notes</th>\n",
       "      <th>Contracted from which Patient (Suspected)</th>\n",
       "      <th>Nationality</th>\n",
       "      <th>Type of transmission</th>\n",
       "      <th>Status Change Date</th>\n",
       "      <th>Backup Notes</th>\n",
       "    </tr>\n",
       "  </thead>\n",
       "  <tbody>\n",
       "    <tr>\n",
       "      <th>6</th>\n",
       "      <td>7</td>\n",
       "      <td>NaN</td>\n",
       "      <td>04-03-2020</td>\n",
       "      <td>NaN</td>\n",
       "      <td>55.0</td>\n",
       "      <td>NaN</td>\n",
       "      <td>Gurugram</td>\n",
       "      <td>Italians*</td>\n",
       "      <td>Haryana</td>\n",
       "      <td>HR</td>\n",
       "      <td>deceased</td>\n",
       "      <td>Travelled from Italy</td>\n",
       "      <td>P6</td>\n",
       "      <td>Italy</td>\n",
       "      <td>Imported</td>\n",
       "      <td>29-03-2020</td>\n",
       "      <td>Italian tourist</td>\n",
       "    </tr>\n",
       "    <tr>\n",
       "      <th>7</th>\n",
       "      <td>8</td>\n",
       "      <td>NaN</td>\n",
       "      <td>04-03-2020</td>\n",
       "      <td>NaN</td>\n",
       "      <td>55.0</td>\n",
       "      <td>NaN</td>\n",
       "      <td>Gurugram</td>\n",
       "      <td>Italians*</td>\n",
       "      <td>Haryana</td>\n",
       "      <td>HR</td>\n",
       "      <td>deceased</td>\n",
       "      <td>Travelled from Italy</td>\n",
       "      <td>P6</td>\n",
       "      <td>Italy</td>\n",
       "      <td>Imported</td>\n",
       "      <td>29-03-2020</td>\n",
       "      <td>Italian tourist</td>\n",
       "    </tr>\n",
       "  </tbody>\n",
       "</table>\n",
       "</div>"
      ],
      "text/plain": [
       "   Patient Number State Patient Number Date Announced  Estimated Onset Date  \\\n",
       "6               7                  NaN     04-03-2020                   NaN   \n",
       "7               8                  NaN     04-03-2020                   NaN   \n",
       "\n",
       "   Age Bracket Gender Detected City Detected District Detected State  \\\n",
       "6         55.0    NaN      Gurugram         Italians*        Haryana   \n",
       "7         55.0    NaN      Gurugram         Italians*        Haryana   \n",
       "\n",
       "  State code Current Status                 Notes  \\\n",
       "6         HR       deceased  Travelled from Italy   \n",
       "7         HR       deceased  Travelled from Italy   \n",
       "\n",
       "  Contracted from which Patient (Suspected) Nationality Type of transmission  \\\n",
       "6                                        P6       Italy             Imported   \n",
       "7                                        P6       Italy             Imported   \n",
       "\n",
       "  Status Change Date     Backup Notes  \n",
       "6         29-03-2020  Italian tourist  \n",
       "7         29-03-2020  Italian tourist  "
      ]
     },
     "execution_count": 31,
     "metadata": {},
     "output_type": "execute_result"
    }
   ],
   "source": [
    "df[df[\"Detected City\"]=='Gurugram']"
   ]
  },
  {
   "cell_type": "markdown",
   "metadata": {
    "id": "jrTweQLRTLDe"
   },
   "source": [
    "-------\n",
    "# Section C: 25 Marks\n",
    "-----------"
   ]
  },
  {
   "cell_type": "markdown",
   "metadata": {
    "id": "Fy-uV13PTLDf"
   },
   "source": [
    "### 5a. How many people Travelled from Wuhan in Kerala. (5 Marks)\n",
    "\n",
    "### 5b. How many people  recovered in Kerala ? (3 Marks)\n",
    "\n",
    "\n"
   ]
  },
  {
   "cell_type": "code",
   "execution_count": 37,
   "metadata": {
    "id": "zTlt3zx-TLDg"
   },
   "outputs": [
    {
     "data": {
      "text/plain": [
       "3"
      ]
     },
     "execution_count": 37,
     "metadata": {},
     "output_type": "execute_result"
    }
   ],
   "source": [
    "df[df[\"Notes\"]==\"Travelled from Wuhan\"][df['Detected State']=='Kerala'][\"Patient Number\"].count()"
   ]
  },
  {
   "cell_type": "code",
   "execution_count": 49,
   "metadata": {},
   "outputs": [
    {
     "data": {
      "text/plain": [
       "3"
      ]
     },
     "execution_count": 49,
     "metadata": {},
     "output_type": "execute_result"
    }
   ],
   "source": [
    "df[df['Detected State']=='Kerala'][df['Current Status']=='Recovered'][\"Patient Number\"].count()"
   ]
  },
  {
   "cell_type": "markdown",
   "metadata": {
    "id": "SlpYLzcuTLDl"
   },
   "source": [
    "### 6. Find the percentage of male and female got COVID-19 using the subplots with the combination of (pie & count) graphs at the same time (6 Marks)"
   ]
  },
  {
   "cell_type": "code",
   "execution_count": 62,
   "metadata": {
    "id": "n31BSjg0TLDl"
   },
   "outputs": [
    {
     "data": {
      "text/plain": [
       "M    152\n",
       "F     63\n",
       "Name: Gender, dtype: int64"
      ]
     },
     "execution_count": 62,
     "metadata": {},
     "output_type": "execute_result"
    }
   ],
   "source": [
    "df.Gender.value_counts()"
   ]
  },
  {
   "cell_type": "code",
   "execution_count": 64,
   "metadata": {},
   "outputs": [],
   "source": [
    "import matplotlib.pyplot as plt\n",
    "import seaborn as sns"
   ]
  },
  {
   "cell_type": "code",
   "execution_count": 69,
   "metadata": {},
   "outputs": [
    {
     "data": {
      "text/plain": [
       "M    152\n",
       "F     63\n",
       "Name: Gender, dtype: int64"
      ]
     },
     "execution_count": 69,
     "metadata": {},
     "output_type": "execute_result"
    }
   ],
   "source": [
    "df1=df.Gender.value_counts()\n",
    "df1"
   ]
  },
  {
   "cell_type": "code",
   "execution_count": 78,
   "metadata": {},
   "outputs": [
    {
     "data": {
      "image/png": "[encoded data removed]",
      "text/plain": [
       "<Figure size 432x288 with 1 Axes>"
      ]
     },
     "metadata": {},
     "output_type": "display_data"
    },
    {
     "data": {
      "image/png": "[encoded data removed]",
      "text/plain": [
       "<Figure size 432x288 with 1 Axes>"
      ]
     },
     "metadata": {
      "needs_background": "light"
     },
     "output_type": "display_data"
    }
   ],
   "source": [
    "plt.subplot(1,2,1)\n",
    "plt.pie(x=df1,labels=df1.index,autopct='%1.2f%%')\n",
    "plt.show()\n",
    "\n",
    "plt.subplot(1,2,2)\n",
    "sns.countplot(data=df,x='Gender',hue='Gender')\n",
    "plt.show()"
   ]
  },
  {
   "cell_type": "markdown",
   "metadata": {
    "id": "HDET775FTLDq"
   },
   "source": [
    "### 7. Display the count plot to show the number of people got affected based on states. (5 Marks)"
   ]
  },
  {
   "cell_type": "code",
   "execution_count": 106,
   "metadata": {
    "id": "dxa8feu0TLDr"
   },
   "outputs": [
    {
     "data": {
      "text/plain": [
       "<AxesSubplot:xlabel='Detected State', ylabel='count'>"
      ]
     },
     "execution_count": 106,
     "metadata": {},
     "output_type": "execute_result"
    },
    {
     "data": {
      "image/png": "[encoded data removed]",
      "text/plain": [
       "<Figure size 2160x2016 with 1 Axes>"
      ]
     },
     "metadata": {
      "needs_background": "light"
     },
     "output_type": "display_data"
    }
   ],
   "source": [
    "plt.figure(figsize=(30,28))\n",
    "sns.countplot(data=df,x=df['Detected State'])"
   ]
  },
  {
   "cell_type": "code",
   "execution_count": 89,
   "metadata": {},
   "outputs": [
    {
     "data": {
      "text/plain": [
       "Maharashtra                    684\n",
       "Gujarat                        208\n",
       "Uttar Pradesh                  168\n",
       "Rajasthan                      141\n",
       "Delhi                           76\n",
       "Telangana                       66\n",
       "Andhra Pradesh                  56\n",
       "West Bengal                     31\n",
       "Madhya Pradesh                  25\n",
       "Haryana                          7\n",
       "Bihar                            5\n",
       "Odisha                           3\n",
       "Kerala                           3\n",
       "Andaman and Nicobar Islands      1\n",
       "Name: Detected State, dtype: int64"
      ]
     },
     "execution_count": 89,
     "metadata": {},
     "output_type": "execute_result"
    }
   ],
   "source": [
    "df['Detected State'].value_counts()"
   ]
  },
  {
   "cell_type": "markdown",
   "metadata": {
    "id": "0HfV-t8oTLDx"
   },
   "source": [
    "### 8 .  Display the count plot for the Recovered patients in the Detected State column. (6 Marks)"
   ]
  },
  {
   "cell_type": "code",
   "execution_count": 108,
   "metadata": {
    "id": "APegm9u2TLDy"
   },
   "outputs": [
    {
     "data": {
      "text/plain": [
       "<AxesSubplot:xlabel='Detected State', ylabel='count'>"
      ]
     },
     "execution_count": 108,
     "metadata": {},
     "output_type": "execute_result"
    },
    {
     "data": {
      "image/png": "[encoded data removed]",
      "text/plain": [
       "<Figure size 432x288 with 1 Axes>"
      ]
     },
     "metadata": {
      "needs_background": "light"
     },
     "output_type": "display_data"
    }
   ],
   "source": [
    "df2=df[df['Current Status']=='Recovered']\n",
    "df2\n",
    "sns.countplot(data=df2,x=df2['Detected State'],hue=df2['Current Status'])"
   ]
  },
  {
   "cell_type": "code",
   "execution_count": 101,
   "metadata": {},
   "outputs": [
    {
     "data": {
      "text/plain": [
       "Index(['Kerala', 'Haryana', 'Telangana', 'Delhi', 'Rajasthan'], dtype='object')"
      ]
     },
     "execution_count": 101,
     "metadata": {},
     "output_type": "execute_result"
    }
   ],
   "source": [
    "df2['Detected State'].value_counts().index"
   ]
  },
  {
   "cell_type": "code",
   "execution_count": null,
   "metadata": {},
   "outputs": [],
   "source": []
  }
 ],
 "metadata": {
  "colab": {
   "collapsed_sections": [],
   "name": "NPV_MID_SET_5_EXAM_PAPER.ipynb",
   "provenance": []
  },
  "kernelspec": {
   "display_name": "Python 3",
   "language": "python",
   "name": "python3"
  },
  "language_info": {
   "codemirror_mode": {
    "name": "ipython",
    "version": 3
   },
   "file_extension": ".py",
   "mimetype": "text/x-python",
   "name": "python",
   "nbconvert_exporter": "python",
   "pygments_lexer": "ipython3",
   "version": "3.8.5"
  }
 },
 "nbformat": 4,
 "nbformat_minor": 1
}

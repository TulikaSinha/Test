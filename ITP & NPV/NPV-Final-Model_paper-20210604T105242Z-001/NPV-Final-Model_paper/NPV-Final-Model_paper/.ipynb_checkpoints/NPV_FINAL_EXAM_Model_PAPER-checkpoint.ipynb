{
 "cells": [
  {
   "cell_type": "markdown",
   "metadata": {
    "colab_type": "text",
    "id": "MAqv6aTWW0ce"
   },
   "source": [
    "# NPV FINAL EXAM"
   ]
  },
  {
   "cell_type": "markdown",
   "metadata": {
    "colab_type": "text",
    "id": "fYziyWXnCs6Q"
   },
   "source": [
    "We combined 6 datasets in single CSV file and mention below columns belongs to"
   ]
  },
  {
   "cell_type": "markdown",
   "metadata": {
    "colab_type": "text",
    "id": "45OJMoEYCfeY"
   },
   "source": [
    "### 1. Report_2010_to_Congress_on_White_House_Staff"
   ]
  },
  {
   "cell_type": "markdown",
   "metadata": {
    "colab_type": "text",
    "id": "piug0pGoCfeZ"
   },
   "source": [
    "\n",
    "* Employee Name\t\n",
    "* Employee Status\t\n",
    "* Salary\t\n",
    "* Pay Basis\t\n",
    "* Position Title\n"
   ]
  },
  {
   "cell_type": "markdown",
   "metadata": {
    "colab_type": "text",
    "id": "kKMXe_UCCfeZ"
   },
   "source": [
    "### 2. chipotle"
   ]
  },
  {
   "cell_type": "markdown",
   "metadata": {
    "colab_type": "text",
    "id": "K3EDAgcECfea"
   },
   "source": [
    "\n",
    "* order_id\t\n",
    "* quantity\t\n",
    "* item_name\t\n",
    "* choice_description\t\n",
    "* item_price\n"
   ]
  },
  {
   "cell_type": "markdown",
   "metadata": {
    "colab_type": "text",
    "id": "RGz5A_ZKCfea"
   },
   "source": [
    "### 3. Euro_2012_stats_TEAM"
   ]
  },
  {
   "cell_type": "markdown",
   "metadata": {
    "colab_type": "text",
    "id": "8A_vTgPDCfea"
   },
   "source": [
    "\n",
    "* Team\t\n",
    "* Goals\t\n",
    "* Shots on target\t\n",
    "* Shots off target\t\n",
    "* Shooting Accuracy\t\n",
    "* % Goals-to-shots\t\n",
    "* Total shots (inc. Blocked)\t\n",
    "* Hit Woodwork\t\n",
    "* Penalty goals\t\n",
    "* Penalties not scored\t\n",
    "* Headed goals\t\n",
    "* Passes\t\n",
    "* Passes completed\t\n",
    "* Passing Accuracy\t\n",
    "* Touches\t\n",
    "* Crosses\t\n",
    "* Dribbles\t\n",
    "* Corners Taken\t\n",
    "* Tackles\t\n",
    "* Clearances\t\n",
    "* Interceptions\t\n",
    "* Clearances off line\t\n",
    "* Clean Sheets\t\n",
    "* Blocks\t\n",
    "* Goals conceded\t\n",
    "* Saves made\t\n",
    "* Saves-to-shots ratio\t\n",
    "* Fouls Won\t\n",
    "* Fouls Conceded\t\n",
    "* Offsides\t\n",
    "* Yellow Cards\t\n",
    "* Red Cards\t\n",
    "* Subs on\t\n",
    "* Subs off\t\n",
    "* Players Used\n"
   ]
  },
  {
   "cell_type": "markdown",
   "metadata": {
    "colab_type": "text",
    "id": "UzpNa8DjCfeb"
   },
   "source": [
    "### 4. hotdogs"
   ]
  },
  {
   "cell_type": "markdown",
   "metadata": {
    "colab_type": "text",
    "id": "UJPXx9cSCfeb"
   },
   "source": [
    "\n",
    "* Beef\t\n",
    "* 186\t\n",
    "* 495\n"
   ]
  },
  {
   "cell_type": "markdown",
   "metadata": {
    "colab_type": "text",
    "id": "bZfhWfDrCfec"
   },
   "source": [
    "### 5. stock_data"
   ]
  },
  {
   "cell_type": "markdown",
   "metadata": {
    "colab_type": "text",
    "id": "QPEyKA7yCfec"
   },
   "source": [
    "* Unknow column\n",
    "* AA\t\n",
    "* AAPL\t\n",
    "* GE\t\n",
    "* IBM\t\n",
    "* JNJ\t\n",
    "* MSFT\t\n",
    "* PEP\t\n",
    "* SPX\t\n",
    "* XOM\n"
   ]
  },
  {
   "cell_type": "markdown",
   "metadata": {
    "colab_type": "text",
    "id": "b25CzJYpCfed"
   },
   "source": [
    "### 6. Fifa"
   ]
  },
  {
   "cell_type": "markdown",
   "metadata": {
    "colab_type": "text",
    "id": "K0RDN98UCfed"
   },
   "source": [
    "ID: unique id for every player\n",
    "\n",
    "Name: name\n",
    "\n",
    "Age: age\n",
    "\n",
    "Nationality: nationality\n",
    "\n",
    "Overall: overall rating\n",
    "\n",
    "Potential: potential rating\n",
    "\n",
    "Club: current club\n",
    "\n",
    "Value: current market value\n",
    "\n",
    "Wage: current wage\n",
    "\n",
    "Special: special\n",
    "\n",
    "Preferred Foot: left/right\n",
    "\n",
    "International Reputation: rating on scale of 5\n",
    "\n",
    "Weak Foot: rating on scale of 5\n",
    "\n",
    "Skill Moves: rating on scale of 5\n",
    "\n",
    "Work Rate: attack work rate/defense work rate\n",
    "\n",
    "Body Type: body type of player\n",
    "\n",
    "Real Face: true or false\n",
    "\n",
    "Position: position on the pitch\n",
    "\n",
    "\n",
    "Jersey Number: jersey number\n",
    "\n",
    "Joined: joined date\n",
    "\n",
    "Contract Valid Until: contract end date\n",
    "\n",
    "Height: height of the player\n",
    "\n",
    "Weight: weight of the player\n",
    "\n",
    "\n"
   ]
  },
  {
   "cell_type": "markdown",
   "metadata": {
    "colab_type": "raw",
    "id": "wEgYP9-oW0cg"
   },
   "source": [
    "## Kindly change the below cells from markdown to code and execute it "
   ]
  },
  {
   "cell_type": "markdown",
   "metadata": {
    "colab_type": "text",
    "id": "u97wiFqXCfee"
   },
   "source": [
    "* Note: Use encoding='latin1"
   ]
  },
  {
   "cell_type": "code",
   "execution_count": 3,
   "metadata": {
    "colab_type": "raw",
    "id": "VQ_WA9jKW0ch"
   },
   "outputs": [
    {
     "data": {
      "text/html": [
       "<div>\n",
       "<style scoped>\n",
       "    .dataframe tbody tr th:only-of-type {\n",
       "        vertical-align: middle;\n",
       "    }\n",
       "\n",
       "    .dataframe tbody tr th {\n",
       "        vertical-align: top;\n",
       "    }\n",
       "\n",
       "    .dataframe thead th {\n",
       "        text-align: right;\n",
       "    }\n",
       "</style>\n",
       "<table border=\"1\" class=\"dataframe\">\n",
       "  <thead>\n",
       "    <tr style=\"text-align: right;\">\n",
       "      <th></th>\n",
       "      <th>Employee Name</th>\n",
       "      <th>Employee Status</th>\n",
       "      <th>Salary</th>\n",
       "      <th>Pay Basis</th>\n",
       "      <th>Position Title</th>\n",
       "      <th>order_id</th>\n",
       "      <th>quantity</th>\n",
       "      <th>item_name</th>\n",
       "      <th>choice_description</th>\n",
       "      <th>item_price</th>\n",
       "      <th>...</th>\n",
       "      <th>Skill Moves</th>\n",
       "      <th>Work Rate</th>\n",
       "      <th>Body Type</th>\n",
       "      <th>Real Face</th>\n",
       "      <th>Position</th>\n",
       "      <th>Jersey Number</th>\n",
       "      <th>Joined</th>\n",
       "      <th>Contract Valid Until</th>\n",
       "      <th>Height</th>\n",
       "      <th>Weight</th>\n",
       "    </tr>\n",
       "  </thead>\n",
       "  <tbody>\n",
       "    <tr>\n",
       "      <th>0</th>\n",
       "      <td>Abrams, Adam W.</td>\n",
       "      <td>Employee</td>\n",
       "      <td>66300</td>\n",
       "      <td>Per Annum</td>\n",
       "      <td>WESTERN REGIONAL COMMUNICATIONS DIRECTOR</td>\n",
       "      <td>1</td>\n",
       "      <td>1</td>\n",
       "      <td>Chips and Fresh Tomato Salsa</td>\n",
       "      <td>NaN</td>\n",
       "      <td>$2.39</td>\n",
       "      <td>...</td>\n",
       "      <td>3</td>\n",
       "      <td>Medium/ Medium</td>\n",
       "      <td>Lean</td>\n",
       "      <td>No</td>\n",
       "      <td>RCM</td>\n",
       "      <td>10</td>\n",
       "      <td>19-Jul-14</td>\n",
       "      <td>2019</td>\n",
       "      <td>5'10</td>\n",
       "      <td>143lbs</td>\n",
       "    </tr>\n",
       "    <tr>\n",
       "      <th>1</th>\n",
       "      <td>Adams, Ian H.</td>\n",
       "      <td>Employee</td>\n",
       "      <td>45000</td>\n",
       "      <td>Per Annum</td>\n",
       "      <td>EXECUTIVE ASSISTANT TO THE DIRECTOR OF SCHEDUL...</td>\n",
       "      <td>1</td>\n",
       "      <td>1</td>\n",
       "      <td>Izze</td>\n",
       "      <td>[Clementine]</td>\n",
       "      <td>$3.39</td>\n",
       "      <td>...</td>\n",
       "      <td>4</td>\n",
       "      <td>High/ Medium</td>\n",
       "      <td>Normal</td>\n",
       "      <td>Yes</td>\n",
       "      <td>LF</td>\n",
       "      <td>8</td>\n",
       "      <td>16-Jul-18</td>\n",
       "      <td>2021</td>\n",
       "      <td>5'7</td>\n",
       "      <td>150lbs</td>\n",
       "    </tr>\n",
       "    <tr>\n",
       "      <th>2</th>\n",
       "      <td>Agnew, David P.</td>\n",
       "      <td>Employee</td>\n",
       "      <td>93840</td>\n",
       "      <td>Per Annum</td>\n",
       "      <td>DEPUTY DIRECTOR OF INTERGOVERNMENTAL AFFAIRS</td>\n",
       "      <td>1</td>\n",
       "      <td>1</td>\n",
       "      <td>Nantucket Nectar</td>\n",
       "      <td>[Apple]</td>\n",
       "      <td>$3.39</td>\n",
       "      <td>...</td>\n",
       "      <td>4</td>\n",
       "      <td>Medium/ Medium</td>\n",
       "      <td>Stocky</td>\n",
       "      <td>No</td>\n",
       "      <td>CM</td>\n",
       "      <td>5</td>\n",
       "      <td>09-Jul-15</td>\n",
       "      <td>2019</td>\n",
       "      <td>5'7</td>\n",
       "      <td>159lbs</td>\n",
       "    </tr>\n",
       "    <tr>\n",
       "      <th>3</th>\n",
       "      <td>Albino, James</td>\n",
       "      <td>Employee</td>\n",
       "      <td>91800</td>\n",
       "      <td>Per Annum</td>\n",
       "      <td>SENIOR PROGRAM MANAGER</td>\n",
       "      <td>1</td>\n",
       "      <td>1</td>\n",
       "      <td>Chips and Tomatillo-Green Chili Salsa</td>\n",
       "      <td>NaN</td>\n",
       "      <td>$2.39</td>\n",
       "      <td>...</td>\n",
       "      <td>3</td>\n",
       "      <td>Low/ High</td>\n",
       "      <td>Normal</td>\n",
       "      <td>No</td>\n",
       "      <td>LCM</td>\n",
       "      <td>11</td>\n",
       "      <td>31-Aug-17</td>\n",
       "      <td>2019</td>\n",
       "      <td>5'11</td>\n",
       "      <td>168lbs</td>\n",
       "    </tr>\n",
       "    <tr>\n",
       "      <th>4</th>\n",
       "      <td>Aldy, Jr., Joseph E.</td>\n",
       "      <td>Employee</td>\n",
       "      <td>130500</td>\n",
       "      <td>Per Annum</td>\n",
       "      <td>SPECIAL ASSISTANT TO THE PRESIDENT FOR ENERGY ...</td>\n",
       "      <td>2</td>\n",
       "      <td>2</td>\n",
       "      <td>Chicken Bowl</td>\n",
       "      <td>[Tomatillo-Red Chili Salsa (Hot), [Black Beans...</td>\n",
       "      <td>$16.98</td>\n",
       "      <td>...</td>\n",
       "      <td>2</td>\n",
       "      <td>Medium/ High</td>\n",
       "      <td>Stocky</td>\n",
       "      <td>No</td>\n",
       "      <td>CDM</td>\n",
       "      <td>8</td>\n",
       "      <td>06-Jul-18</td>\n",
       "      <td>2019</td>\n",
       "      <td>5'6</td>\n",
       "      <td>154lbs</td>\n",
       "    </tr>\n",
       "  </tbody>\n",
       "</table>\n",
       "<p>5 rows × 81 columns</p>\n",
       "</div>"
      ],
      "text/plain": [
       "          Employee Name Employee Status  Salary  Pay Basis  \\\n",
       "0       Abrams, Adam W.        Employee   66300  Per Annum   \n",
       "1         Adams, Ian H.        Employee   45000  Per Annum   \n",
       "2       Agnew, David P.        Employee   93840  Per Annum   \n",
       "3        Albino, James         Employee   91800  Per Annum   \n",
       "4  Aldy, Jr., Joseph E.        Employee  130500  Per Annum   \n",
       "\n",
       "                                      Position Title  order_id  quantity  \\\n",
       "0           WESTERN REGIONAL COMMUNICATIONS DIRECTOR         1         1   \n",
       "1  EXECUTIVE ASSISTANT TO THE DIRECTOR OF SCHEDUL...         1         1   \n",
       "2       DEPUTY DIRECTOR OF INTERGOVERNMENTAL AFFAIRS         1         1   \n",
       "3                             SENIOR PROGRAM MANAGER         1         1   \n",
       "4  SPECIAL ASSISTANT TO THE PRESIDENT FOR ENERGY ...         2         2   \n",
       "\n",
       "                               item_name  \\\n",
       "0           Chips and Fresh Tomato Salsa   \n",
       "1                                   Izze   \n",
       "2                       Nantucket Nectar   \n",
       "3  Chips and Tomatillo-Green Chili Salsa   \n",
       "4                           Chicken Bowl   \n",
       "\n",
       "                                  choice_description item_price  ...  \\\n",
       "0                                                NaN     $2.39   ...   \n",
       "1                                       [Clementine]     $3.39   ...   \n",
       "2                                            [Apple]     $3.39   ...   \n",
       "3                                                NaN     $2.39   ...   \n",
       "4  [Tomatillo-Red Chili Salsa (Hot), [Black Beans...    $16.98   ...   \n",
       "\n",
       "  Skill Moves       Work Rate  Body Type  Real Face Position Jersey Number  \\\n",
       "0           3  Medium/ Medium       Lean         No      RCM            10   \n",
       "1           4    High/ Medium     Normal        Yes       LF             8   \n",
       "2           4  Medium/ Medium     Stocky         No       CM             5   \n",
       "3           3       Low/ High     Normal         No      LCM            11   \n",
       "4           2    Medium/ High     Stocky         No      CDM             8   \n",
       "\n",
       "      Joined  Contract Valid Until  Height  Weight  \n",
       "0  19-Jul-14                  2019    5'10  143lbs  \n",
       "1  16-Jul-18                  2021     5'7  150lbs  \n",
       "2  09-Jul-15                  2019     5'7  159lbs  \n",
       "3  31-Aug-17                  2019    5'11  168lbs  \n",
       "4  06-Jul-18                  2019     5'6  154lbs  \n",
       "\n",
       "[5 rows x 81 columns]"
      ]
     },
     "execution_count": 3,
     "metadata": {},
     "output_type": "execute_result"
    }
   ],
   "source": [
    "import pandas as pd\n",
    "\n",
    "import csv\n",
    "\n",
    "with open(\"DATASET.csv\",\"r\")as file:\n",
    "    \n",
    "    reader=csv.reader(file)\n",
    "\n",
    "df=pd.read_csv(\"DATASET.csv\",encoding='latin1')\n",
    "\n",
    "df.head()\n"
   ]
  },
  {
   "cell_type": "code",
   "execution_count": 4,
   "metadata": {
    "colab": {},
    "colab_type": "code",
    "id": "QYbukIDmW0cl",
    "outputId": "b685e7b9-1123-4539-f06e-b7f54bff4e43",
    "scrolled": true
   },
   "outputs": [
    {
     "data": {
      "text/html": [
       "<div>\n",
       "<style scoped>\n",
       "    .dataframe tbody tr th:only-of-type {\n",
       "        vertical-align: middle;\n",
       "    }\n",
       "\n",
       "    .dataframe tbody tr th {\n",
       "        vertical-align: top;\n",
       "    }\n",
       "\n",
       "    .dataframe thead th {\n",
       "        text-align: right;\n",
       "    }\n",
       "</style>\n",
       "<table border=\"1\" class=\"dataframe\">\n",
       "  <thead>\n",
       "    <tr style=\"text-align: right;\">\n",
       "      <th></th>\n",
       "      <th>Employee Name</th>\n",
       "      <th>Employee Status</th>\n",
       "      <th>Salary</th>\n",
       "      <th>Pay Basis</th>\n",
       "      <th>Position Title</th>\n",
       "    </tr>\n",
       "  </thead>\n",
       "  <tbody>\n",
       "    <tr>\n",
       "      <th>0</th>\n",
       "      <td>Abrams, Adam W.</td>\n",
       "      <td>Employee</td>\n",
       "      <td>66300</td>\n",
       "      <td>Per Annum</td>\n",
       "      <td>WESTERN REGIONAL COMMUNICATIONS DIRECTOR</td>\n",
       "    </tr>\n",
       "  </tbody>\n",
       "</table>\n",
       "</div>"
      ],
      "text/plain": [
       "     Employee Name Employee Status  Salary  Pay Basis  \\\n",
       "0  Abrams, Adam W.        Employee   66300  Per Annum   \n",
       "\n",
       "                             Position Title  \n",
       "0  WESTERN REGIONAL COMMUNICATIONS DIRECTOR  "
      ]
     },
     "execution_count": 4,
     "metadata": {},
     "output_type": "execute_result"
    }
   ],
   "source": [
    "Report_2010_to_Congress_on_White_House_Staff = df.iloc[:, :5]\n",
    "Report_2010_to_Congress_on_White_House_Staff.head(1)"
   ]
  },
  {
   "cell_type": "code",
   "execution_count": 5,
   "metadata": {
    "colab": {},
    "colab_type": "code",
    "id": "BM-deEV0W0cn",
    "outputId": "f54a045d-d565-4e94-dae3-d5ea527b2314",
    "scrolled": false
   },
   "outputs": [
    {
     "data": {
      "text/html": [
       "<div>\n",
       "<style scoped>\n",
       "    .dataframe tbody tr th:only-of-type {\n",
       "        vertical-align: middle;\n",
       "    }\n",
       "\n",
       "    .dataframe tbody tr th {\n",
       "        vertical-align: top;\n",
       "    }\n",
       "\n",
       "    .dataframe thead th {\n",
       "        text-align: right;\n",
       "    }\n",
       "</style>\n",
       "<table border=\"1\" class=\"dataframe\">\n",
       "  <thead>\n",
       "    <tr style=\"text-align: right;\">\n",
       "      <th></th>\n",
       "      <th>order_id</th>\n",
       "      <th>quantity</th>\n",
       "      <th>item_name</th>\n",
       "      <th>choice_description</th>\n",
       "      <th>item_price</th>\n",
       "    </tr>\n",
       "  </thead>\n",
       "  <tbody>\n",
       "    <tr>\n",
       "      <th>0</th>\n",
       "      <td>1</td>\n",
       "      <td>1</td>\n",
       "      <td>Chips and Fresh Tomato Salsa</td>\n",
       "      <td>NaN</td>\n",
       "      <td>$2.39</td>\n",
       "    </tr>\n",
       "  </tbody>\n",
       "</table>\n",
       "</div>"
      ],
      "text/plain": [
       "   order_id  quantity                     item_name choice_description  \\\n",
       "0         1         1  Chips and Fresh Tomato Salsa                NaN   \n",
       "\n",
       "  item_price  \n",
       "0     $2.39   "
      ]
     },
     "execution_count": 5,
     "metadata": {},
     "output_type": "execute_result"
    }
   ],
   "source": [
    "chipotle = df.iloc[:, 5:10]\n",
    "chipotle.head(1)"
   ]
  },
  {
   "cell_type": "code",
   "execution_count": 6,
   "metadata": {
    "colab": {},
    "colab_type": "code",
    "id": "1EsqPqEICfel",
    "outputId": "c2e72738-730e-4895-ac93-928929cdbd84"
   },
   "outputs": [
    {
     "data": {
      "text/html": [
       "<div>\n",
       "<style scoped>\n",
       "    .dataframe tbody tr th:only-of-type {\n",
       "        vertical-align: middle;\n",
       "    }\n",
       "\n",
       "    .dataframe tbody tr th {\n",
       "        vertical-align: top;\n",
       "    }\n",
       "\n",
       "    .dataframe thead th {\n",
       "        text-align: right;\n",
       "    }\n",
       "</style>\n",
       "<table border=\"1\" class=\"dataframe\">\n",
       "  <thead>\n",
       "    <tr style=\"text-align: right;\">\n",
       "      <th></th>\n",
       "      <th>Team</th>\n",
       "      <th>Goals</th>\n",
       "      <th>Shots on target</th>\n",
       "      <th>Shots off target</th>\n",
       "      <th>Shooting Accuracy</th>\n",
       "      <th>% Goals-to-shots</th>\n",
       "      <th>Total shots (inc. Blocked)</th>\n",
       "      <th>Hit Woodwork</th>\n",
       "      <th>Penalty goals</th>\n",
       "      <th>Penalties not scored</th>\n",
       "      <th>...</th>\n",
       "      <th>Saves made</th>\n",
       "      <th>Saves-to-shots ratio</th>\n",
       "      <th>Fouls Won</th>\n",
       "      <th>Fouls Conceded</th>\n",
       "      <th>Offsides</th>\n",
       "      <th>Yellow Cards</th>\n",
       "      <th>Red Cards</th>\n",
       "      <th>Subs on</th>\n",
       "      <th>Subs off</th>\n",
       "      <th>Players Used</th>\n",
       "    </tr>\n",
       "  </thead>\n",
       "  <tbody>\n",
       "    <tr>\n",
       "      <th>0</th>\n",
       "      <td>Croatia</td>\n",
       "      <td>4</td>\n",
       "      <td>13</td>\n",
       "      <td>12</td>\n",
       "      <td>51.90%</td>\n",
       "      <td>16.00%</td>\n",
       "      <td>32</td>\n",
       "      <td>0</td>\n",
       "      <td>0</td>\n",
       "      <td>0</td>\n",
       "      <td>...</td>\n",
       "      <td>13</td>\n",
       "      <td>81.30%</td>\n",
       "      <td>41</td>\n",
       "      <td>62</td>\n",
       "      <td>2</td>\n",
       "      <td>9</td>\n",
       "      <td>0</td>\n",
       "      <td>9</td>\n",
       "      <td>9</td>\n",
       "      <td>16</td>\n",
       "    </tr>\n",
       "  </tbody>\n",
       "</table>\n",
       "<p>1 rows × 35 columns</p>\n",
       "</div>"
      ],
      "text/plain": [
       "      Team  Goals  Shots on target  Shots off target Shooting Accuracy  \\\n",
       "0  Croatia      4               13                12            51.90%   \n",
       "\n",
       "  % Goals-to-shots  Total shots (inc. Blocked)  Hit Woodwork  Penalty goals  \\\n",
       "0           16.00%                          32             0              0   \n",
       "\n",
       "   Penalties not scored  ...  Saves made  Saves-to-shots ratio  Fouls Won  \\\n",
       "0                     0  ...          13                81.30%         41   \n",
       "\n",
       "  Fouls Conceded  Offsides  Yellow Cards  Red Cards  Subs on  Subs off  \\\n",
       "0             62         2             9          0        9         9   \n",
       "\n",
       "   Players Used  \n",
       "0            16  \n",
       "\n",
       "[1 rows x 35 columns]"
      ]
     },
     "execution_count": 6,
     "metadata": {},
     "output_type": "execute_result"
    }
   ],
   "source": [
    "Euro_2012_stats_TEAM = df.iloc[:, 10:45]\n",
    "Euro_2012_stats_TEAM.head(1)"
   ]
  },
  {
   "cell_type": "code",
   "execution_count": 7,
   "metadata": {
    "colab": {},
    "colab_type": "code",
    "id": "YTDheSScCfen",
    "outputId": "9a2d350c-4bd0-4b2b-b781-ed3989cd8293"
   },
   "outputs": [
    {
     "data": {
      "text/html": [
       "<div>\n",
       "<style scoped>\n",
       "    .dataframe tbody tr th:only-of-type {\n",
       "        vertical-align: middle;\n",
       "    }\n",
       "\n",
       "    .dataframe tbody tr th {\n",
       "        vertical-align: top;\n",
       "    }\n",
       "\n",
       "    .dataframe thead th {\n",
       "        text-align: right;\n",
       "    }\n",
       "</style>\n",
       "<table border=\"1\" class=\"dataframe\">\n",
       "  <thead>\n",
       "    <tr style=\"text-align: right;\">\n",
       "      <th></th>\n",
       "      <th>Beef</th>\n",
       "      <th>186</th>\n",
       "      <th>495</th>\n",
       "    </tr>\n",
       "  </thead>\n",
       "  <tbody>\n",
       "    <tr>\n",
       "      <th>0</th>\n",
       "      <td>Beef</td>\n",
       "      <td>181</td>\n",
       "      <td>477</td>\n",
       "    </tr>\n",
       "  </tbody>\n",
       "</table>\n",
       "</div>"
      ],
      "text/plain": [
       "   Beef  186  495\n",
       "0  Beef  181  477"
      ]
     },
     "execution_count": 7,
     "metadata": {},
     "output_type": "execute_result"
    }
   ],
   "source": [
    "hotdogs = df.iloc[:, 45:48]\n",
    "hotdogs.head(1)"
   ]
  },
  {
   "cell_type": "code",
   "execution_count": 8,
   "metadata": {
    "colab": {},
    "colab_type": "code",
    "id": "gGXNnRNrCfep",
    "outputId": "fc17f33a-e52b-4366-ac1e-2268eecf3c86"
   },
   "outputs": [
    {
     "data": {
      "text/html": [
       "<div>\n",
       "<style scoped>\n",
       "    .dataframe tbody tr th:only-of-type {\n",
       "        vertical-align: middle;\n",
       "    }\n",
       "\n",
       "    .dataframe tbody tr th {\n",
       "        vertical-align: top;\n",
       "    }\n",
       "\n",
       "    .dataframe thead th {\n",
       "        text-align: right;\n",
       "    }\n",
       "</style>\n",
       "<table border=\"1\" class=\"dataframe\">\n",
       "  <thead>\n",
       "    <tr style=\"text-align: right;\">\n",
       "      <th></th>\n",
       "      <th>Unnamed: 48</th>\n",
       "      <th>AA</th>\n",
       "      <th>AAPL</th>\n",
       "      <th>GE</th>\n",
       "      <th>IBM</th>\n",
       "      <th>JNJ</th>\n",
       "      <th>MSFT</th>\n",
       "      <th>PEP</th>\n",
       "      <th>SPX</th>\n",
       "      <th>XOM</th>\n",
       "    </tr>\n",
       "  </thead>\n",
       "  <tbody>\n",
       "    <tr>\n",
       "      <th>0</th>\n",
       "      <td>29-10-2007 00:00</td>\n",
       "      <td>37.41</td>\n",
       "      <td>185.09</td>\n",
       "      <td>34.46</td>\n",
       "      <td>106.78</td>\n",
       "      <td>57.13</td>\n",
       "      <td>31.78</td>\n",
       "      <td>65.67</td>\n",
       "      <td>1540.98</td>\n",
       "      <td>85.51</td>\n",
       "    </tr>\n",
       "  </tbody>\n",
       "</table>\n",
       "</div>"
      ],
      "text/plain": [
       "        Unnamed: 48     AA    AAPL     GE     IBM    JNJ   MSFT    PEP  \\\n",
       "0  29-10-2007 00:00  37.41  185.09  34.46  106.78  57.13  31.78  65.67   \n",
       "\n",
       "       SPX    XOM  \n",
       "0  1540.98  85.51  "
      ]
     },
     "execution_count": 8,
     "metadata": {},
     "output_type": "execute_result"
    }
   ],
   "source": [
    "stock_data = df.iloc[:, 48:58]\n",
    "stock_data.head(1)"
   ]
  },
  {
   "cell_type": "code",
   "execution_count": 9,
   "metadata": {
    "colab": {},
    "colab_type": "code",
    "id": "-2UlC9kUCfer",
    "outputId": "7cc83de1-2ca8-47c1-f2cd-d689a0036b3b"
   },
   "outputs": [
    {
     "data": {
      "text/html": [
       "<div>\n",
       "<style scoped>\n",
       "    .dataframe tbody tr th:only-of-type {\n",
       "        vertical-align: middle;\n",
       "    }\n",
       "\n",
       "    .dataframe tbody tr th {\n",
       "        vertical-align: top;\n",
       "    }\n",
       "\n",
       "    .dataframe thead th {\n",
       "        text-align: right;\n",
       "    }\n",
       "</style>\n",
       "<table border=\"1\" class=\"dataframe\">\n",
       "  <thead>\n",
       "    <tr style=\"text-align: right;\">\n",
       "      <th></th>\n",
       "      <th>ID</th>\n",
       "      <th>Name</th>\n",
       "      <th>Age</th>\n",
       "      <th>Nationality</th>\n",
       "      <th>Overall</th>\n",
       "      <th>Potential</th>\n",
       "      <th>Club</th>\n",
       "      <th>Value</th>\n",
       "      <th>Wage</th>\n",
       "      <th>Special</th>\n",
       "      <th>...</th>\n",
       "      <th>Skill Moves</th>\n",
       "      <th>Work Rate</th>\n",
       "      <th>Body Type</th>\n",
       "      <th>Real Face</th>\n",
       "      <th>Position</th>\n",
       "      <th>Jersey Number</th>\n",
       "      <th>Joined</th>\n",
       "      <th>Contract Valid Until</th>\n",
       "      <th>Height</th>\n",
       "      <th>Weight</th>\n",
       "    </tr>\n",
       "  </thead>\n",
       "  <tbody>\n",
       "    <tr>\n",
       "      <th>0</th>\n",
       "      <td>16</td>\n",
       "      <td>Luis Garc¡a</td>\n",
       "      <td>37</td>\n",
       "      <td>Spain</td>\n",
       "      <td>71</td>\n",
       "      <td>71</td>\n",
       "      <td>KAS Eupen</td>\n",
       "      <td>?750K</td>\n",
       "      <td>?6K</td>\n",
       "      <td>1906</td>\n",
       "      <td>...</td>\n",
       "      <td>3</td>\n",
       "      <td>Medium/ Medium</td>\n",
       "      <td>Lean</td>\n",
       "      <td>No</td>\n",
       "      <td>RCM</td>\n",
       "      <td>10</td>\n",
       "      <td>19-Jul-14</td>\n",
       "      <td>2019</td>\n",
       "      <td>5'10</td>\n",
       "      <td>143lbs</td>\n",
       "    </tr>\n",
       "  </tbody>\n",
       "</table>\n",
       "<p>1 rows × 23 columns</p>\n",
       "</div>"
      ],
      "text/plain": [
       "   ID         Name  Age Nationality  Overall  Potential       Club  Value  \\\n",
       "0  16  Luis Garc¡a   37       Spain       71         71  KAS Eupen  ?750K   \n",
       "\n",
       "  Wage  Special  ... Skill Moves       Work Rate  Body Type  Real Face  \\\n",
       "0  ?6K     1906  ...           3  Medium/ Medium       Lean         No   \n",
       "\n",
       "  Position Jersey Number     Joined Contract Valid Until  Height  Weight  \n",
       "0      RCM            10  19-Jul-14                 2019    5'10  143lbs  \n",
       "\n",
       "[1 rows x 23 columns]"
      ]
     },
     "execution_count": 9,
     "metadata": {},
     "output_type": "execute_result"
    }
   ],
   "source": [
    "Fifa= df.iloc[:, 58:]\n",
    "Fifa.head(1)"
   ]
  },
  {
   "cell_type": "code",
   "execution_count": null,
   "metadata": {
    "colab": {},
    "colab_type": "code",
    "id": "KFqpdDxkCfet"
   },
   "outputs": [],
   "source": []
  },
  {
   "cell_type": "markdown",
   "metadata": {
    "colab_type": "text",
    "id": "l6YnGKTRW0cz"
   },
   "source": [
    " _________________"
   ]
  },
  {
   "cell_type": "markdown",
   "metadata": {
    "colab_type": "text",
    "id": "9O__loLwW0cp"
   },
   "source": [
    "# SECTION A: 20 MARKS"
   ]
  },
  {
   "cell_type": "markdown",
   "metadata": {
    "colab_type": "text",
    "id": "7xtvJfT3W0cq"
   },
   "source": [
    " _________________"
   ]
  },
  {
   "cell_type": "markdown",
   "metadata": {
    "colab_type": "text",
    "id": "X51O04gdCfew"
   },
   "source": [
    "### 1. Read the dataset(Report_2010_to_Congress_on_White_House_Staff) and Answer the below questions?\n",
    "    \n",
    "A. Find the salary of an employee in a (1st-row 2nd-column) using a position based indexing function? (1 Mark)\n",
    "\n",
    "B. Display all the employees whose salary is greater than 50000?(1 Mark)\n",
    "\n",
    "C. Display all the rows whose salary is greater than 50000 and position as \"ANALYST\"?(1 Mark)\n",
    "\n",
    "D. Find the list of Employee details belonging to a position ('ANALYST','ADVISOR')?(1 Mark)\n",
    "\n",
    "E. Find the top 10 highest-paid employees in each position?(1 Mark)\n"
   ]
  },
  {
   "cell_type": "code",
   "execution_count": 10,
   "metadata": {
    "colab": {},
    "colab_type": "code",
    "id": "-C8cewntCfex"
   },
   "outputs": [
    {
     "data": {
      "text/html": [
       "<div>\n",
       "<style scoped>\n",
       "    .dataframe tbody tr th:only-of-type {\n",
       "        vertical-align: middle;\n",
       "    }\n",
       "\n",
       "    .dataframe tbody tr th {\n",
       "        vertical-align: top;\n",
       "    }\n",
       "\n",
       "    .dataframe thead th {\n",
       "        text-align: right;\n",
       "    }\n",
       "</style>\n",
       "<table border=\"1\" class=\"dataframe\">\n",
       "  <thead>\n",
       "    <tr style=\"text-align: right;\">\n",
       "      <th></th>\n",
       "      <th>Employee Name</th>\n",
       "      <th>Employee Status</th>\n",
       "      <th>Salary</th>\n",
       "      <th>Pay Basis</th>\n",
       "      <th>Position Title</th>\n",
       "    </tr>\n",
       "  </thead>\n",
       "  <tbody>\n",
       "    <tr>\n",
       "      <th>0</th>\n",
       "      <td>Abrams, Adam W.</td>\n",
       "      <td>Employee</td>\n",
       "      <td>66300</td>\n",
       "      <td>Per Annum</td>\n",
       "      <td>WESTERN REGIONAL COMMUNICATIONS DIRECTOR</td>\n",
       "    </tr>\n",
       "    <tr>\n",
       "      <th>1</th>\n",
       "      <td>Adams, Ian H.</td>\n",
       "      <td>Employee</td>\n",
       "      <td>45000</td>\n",
       "      <td>Per Annum</td>\n",
       "      <td>EXECUTIVE ASSISTANT TO THE DIRECTOR OF SCHEDUL...</td>\n",
       "    </tr>\n",
       "    <tr>\n",
       "      <th>2</th>\n",
       "      <td>Agnew, David P.</td>\n",
       "      <td>Employee</td>\n",
       "      <td>93840</td>\n",
       "      <td>Per Annum</td>\n",
       "      <td>DEPUTY DIRECTOR OF INTERGOVERNMENTAL AFFAIRS</td>\n",
       "    </tr>\n",
       "    <tr>\n",
       "      <th>3</th>\n",
       "      <td>Albino, James</td>\n",
       "      <td>Employee</td>\n",
       "      <td>91800</td>\n",
       "      <td>Per Annum</td>\n",
       "      <td>SENIOR PROGRAM MANAGER</td>\n",
       "    </tr>\n",
       "    <tr>\n",
       "      <th>4</th>\n",
       "      <td>Aldy, Jr., Joseph E.</td>\n",
       "      <td>Employee</td>\n",
       "      <td>130500</td>\n",
       "      <td>Per Annum</td>\n",
       "      <td>SPECIAL ASSISTANT TO THE PRESIDENT FOR ENERGY ...</td>\n",
       "    </tr>\n",
       "    <tr>\n",
       "      <th>...</th>\n",
       "      <td>...</td>\n",
       "      <td>...</td>\n",
       "      <td>...</td>\n",
       "      <td>...</td>\n",
       "      <td>...</td>\n",
       "    </tr>\n",
       "    <tr>\n",
       "      <th>464</th>\n",
       "      <td>Young, Jr., Reginald D.</td>\n",
       "      <td>Employee</td>\n",
       "      <td>60232</td>\n",
       "      <td>Per Annum</td>\n",
       "      <td>RECORDS MANAGEMENT ANALYST</td>\n",
       "    </tr>\n",
       "    <tr>\n",
       "      <th>465</th>\n",
       "      <td>Young, Katherine H.</td>\n",
       "      <td>Employee</td>\n",
       "      <td>42000</td>\n",
       "      <td>Per Annum</td>\n",
       "      <td>STAFF ASSISTANT</td>\n",
       "    </tr>\n",
       "    <tr>\n",
       "      <th>466</th>\n",
       "      <td>Young, Latoya A.</td>\n",
       "      <td>Employee</td>\n",
       "      <td>58511</td>\n",
       "      <td>Per Annum</td>\n",
       "      <td>RECORDS MANAGEMENT ANALYST</td>\n",
       "    </tr>\n",
       "    <tr>\n",
       "      <th>467</th>\n",
       "      <td>Zelman, Allison L.</td>\n",
       "      <td>Employee</td>\n",
       "      <td>50000</td>\n",
       "      <td>Per Annum</td>\n",
       "      <td>POLICY ASSISTANT</td>\n",
       "    </tr>\n",
       "    <tr>\n",
       "      <th>468</th>\n",
       "      <td>Zichal, Heather R.</td>\n",
       "      <td>Employee</td>\n",
       "      <td>100000</td>\n",
       "      <td>Per Annum</td>\n",
       "      <td>DEPUTY ASSISTANT TO THE PRESIDENT FOR ENERGY A...</td>\n",
       "    </tr>\n",
       "  </tbody>\n",
       "</table>\n",
       "<p>469 rows × 5 columns</p>\n",
       "</div>"
      ],
      "text/plain": [
       "               Employee Name Employee Status  Salary  Pay Basis  \\\n",
       "0            Abrams, Adam W.        Employee   66300  Per Annum   \n",
       "1              Adams, Ian H.        Employee   45000  Per Annum   \n",
       "2            Agnew, David P.        Employee   93840  Per Annum   \n",
       "3             Albino, James         Employee   91800  Per Annum   \n",
       "4       Aldy, Jr., Joseph E.        Employee  130500  Per Annum   \n",
       "..                       ...             ...     ...        ...   \n",
       "464  Young, Jr., Reginald D.        Employee   60232  Per Annum   \n",
       "465      Young, Katherine H.        Employee   42000  Per Annum   \n",
       "466         Young, Latoya A.        Employee   58511  Per Annum   \n",
       "467       Zelman, Allison L.        Employee   50000  Per Annum   \n",
       "468       Zichal, Heather R.        Employee  100000  Per Annum   \n",
       "\n",
       "                                        Position Title  \n",
       "0             WESTERN REGIONAL COMMUNICATIONS DIRECTOR  \n",
       "1    EXECUTIVE ASSISTANT TO THE DIRECTOR OF SCHEDUL...  \n",
       "2         DEPUTY DIRECTOR OF INTERGOVERNMENTAL AFFAIRS  \n",
       "3                               SENIOR PROGRAM MANAGER  \n",
       "4    SPECIAL ASSISTANT TO THE PRESIDENT FOR ENERGY ...  \n",
       "..                                                 ...  \n",
       "464                         RECORDS MANAGEMENT ANALYST  \n",
       "465                                    STAFF ASSISTANT  \n",
       "466                         RECORDS MANAGEMENT ANALYST  \n",
       "467                                   POLICY ASSISTANT  \n",
       "468  DEPUTY ASSISTANT TO THE PRESIDENT FOR ENERGY A...  \n",
       "\n",
       "[469 rows x 5 columns]"
      ]
     },
     "execution_count": 10,
     "metadata": {},
     "output_type": "execute_result"
    }
   ],
   "source": [
    "Report_2010_to_Congress_on_White_House_Staff"
   ]
  },
  {
   "cell_type": "code",
   "execution_count": 12,
   "metadata": {},
   "outputs": [
    {
     "data": {
      "text/plain": [
       "1    45000\n",
       "Name: Salary, dtype: int64"
      ]
     },
     "execution_count": 12,
     "metadata": {},
     "output_type": "execute_result"
    }
   ],
   "source": [
    "Report_2010_to_Congress_on_White_House_Staff['Salary'][1:2]"
   ]
  },
  {
   "cell_type": "code",
   "execution_count": 14,
   "metadata": {},
   "outputs": [
    {
     "data": {
      "text/html": [
       "<div>\n",
       "<style scoped>\n",
       "    .dataframe tbody tr th:only-of-type {\n",
       "        vertical-align: middle;\n",
       "    }\n",
       "\n",
       "    .dataframe tbody tr th {\n",
       "        vertical-align: top;\n",
       "    }\n",
       "\n",
       "    .dataframe thead th {\n",
       "        text-align: right;\n",
       "    }\n",
       "</style>\n",
       "<table border=\"1\" class=\"dataframe\">\n",
       "  <thead>\n",
       "    <tr style=\"text-align: right;\">\n",
       "      <th></th>\n",
       "      <th>Employee Name</th>\n",
       "      <th>Employee Status</th>\n",
       "      <th>Salary</th>\n",
       "      <th>Pay Basis</th>\n",
       "      <th>Position Title</th>\n",
       "    </tr>\n",
       "  </thead>\n",
       "  <tbody>\n",
       "    <tr>\n",
       "      <th>0</th>\n",
       "      <td>Abrams, Adam W.</td>\n",
       "      <td>Employee</td>\n",
       "      <td>66300</td>\n",
       "      <td>Per Annum</td>\n",
       "      <td>WESTERN REGIONAL COMMUNICATIONS DIRECTOR</td>\n",
       "    </tr>\n",
       "    <tr>\n",
       "      <th>2</th>\n",
       "      <td>Agnew, David P.</td>\n",
       "      <td>Employee</td>\n",
       "      <td>93840</td>\n",
       "      <td>Per Annum</td>\n",
       "      <td>DEPUTY DIRECTOR OF INTERGOVERNMENTAL AFFAIRS</td>\n",
       "    </tr>\n",
       "    <tr>\n",
       "      <th>3</th>\n",
       "      <td>Albino, James</td>\n",
       "      <td>Employee</td>\n",
       "      <td>91800</td>\n",
       "      <td>Per Annum</td>\n",
       "      <td>SENIOR PROGRAM MANAGER</td>\n",
       "    </tr>\n",
       "    <tr>\n",
       "      <th>4</th>\n",
       "      <td>Aldy, Jr., Joseph E.</td>\n",
       "      <td>Employee</td>\n",
       "      <td>130500</td>\n",
       "      <td>Per Annum</td>\n",
       "      <td>SPECIAL ASSISTANT TO THE PRESIDENT FOR ENERGY ...</td>\n",
       "    </tr>\n",
       "    <tr>\n",
       "      <th>6</th>\n",
       "      <td>Amorsingh, Lucius L.</td>\n",
       "      <td>Employee</td>\n",
       "      <td>56092</td>\n",
       "      <td>Per Annum</td>\n",
       "      <td>SPECIAL ASSISTANT</td>\n",
       "    </tr>\n",
       "    <tr>\n",
       "      <th>...</th>\n",
       "      <td>...</td>\n",
       "      <td>...</td>\n",
       "      <td>...</td>\n",
       "      <td>...</td>\n",
       "      <td>...</td>\n",
       "    </tr>\n",
       "    <tr>\n",
       "      <th>462</th>\n",
       "      <td>Wright, Jessica N.</td>\n",
       "      <td>Employee</td>\n",
       "      <td>96900</td>\n",
       "      <td>Per Annum</td>\n",
       "      <td>DEPUTY DIRECTOR OF SCHEDULING FOR THE PRESIDENT</td>\n",
       "    </tr>\n",
       "    <tr>\n",
       "      <th>463</th>\n",
       "      <td>Yeager Kaplan, Jennifer F.</td>\n",
       "      <td>Employee</td>\n",
       "      <td>66300</td>\n",
       "      <td>Per Annum</td>\n",
       "      <td>SPECIAL ASSISTANT TO THE DIRECTOR OF PUBLIC EN...</td>\n",
       "    </tr>\n",
       "    <tr>\n",
       "      <th>464</th>\n",
       "      <td>Young, Jr., Reginald D.</td>\n",
       "      <td>Employee</td>\n",
       "      <td>60232</td>\n",
       "      <td>Per Annum</td>\n",
       "      <td>RECORDS MANAGEMENT ANALYST</td>\n",
       "    </tr>\n",
       "    <tr>\n",
       "      <th>466</th>\n",
       "      <td>Young, Latoya A.</td>\n",
       "      <td>Employee</td>\n",
       "      <td>58511</td>\n",
       "      <td>Per Annum</td>\n",
       "      <td>RECORDS MANAGEMENT ANALYST</td>\n",
       "    </tr>\n",
       "    <tr>\n",
       "      <th>468</th>\n",
       "      <td>Zichal, Heather R.</td>\n",
       "      <td>Employee</td>\n",
       "      <td>100000</td>\n",
       "      <td>Per Annum</td>\n",
       "      <td>DEPUTY ASSISTANT TO THE PRESIDENT FOR ENERGY A...</td>\n",
       "    </tr>\n",
       "  </tbody>\n",
       "</table>\n",
       "<p>321 rows × 5 columns</p>\n",
       "</div>"
      ],
      "text/plain": [
       "                  Employee Name Employee Status  Salary  Pay Basis  \\\n",
       "0               Abrams, Adam W.        Employee   66300  Per Annum   \n",
       "2               Agnew, David P.        Employee   93840  Per Annum   \n",
       "3                Albino, James         Employee   91800  Per Annum   \n",
       "4          Aldy, Jr., Joseph E.        Employee  130500  Per Annum   \n",
       "6          Amorsingh, Lucius L.        Employee   56092  Per Annum   \n",
       "..                          ...             ...     ...        ...   \n",
       "462          Wright, Jessica N.        Employee   96900  Per Annum   \n",
       "463  Yeager Kaplan, Jennifer F.        Employee   66300  Per Annum   \n",
       "464     Young, Jr., Reginald D.        Employee   60232  Per Annum   \n",
       "466            Young, Latoya A.        Employee   58511  Per Annum   \n",
       "468          Zichal, Heather R.        Employee  100000  Per Annum   \n",
       "\n",
       "                                        Position Title  \n",
       "0             WESTERN REGIONAL COMMUNICATIONS DIRECTOR  \n",
       "2         DEPUTY DIRECTOR OF INTERGOVERNMENTAL AFFAIRS  \n",
       "3                               SENIOR PROGRAM MANAGER  \n",
       "4    SPECIAL ASSISTANT TO THE PRESIDENT FOR ENERGY ...  \n",
       "6                                    SPECIAL ASSISTANT  \n",
       "..                                                 ...  \n",
       "462    DEPUTY DIRECTOR OF SCHEDULING FOR THE PRESIDENT  \n",
       "463  SPECIAL ASSISTANT TO THE DIRECTOR OF PUBLIC EN...  \n",
       "464                         RECORDS MANAGEMENT ANALYST  \n",
       "466                         RECORDS MANAGEMENT ANALYST  \n",
       "468  DEPUTY ASSISTANT TO THE PRESIDENT FOR ENERGY A...  \n",
       "\n",
       "[321 rows x 5 columns]"
      ]
     },
     "execution_count": 14,
     "metadata": {},
     "output_type": "execute_result"
    }
   ],
   "source": [
    "Report_2010_to_Congress_on_White_House_Staff[Report_2010_to_Congress_on_White_House_Staff['Salary'] > 50000]"
   ]
  },
  {
   "cell_type": "code",
   "execution_count": 19,
   "metadata": {},
   "outputs": [
    {
     "data": {
      "text/html": [
       "<div>\n",
       "<style scoped>\n",
       "    .dataframe tbody tr th:only-of-type {\n",
       "        vertical-align: middle;\n",
       "    }\n",
       "\n",
       "    .dataframe tbody tr th {\n",
       "        vertical-align: top;\n",
       "    }\n",
       "\n",
       "    .dataframe thead th {\n",
       "        text-align: right;\n",
       "    }\n",
       "</style>\n",
       "<table border=\"1\" class=\"dataframe\">\n",
       "  <thead>\n",
       "    <tr style=\"text-align: right;\">\n",
       "      <th></th>\n",
       "      <th>Employee Name</th>\n",
       "      <th>Employee Status</th>\n",
       "      <th>Salary</th>\n",
       "      <th>Pay Basis</th>\n",
       "      <th>Position Title</th>\n",
       "    </tr>\n",
       "  </thead>\n",
       "  <tbody>\n",
       "    <tr>\n",
       "      <th>453</th>\n",
       "      <td>White, Cleo</td>\n",
       "      <td>Detailee</td>\n",
       "      <td>65393</td>\n",
       "      <td>Per Annum</td>\n",
       "      <td>ANALYST</td>\n",
       "    </tr>\n",
       "  </tbody>\n",
       "</table>\n",
       "</div>"
      ],
      "text/plain": [
       "    Employee Name Employee Status  Salary  Pay Basis Position Title\n",
       "453   White, Cleo        Detailee   65393  Per Annum        ANALYST"
      ]
     },
     "execution_count": 19,
     "metadata": {},
     "output_type": "execute_result"
    }
   ],
   "source": [
    "Report_2010_to_Congress_on_White_House_Staff[Report_2010_to_Congress_on_White_House_Staff['Salary'] > 50000][Report_2010_to_Congress_on_White_House_Staff['Position Title']=='ANALYST']"
   ]
  },
  {
   "cell_type": "code",
   "execution_count": 18,
   "metadata": {},
   "outputs": [],
   "source": [
    "import warnings\n",
    "warnings.filterwarnings('ignore')"
   ]
  },
  {
   "cell_type": "code",
   "execution_count": 25,
   "metadata": {},
   "outputs": [
    {
     "data": {
      "text/html": [
       "<div>\n",
       "<style scoped>\n",
       "    .dataframe tbody tr th:only-of-type {\n",
       "        vertical-align: middle;\n",
       "    }\n",
       "\n",
       "    .dataframe tbody tr th {\n",
       "        vertical-align: top;\n",
       "    }\n",
       "\n",
       "    .dataframe thead th {\n",
       "        text-align: right;\n",
       "    }\n",
       "</style>\n",
       "<table border=\"1\" class=\"dataframe\">\n",
       "  <thead>\n",
       "    <tr style=\"text-align: right;\">\n",
       "      <th></th>\n",
       "      <th>Employee Name</th>\n",
       "      <th>Employee Status</th>\n",
       "      <th>Salary</th>\n",
       "      <th>Pay Basis</th>\n",
       "      <th>Position Title</th>\n",
       "    </tr>\n",
       "  </thead>\n",
       "  <tbody>\n",
       "    <tr>\n",
       "      <th>14</th>\n",
       "      <td>Ayling, Lindsay A.</td>\n",
       "      <td>Employee</td>\n",
       "      <td>42000</td>\n",
       "      <td>Per Annum</td>\n",
       "      <td>ANALYST</td>\n",
       "    </tr>\n",
       "    <tr>\n",
       "      <th>55</th>\n",
       "      <td>Campos, David R.</td>\n",
       "      <td>Employee</td>\n",
       "      <td>42000</td>\n",
       "      <td>Per Annum</td>\n",
       "      <td>ANALYST</td>\n",
       "    </tr>\n",
       "    <tr>\n",
       "      <th>63</th>\n",
       "      <td>Castillo, Laura M.</td>\n",
       "      <td>Employee</td>\n",
       "      <td>42000</td>\n",
       "      <td>Per Annum</td>\n",
       "      <td>ANALYST</td>\n",
       "    </tr>\n",
       "    <tr>\n",
       "      <th>104</th>\n",
       "      <td>Dorsett, Craig M.</td>\n",
       "      <td>Employee</td>\n",
       "      <td>42000</td>\n",
       "      <td>Per Annum</td>\n",
       "      <td>ANALYST</td>\n",
       "    </tr>\n",
       "    <tr>\n",
       "      <th>154</th>\n",
       "      <td>Grant, Kathryn A.</td>\n",
       "      <td>Employee</td>\n",
       "      <td>42000</td>\n",
       "      <td>Per Annum</td>\n",
       "      <td>ANALYST</td>\n",
       "    </tr>\n",
       "    <tr>\n",
       "      <th>167</th>\n",
       "      <td>Hegde, Shilpa S.</td>\n",
       "      <td>Employee</td>\n",
       "      <td>42000</td>\n",
       "      <td>Per Annum</td>\n",
       "      <td>ANALYST</td>\n",
       "    </tr>\n",
       "    <tr>\n",
       "      <th>277</th>\n",
       "      <td>McGinnis, Patricia G.</td>\n",
       "      <td>Employee</td>\n",
       "      <td>0</td>\n",
       "      <td>Per Annum</td>\n",
       "      <td>ADVISOR</td>\n",
       "    </tr>\n",
       "    <tr>\n",
       "      <th>284</th>\n",
       "      <td>Metcalf, Ryan D.</td>\n",
       "      <td>Employee</td>\n",
       "      <td>42000</td>\n",
       "      <td>Per Annum</td>\n",
       "      <td>ANALYST</td>\n",
       "    </tr>\n",
       "    <tr>\n",
       "      <th>338</th>\n",
       "      <td>Posey, Stacie M.</td>\n",
       "      <td>Employee</td>\n",
       "      <td>42000</td>\n",
       "      <td>Per Annum</td>\n",
       "      <td>ANALYST</td>\n",
       "    </tr>\n",
       "    <tr>\n",
       "      <th>353</th>\n",
       "      <td>Robertson, Ian T.</td>\n",
       "      <td>Employee</td>\n",
       "      <td>42000</td>\n",
       "      <td>Per Annum</td>\n",
       "      <td>ANALYST</td>\n",
       "    </tr>\n",
       "    <tr>\n",
       "      <th>373</th>\n",
       "      <td>Schaub, Matthew J.</td>\n",
       "      <td>Employee</td>\n",
       "      <td>42000</td>\n",
       "      <td>Per Annum</td>\n",
       "      <td>ANALYST</td>\n",
       "    </tr>\n",
       "    <tr>\n",
       "      <th>434</th>\n",
       "      <td>Utech, Daniel G.</td>\n",
       "      <td>Detailee</td>\n",
       "      <td>130000</td>\n",
       "      <td>Per Annum</td>\n",
       "      <td>ADVISOR</td>\n",
       "    </tr>\n",
       "    <tr>\n",
       "      <th>453</th>\n",
       "      <td>White, Cleo</td>\n",
       "      <td>Detailee</td>\n",
       "      <td>65393</td>\n",
       "      <td>Per Annum</td>\n",
       "      <td>ANALYST</td>\n",
       "    </tr>\n",
       "  </tbody>\n",
       "</table>\n",
       "</div>"
      ],
      "text/plain": [
       "             Employee Name Employee Status  Salary  Pay Basis Position Title\n",
       "14      Ayling, Lindsay A.        Employee   42000  Per Annum        ANALYST\n",
       "55        Campos, David R.        Employee   42000  Per Annum        ANALYST\n",
       "63      Castillo, Laura M.        Employee   42000  Per Annum        ANALYST\n",
       "104      Dorsett, Craig M.        Employee   42000  Per Annum        ANALYST\n",
       "154      Grant, Kathryn A.        Employee   42000  Per Annum        ANALYST\n",
       "167       Hegde, Shilpa S.        Employee   42000  Per Annum        ANALYST\n",
       "277  McGinnis, Patricia G.        Employee       0  Per Annum        ADVISOR\n",
       "284       Metcalf, Ryan D.        Employee   42000  Per Annum        ANALYST\n",
       "338       Posey, Stacie M.        Employee   42000  Per Annum        ANALYST\n",
       "353      Robertson, Ian T.        Employee   42000  Per Annum        ANALYST\n",
       "373     Schaub, Matthew J.        Employee   42000  Per Annum        ANALYST\n",
       "434       Utech, Daniel G.        Detailee  130000  Per Annum        ADVISOR\n",
       "453            White, Cleo        Detailee   65393  Per Annum        ANALYST"
      ]
     },
     "execution_count": 25,
     "metadata": {},
     "output_type": "execute_result"
    }
   ],
   "source": [
    "Report_2010_to_Congress_on_White_House_Staff[(Report_2010_to_Congress_on_White_House_Staff['Position Title']=='ANALYST') | (Report_2010_to_Congress_on_White_House_Staff['Position Title']=='ADVISOR')]"
   ]
  },
  {
   "cell_type": "code",
   "execution_count": 105,
   "metadata": {
    "scrolled": false
   },
   "outputs": [
    {
     "data": {
      "text/html": [
       "<div>\n",
       "<style scoped>\n",
       "    .dataframe tbody tr th:only-of-type {\n",
       "        vertical-align: middle;\n",
       "    }\n",
       "\n",
       "    .dataframe tbody tr th {\n",
       "        vertical-align: top;\n",
       "    }\n",
       "\n",
       "    .dataframe thead th {\n",
       "        text-align: right;\n",
       "    }\n",
       "</style>\n",
       "<table border=\"1\" class=\"dataframe\">\n",
       "  <thead>\n",
       "    <tr style=\"text-align: right;\">\n",
       "      <th></th>\n",
       "      <th>Employee Name</th>\n",
       "      <th>Employee Status</th>\n",
       "      <th>Pay Basis</th>\n",
       "      <th>Salary</th>\n",
       "    </tr>\n",
       "    <tr>\n",
       "      <th>Position Title</th>\n",
       "      <th></th>\n",
       "      <th></th>\n",
       "      <th></th>\n",
       "      <th></th>\n",
       "    </tr>\n",
       "  </thead>\n",
       "  <tbody>\n",
       "    <tr>\n",
       "      <th>ADVANCE COORDINATOR</th>\n",
       "      <td>Faulman, Michael T.</td>\n",
       "      <td>Employee</td>\n",
       "      <td>Per Annum</td>\n",
       "      <td>42000</td>\n",
       "    </tr>\n",
       "    <tr>\n",
       "      <th>ADVISOR</th>\n",
       "      <td>Utech, Daniel G.</td>\n",
       "      <td>Employee</td>\n",
       "      <td>Per Annum</td>\n",
       "      <td>130000</td>\n",
       "    </tr>\n",
       "    <tr>\n",
       "      <th>ANALYST</th>\n",
       "      <td>White, Cleo</td>\n",
       "      <td>Employee</td>\n",
       "      <td>Per Annum</td>\n",
       "      <td>65393</td>\n",
       "    </tr>\n",
       "    <tr>\n",
       "      <th>ASSISTANT COUNSEL FOR NOMINATIONS</th>\n",
       "      <td>Kumar, Pravin D.</td>\n",
       "      <td>Employee</td>\n",
       "      <td>Per Annum</td>\n",
       "      <td>50000</td>\n",
       "    </tr>\n",
       "    <tr>\n",
       "      <th>ASSISTANT DIRECTOR</th>\n",
       "      <td>Stracko, Jill A.</td>\n",
       "      <td>Employee</td>\n",
       "      <td>Per Annum</td>\n",
       "      <td>66300</td>\n",
       "    </tr>\n",
       "    <tr>\n",
       "      <th>...</th>\n",
       "      <td>...</td>\n",
       "      <td>...</td>\n",
       "      <td>...</td>\n",
       "      <td>...</td>\n",
       "    </tr>\n",
       "    <tr>\n",
       "      <th>VETTER</th>\n",
       "      <td>Rosalsky, Gregory E.</td>\n",
       "      <td>Employee</td>\n",
       "      <td>Per Annum</td>\n",
       "      <td>45000</td>\n",
       "    </tr>\n",
       "    <tr>\n",
       "      <th>WEST WING RECEPTIONIST</th>\n",
       "      <td>Page, Darienne M.</td>\n",
       "      <td>Employee</td>\n",
       "      <td>Per Annum</td>\n",
       "      <td>42000</td>\n",
       "    </tr>\n",
       "    <tr>\n",
       "      <th>WESTERN POLITICAL DIRECTOR</th>\n",
       "      <td>Schwartz, Alison K.</td>\n",
       "      <td>Employee</td>\n",
       "      <td>Per Annum</td>\n",
       "      <td>75000</td>\n",
       "    </tr>\n",
       "    <tr>\n",
       "      <th>WESTERN REGIONAL COMMUNICATIONS DIRECTOR</th>\n",
       "      <td>Abrams, Adam W.</td>\n",
       "      <td>Employee</td>\n",
       "      <td>Per Annum</td>\n",
       "      <td>66300</td>\n",
       "    </tr>\n",
       "    <tr>\n",
       "      <th>WHITE HOUSE BUSINESS LIAISON</th>\n",
       "      <td>Vale, Elizabeth A.</td>\n",
       "      <td>Detailee</td>\n",
       "      <td>Per Annum</td>\n",
       "      <td>132009</td>\n",
       "    </tr>\n",
       "  </tbody>\n",
       "</table>\n",
       "<p>269 rows × 4 columns</p>\n",
       "</div>"
      ],
      "text/plain": [
       "                                                 Employee Name  \\\n",
       "Position Title                                                   \n",
       "ADVANCE COORDINATOR                        Faulman, Michael T.   \n",
       "ADVISOR                                       Utech, Daniel G.   \n",
       "ANALYST                                            White, Cleo   \n",
       "ASSISTANT COUNSEL FOR NOMINATIONS             Kumar, Pravin D.   \n",
       "ASSISTANT DIRECTOR                            Stracko, Jill A.   \n",
       "...                                                        ...   \n",
       "VETTER                                    Rosalsky, Gregory E.   \n",
       "WEST WING RECEPTIONIST                       Page, Darienne M.   \n",
       "WESTERN POLITICAL DIRECTOR                 Schwartz, Alison K.   \n",
       "WESTERN REGIONAL COMMUNICATIONS DIRECTOR       Abrams, Adam W.   \n",
       "WHITE HOUSE BUSINESS LIAISON                Vale, Elizabeth A.   \n",
       "\n",
       "                                         Employee Status  Pay Basis  Salary  \n",
       "Position Title                                                               \n",
       "ADVANCE COORDINATOR                             Employee  Per Annum   42000  \n",
       "ADVISOR                                         Employee  Per Annum  130000  \n",
       "ANALYST                                         Employee  Per Annum   65393  \n",
       "ASSISTANT COUNSEL FOR NOMINATIONS               Employee  Per Annum   50000  \n",
       "ASSISTANT DIRECTOR                              Employee  Per Annum   66300  \n",
       "...                                                  ...        ...     ...  \n",
       "VETTER                                          Employee  Per Annum   45000  \n",
       "WEST WING RECEPTIONIST                          Employee  Per Annum   42000  \n",
       "WESTERN POLITICAL DIRECTOR                      Employee  Per Annum   75000  \n",
       "WESTERN REGIONAL COMMUNICATIONS DIRECTOR        Employee  Per Annum   66300  \n",
       "WHITE HOUSE BUSINESS LIAISON                    Detailee  Per Annum  132009  \n",
       "\n",
       "[269 rows x 4 columns]"
      ]
     },
     "execution_count": 105,
     "metadata": {},
     "output_type": "execute_result"
    }
   ],
   "source": [
    "pd.pivot_table(Report_2010_to_Congress_on_White_House_Staff,columns=Report_2010_to_Congress_on_White_House_Staff['Position Title'],aggfunc='max').T"
   ]
  },
  {
   "cell_type": "code",
   "execution_count": 42,
   "metadata": {},
   "outputs": [
    {
     "data": {
      "text/plain": [
       "<pandas.core.groupby.generic.SeriesGroupBy object at 0x000001EEC6EDA070>"
      ]
     },
     "execution_count": 42,
     "metadata": {},
     "output_type": "execute_result"
    }
   ],
   "source": [
    "Report_2010_to_Congress_on_White_House_Staff.groupby(by=Report_2010_to_Congress_on_White_House_Staff['Position Title']).Salary"
   ]
  },
  {
   "cell_type": "markdown",
   "metadata": {
    "colab_type": "text",
    "id": "JebwdaMDCfey"
   },
   "source": [
    "### 2. Read the dataset(chipotle)\n",
    "\n",
    "A. Select only the products with quantity equals to 1.  (1 marks)\n",
    " \n",
    "B. Count the item_price is greater than 10(1 mark)\n",
    " \n",
    "C. Find How many times Veggie Salad Bowl ordered? (1 mark)\n",
    " \n",
    "D. Find the quantity of the most expensive item ordered? (2 mark)\n",
    " \n"
   ]
  },
  {
   "cell_type": "code",
   "execution_count": 44,
   "metadata": {
    "colab": {},
    "colab_type": "code",
    "id": "AZd3hGfPCfez"
   },
   "outputs": [
    {
     "data": {
      "text/plain": [
       "0               Chips and Fresh Tomato Salsa\n",
       "1                                       Izze\n",
       "2                           Nantucket Nectar\n",
       "3      Chips and Tomatillo-Green Chili Salsa\n",
       "5                               Chicken Bowl\n",
       "                       ...                  \n",
       "464                             Chicken Bowl\n",
       "465                             Chicken Bowl\n",
       "466                      Chips and Guacamole\n",
       "467                           Veggie Burrito\n",
       "468                      Chips and Guacamole\n",
       "Name: item_name, Length: 444, dtype: object"
      ]
     },
     "execution_count": 44,
     "metadata": {},
     "output_type": "execute_result"
    }
   ],
   "source": [
    "chipotle[chipotle.quantity==1]['item_name']"
   ]
  },
  {
   "cell_type": "code",
   "execution_count": 106,
   "metadata": {},
   "outputs": [
    {
     "data": {
      "text/html": [
       "<div>\n",
       "<style scoped>\n",
       "    .dataframe tbody tr th:only-of-type {\n",
       "        vertical-align: middle;\n",
       "    }\n",
       "\n",
       "    .dataframe tbody tr th {\n",
       "        vertical-align: top;\n",
       "    }\n",
       "\n",
       "    .dataframe thead th {\n",
       "        text-align: right;\n",
       "    }\n",
       "</style>\n",
       "<table border=\"1\" class=\"dataframe\">\n",
       "  <thead>\n",
       "    <tr style=\"text-align: right;\">\n",
       "      <th></th>\n",
       "      <th>order_id</th>\n",
       "      <th>quantity</th>\n",
       "      <th>item_name</th>\n",
       "      <th>choice_description</th>\n",
       "      <th>item_price</th>\n",
       "    </tr>\n",
       "  </thead>\n",
       "  <tbody>\n",
       "    <tr>\n",
       "      <th>0</th>\n",
       "      <td>1</td>\n",
       "      <td>1</td>\n",
       "      <td>Chips and Fresh Tomato Salsa</td>\n",
       "      <td>NaN</td>\n",
       "      <td>2.39</td>\n",
       "    </tr>\n",
       "    <tr>\n",
       "      <th>1</th>\n",
       "      <td>1</td>\n",
       "      <td>1</td>\n",
       "      <td>Izze</td>\n",
       "      <td>[Clementine]</td>\n",
       "      <td>3.39</td>\n",
       "    </tr>\n",
       "    <tr>\n",
       "      <th>2</th>\n",
       "      <td>1</td>\n",
       "      <td>1</td>\n",
       "      <td>Nantucket Nectar</td>\n",
       "      <td>[Apple]</td>\n",
       "      <td>3.39</td>\n",
       "    </tr>\n",
       "    <tr>\n",
       "      <th>3</th>\n",
       "      <td>1</td>\n",
       "      <td>1</td>\n",
       "      <td>Chips and Tomatillo-Green Chili Salsa</td>\n",
       "      <td>NaN</td>\n",
       "      <td>2.39</td>\n",
       "    </tr>\n",
       "    <tr>\n",
       "      <th>4</th>\n",
       "      <td>2</td>\n",
       "      <td>2</td>\n",
       "      <td>Chicken Bowl</td>\n",
       "      <td>[Tomatillo-Red Chili Salsa (Hot), [Black Beans...</td>\n",
       "      <td>16.98</td>\n",
       "    </tr>\n",
       "    <tr>\n",
       "      <th>...</th>\n",
       "      <td>...</td>\n",
       "      <td>...</td>\n",
       "      <td>...</td>\n",
       "      <td>...</td>\n",
       "      <td>...</td>\n",
       "    </tr>\n",
       "    <tr>\n",
       "      <th>464</th>\n",
       "      <td>199</td>\n",
       "      <td>1</td>\n",
       "      <td>Chicken Bowl</td>\n",
       "      <td>[Tomatillo Green Chili Salsa, [Rice, Black Bea...</td>\n",
       "      <td>8.75</td>\n",
       "    </tr>\n",
       "    <tr>\n",
       "      <th>465</th>\n",
       "      <td>199</td>\n",
       "      <td>1</td>\n",
       "      <td>Chicken Bowl</td>\n",
       "      <td>[Roasted Chili Corn Salsa, [Rice, Fajita Veget...</td>\n",
       "      <td>8.75</td>\n",
       "    </tr>\n",
       "    <tr>\n",
       "      <th>466</th>\n",
       "      <td>199</td>\n",
       "      <td>1</td>\n",
       "      <td>Chips and Guacamole</td>\n",
       "      <td>NaN</td>\n",
       "      <td>4.45</td>\n",
       "    </tr>\n",
       "    <tr>\n",
       "      <th>467</th>\n",
       "      <td>200</td>\n",
       "      <td>1</td>\n",
       "      <td>Veggie Burrito</td>\n",
       "      <td>[Fresh Tomato Salsa (Mild), [Pinto Beans, Rice...</td>\n",
       "      <td>8.49</td>\n",
       "    </tr>\n",
       "    <tr>\n",
       "      <th>468</th>\n",
       "      <td>200</td>\n",
       "      <td>1</td>\n",
       "      <td>Chips and Guacamole</td>\n",
       "      <td>NaN</td>\n",
       "      <td>3.99</td>\n",
       "    </tr>\n",
       "  </tbody>\n",
       "</table>\n",
       "<p>469 rows × 5 columns</p>\n",
       "</div>"
      ],
      "text/plain": [
       "     order_id  quantity                              item_name  \\\n",
       "0           1         1           Chips and Fresh Tomato Salsa   \n",
       "1           1         1                                   Izze   \n",
       "2           1         1                       Nantucket Nectar   \n",
       "3           1         1  Chips and Tomatillo-Green Chili Salsa   \n",
       "4           2         2                           Chicken Bowl   \n",
       "..        ...       ...                                    ...   \n",
       "464       199         1                           Chicken Bowl   \n",
       "465       199         1                           Chicken Bowl   \n",
       "466       199         1                    Chips and Guacamole   \n",
       "467       200         1                         Veggie Burrito   \n",
       "468       200         1                    Chips and Guacamole   \n",
       "\n",
       "                                    choice_description item_price  \n",
       "0                                                  NaN      2.39   \n",
       "1                                         [Clementine]      3.39   \n",
       "2                                              [Apple]      3.39   \n",
       "3                                                  NaN      2.39   \n",
       "4    [Tomatillo-Red Chili Salsa (Hot), [Black Beans...     16.98   \n",
       "..                                                 ...        ...  \n",
       "464  [Tomatillo Green Chili Salsa, [Rice, Black Bea...      8.75   \n",
       "465  [Roasted Chili Corn Salsa, [Rice, Fajita Veget...      8.75   \n",
       "466                                                NaN      4.45   \n",
       "467  [Fresh Tomato Salsa (Mild), [Pinto Beans, Rice...      8.49   \n",
       "468                                                NaN      3.99   \n",
       "\n",
       "[469 rows x 5 columns]"
      ]
     },
     "execution_count": 106,
     "metadata": {},
     "output_type": "execute_result"
    }
   ],
   "source": [
    "chipotle.item_price.replace({'\\$':''},regex=True,inplace=True)\n",
    "chipotle"
   ]
  },
  {
   "cell_type": "code",
   "execution_count": 88,
   "metadata": {},
   "outputs": [
    {
     "data": {
      "text/plain": [
       "3"
      ]
     },
     "execution_count": 88,
     "metadata": {},
     "output_type": "execute_result"
    }
   ],
   "source": [
    "chipotle[chipotle['item_name']=='Veggie Salad Bowl']['order_id'].count()"
   ]
  },
  {
   "cell_type": "code",
   "execution_count": 95,
   "metadata": {},
   "outputs": [],
   "source": [
    "chipotle.to_csv(\"data.csv\")"
   ]
  },
  {
   "cell_type": "code",
   "execution_count": 96,
   "metadata": {},
   "outputs": [],
   "source": [
    "c = pd.read_csv(\"data.csv\")"
   ]
  },
  {
   "cell_type": "code",
   "execution_count": 108,
   "metadata": {},
   "outputs": [
    {
     "data": {
      "text/plain": [
       "110"
      ]
     },
     "execution_count": 108,
     "metadata": {},
     "output_type": "execute_result"
    }
   ],
   "source": [
    "c[c.item_price > 10]['order_id'].count()"
   ]
  },
  {
   "cell_type": "code",
   "execution_count": 104,
   "metadata": {},
   "outputs": [
    {
     "data": {
      "text/plain": [
       "409    3\n",
       "Name: quantity, dtype: int64"
      ]
     },
     "execution_count": 104,
     "metadata": {},
     "output_type": "execute_result"
    }
   ],
   "source": [
    "c[c.item_price==c.item_price.max()].quantity"
   ]
  },
  {
   "cell_type": "markdown",
   "metadata": {
    "colab_type": "text",
    "id": "Ca-1EOu7Cfe4"
   },
   "source": [
    "### 3. Read the dataset(Euro_2012_stats_TEAM.CSV)\n",
    "\n",
    "A. How many teams participated in the Euro2012 dataset.  (1 mark)\n",
    "\n",
    "B. Create a data frame with a name \"discipline\" consisting of (Team, Yellow Cards and Red Cards) (1 mark)\n",
    "C. Find average Yellow Cards given per Team (1 mark)\n",
    "\n",
    "D. Find which teams  scored more than 6 goals(1 mark)\n",
    "\n",
    "E. Display the teams start with \" G \"(1 mark)"
   ]
  },
  {
   "cell_type": "code",
   "execution_count": null,
   "metadata": {
    "colab": {},
    "colab_type": "code",
    "id": "nbs2GNvkCfe4"
   },
   "outputs": [],
   "source": []
  },
  {
   "cell_type": "markdown",
   "metadata": {
    "colab_type": "text",
    "id": "j6K4FwN1Cfe6"
   },
   "source": [
    "### 4.Read the dataset ( hotdog)\n",
    "\n",
    "A. Give Column names as Type, Calories, Sodium? (1 Mark)\n",
    "\n",
    "B. Find out average Calories and average Sodium vales for each Hotdog type (1 Mark)\n",
    "\n",
    "C. Find out rows having Calories less than 120 and Sodium values greater than 300 (1 Marks)\n",
    "\n",
    "D. Create Column Grade having values 'A' and 'B' as follows: \n",
    "    \n",
    "Grade A:  Items having Calorie value less than 150 and Sodium value less than 400  \n",
    "\n",
    "Grade B:   Otherwise (2 Marks)\n"
   ]
  },
  {
   "cell_type": "markdown",
   "metadata": {
    "colab_type": "text",
    "id": "hDGYJ7sVCfe7"
   },
   "source": [
    "--------------"
   ]
  },
  {
   "cell_type": "markdown",
   "metadata": {
    "colab_type": "text",
    "id": "gXqnKPeSW0cy"
   },
   "source": [
    "# SECTION B: 20 MARKS"
   ]
  },
  {
   "cell_type": "markdown",
   "metadata": {
    "colab_type": "text",
    "id": "BLmTpAmSCfe8"
   },
   "source": [
    "----------"
   ]
  },
  {
   "cell_type": "markdown",
   "metadata": {
    "colab_type": "text",
    "id": "1l7zNvDlCfe8"
   },
   "source": [
    "### 5. Read the dataset (stock_data)\n",
    "\n",
    "A. Give column names as `timestamp`, `AA`, `AAPL`, `GE`, `IBM`, `JNJ`, `MSFT`, `PEP`, `SPX`, `XOM`. List all the columns of the dataset, Identify the numerical, categorical columns. (4 Marks)\n",
    "\n",
    "B. Convert the column `timestamp` into python datetime object (1 Marks)\n",
    "\n",
    "C. Find Average value of stock `AAPL` in the year 2009  (5 Marks)\n"
   ]
  },
  {
   "cell_type": "code",
   "execution_count": null,
   "metadata": {
    "colab": {},
    "colab_type": "code",
    "id": "SKBiAam8Cfe8"
   },
   "outputs": [],
   "source": []
  },
  {
   "cell_type": "markdown",
   "metadata": {
    "colab_type": "text",
    "id": "pppbaKMpCfe-"
   },
   "source": [
    "### 6. Read the dataset(Report_2010_to_Congress_on_White_House_Staff) and Answer the below questions?\n",
    "    \n",
    "**Exercise:1** Find the position title to which more amount is spent on salaries? (6 marks)\n",
    "\n",
    "**Exercise:2**\n",
    "\n",
    "2A. Find the position title to which the least amount is spent on salaries? (2 marks)\n",
    "\n",
    "2B) Find the highest-paid position title? (2 marks)\n",
    "\n",
    "**Exercise:3**\n",
    "\n",
    "3.A)Find the least paid position title? (1 marks)\n",
    "\n",
    "3.B) Find the percentage of the amount spent on each position w.r.t Salaries? (3 marks)\n",
    "\n",
    "\n"
   ]
  },
  {
   "cell_type": "code",
   "execution_count": null,
   "metadata": {
    "colab": {},
    "colab_type": "code",
    "id": "bKwPe4nKCfe_"
   },
   "outputs": [],
   "source": []
  },
  {
   "cell_type": "markdown",
   "metadata": {
    "colab_type": "text",
    "id": "6rSkIIc8W0c1"
   },
   "source": [
    "------------------\n",
    "# SECTION C: 30 MARKS\n",
    "\n",
    "------------------"
   ]
  },
  {
   "cell_type": "markdown",
   "metadata": {
    "colab_type": "text",
    "id": "xAO0E8lzCffC"
   },
   "source": [
    "### 7. Read the dataset(Fifa) and Answer the below questions?"
   ]
  },
  {
   "cell_type": "code",
   "execution_count": null,
   "metadata": {
    "colab": {},
    "colab_type": "code",
    "id": "imEgDcChCffC"
   },
   "outputs": [],
   "source": []
  },
  {
   "cell_type": "code",
   "execution_count": null,
   "metadata": {
    "colab": {},
    "colab_type": "code",
    "id": "gJU4tJy1CffE"
   },
   "outputs": [],
   "source": []
  },
  {
   "cell_type": "markdown",
   "metadata": {
    "colab_type": "text",
    "id": "cBeCE69cCffG"
   },
   "source": [
    "### 7A).\tData Manipulation for Value Column (5 Marks).\n",
    "\n",
    "**Step1:** Clean Value column by removing '?' from each row.\n",
    "\n",
    "**Step2:** Convert the column in uniform unit i.e. 'K' by using given conversion rate 1 =1000 K and also remove the letter 'K' and 'M' from each row.\n",
    "\n",
    "**Step3:** Convert the Datatype of the column to 'float'\n",
    "\n",
    "**First 5 values of Sample output column should look like this:**\n",
    "\n",
    "\n",
    "|0   |    750.0|\n",
    "|----|-------|\n",
    "|1   |   21500.0|\n",
    "|2    |   4000.0|\n",
    "|3    |   240.0|\n",
    "|4    |   150.0|\n",
    "\n",
    "Name: Value, dtype: float64\n",
    "\n"
   ]
  },
  {
   "cell_type": "code",
   "execution_count": null,
   "metadata": {
    "colab": {},
    "colab_type": "code",
    "id": "lWddQY6NCffG"
   },
   "outputs": [],
   "source": []
  },
  {
   "cell_type": "markdown",
   "metadata": {
    "colab_type": "text",
    "id": "6-OwJ9pfCffI"
   },
   "source": [
    "### 7B).\tData Manipulation for Height Column (5 Marks).\n",
    "\n",
    "Step1: Convert Height column from Feet’ Inches unit to Inches unit by using given conversion rate 1 feet = 12 inches\n",
    "Step2: Convert the Datatype of the Height column to 'int'\n",
    "\n",
    "First 5 values of Sample Output Height column should look like this:\n",
    "    \n",
    "|0 |   70|\n",
    "|-|-|\n",
    "|1|    67|\n",
    "|2 |   67|\n",
    "|3  |  71|\n",
    "|4 |   66|\n",
    "Name: Height, dtype: int32\n"
   ]
  },
  {
   "cell_type": "code",
   "execution_count": null,
   "metadata": {
    "colab": {},
    "colab_type": "code",
    "id": "fBnB48xmCffI"
   },
   "outputs": [],
   "source": []
  },
  {
   "cell_type": "markdown",
   "metadata": {
    "colab_type": "text",
    "id": "m1JpvANmCffK"
   },
   "source": [
    "### 7C).\tData Manipulation for Weight Column (5 Marks).\n",
    "\n",
    "**Step1:** Clean Weight column by removing ‘lbs’ from each row’\n",
    "\n",
    "**Step2:** Convert the Datatype of the Weight column to 'int'\n",
    "\n",
    "**First 5 values of Sample Output Weight column should look like this:**\n",
    "\n",
    "|0  |  143|\n",
    "|--|--|\n",
    "|1  |  150|\n",
    "|2  |  159|\n",
    "|3  |  168|\n",
    "|4  |  154|\n",
    "|Name: Weight,| dtype: int32|\n"
   ]
  },
  {
   "cell_type": "code",
   "execution_count": null,
   "metadata": {
    "colab": {},
    "colab_type": "code",
    "id": "qTndhcslCffK"
   },
   "outputs": [],
   "source": []
  },
  {
   "cell_type": "markdown",
   "metadata": {
    "colab_type": "text",
    "id": "_iQXVwVyCffM"
   },
   "source": [
    "### 7D).   Find how many different countries players data is included in the dataset (1 Mark)"
   ]
  },
  {
   "cell_type": "code",
   "execution_count": null,
   "metadata": {
    "colab": {},
    "colab_type": "code",
    "id": "qfKuSxAMCffM"
   },
   "outputs": [],
   "source": []
  },
  {
   "cell_type": "markdown",
   "metadata": {
    "colab_type": "text",
    "id": "XeHyNvoTCffP"
   },
   "source": [
    "### 7E).\tFind out highest Valued player from the dataset (1 Mark)"
   ]
  },
  {
   "cell_type": "code",
   "execution_count": null,
   "metadata": {
    "colab": {},
    "colab_type": "code",
    "id": "CRWFkYA0CffP"
   },
   "outputs": [],
   "source": []
  },
  {
   "cell_type": "markdown",
   "metadata": {
    "colab_type": "text",
    "id": "85EzfwUsCffR"
   },
   "source": [
    "### 7F).\tFind which country's players data is maximum in the dataset and what’s is the count of it (2 Marks)"
   ]
  },
  {
   "cell_type": "code",
   "execution_count": null,
   "metadata": {
    "colab": {},
    "colab_type": "code",
    "id": "Mj2wLlg9CffR"
   },
   "outputs": [],
   "source": []
  },
  {
   "cell_type": "markdown",
   "metadata": {
    "colab_type": "text",
    "id": "JvyG6LBlCffT"
   },
   "source": [
    "### 7G)    Display top 10 clubs ordered by sum of all player’s current market value of that club (3 Marks)\n"
   ]
  },
  {
   "cell_type": "code",
   "execution_count": null,
   "metadata": {
    "colab": {},
    "colab_type": "code",
    "id": "L1WGec2HCffT"
   },
   "outputs": [],
   "source": []
  },
  {
   "cell_type": "markdown",
   "metadata": {
    "colab_type": "text",
    "id": "1SiThaRxCffV"
   },
   "source": [
    "### 7H).    Count the number of players having International Reputation ratings = 4 from the clubs 'Juventus’ and ‘Be?ikta? JK’ (3 Marks)"
   ]
  },
  {
   "cell_type": "code",
   "execution_count": null,
   "metadata": {
    "colab": {},
    "colab_type": "code",
    "id": "mhnxctFUCffV"
   },
   "outputs": [],
   "source": []
  },
  {
   "cell_type": "markdown",
   "metadata": {
    "colab_type": "text",
    "id": "6U4eWGLaCffX"
   },
   "source": [
    "### 7I).\tFind out the names of the youngest and oldest players from the dataset and display the distribution of age using DISTPLOT (5 Marks)"
   ]
  },
  {
   "cell_type": "code",
   "execution_count": null,
   "metadata": {
    "colab": {},
    "colab_type": "code",
    "id": "0bm5flaQCffX"
   },
   "outputs": [],
   "source": []
  }
 ],
 "metadata": {
  "colab": {
   "collapsed_sections": [],
   "name": "NPV_FINAL_EXAM_SET_5_PAPER.ipynb",
   "provenance": []
  },
  "kernelspec": {
   "display_name": "Python 3",
   "language": "python",
   "name": "python3"
  },
  "language_info": {
   "codemirror_mode": {
    "name": "ipython",
    "version": 3
   },
   "file_extension": ".py",
   "mimetype": "text/x-python",
   "name": "python",
   "nbconvert_exporter": "python",
   "pygments_lexer": "ipython3",
   "version": "3.8.5"
  }
 },
 "nbformat": 4,
 "nbformat_minor": 1
}
